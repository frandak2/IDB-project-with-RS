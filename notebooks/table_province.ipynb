{
 "cells": [
  {
   "cell_type": "code",
   "execution_count": 1,
   "metadata": {},
   "outputs": [],
   "source": [
    "import geopandas as gpd\n",
    "import pandas as pd\n",
    "import glob, os\n",
    "from shapely.geometry import Point\n",
    "import sidetable"
   ]
  },
  {
   "cell_type": "code",
   "execution_count": 2,
   "metadata": {},
   "outputs": [],
   "source": [
    "g = os.getcwd()\n",
    "g\n",
    "path = 'D:\\\\repos\\\\CIAT\\\\IDB_PROJECT'\n",
    "os.chdir(path)"
   ]
  },
  {
   "cell_type": "code",
   "execution_count": 3,
   "metadata": {},
   "outputs": [],
   "source": [
    "point = gpd.read_file(\"Data_IDB/new/Points_DR.shp\")"
   ]
  },
  {
   "cell_type": "code",
   "execution_count": 4,
   "metadata": {},
   "outputs": [
    {
     "data": {
      "text/html": [
       "<div>\n",
       "<style scoped>\n",
       "    .dataframe tbody tr th:only-of-type {\n",
       "        vertical-align: middle;\n",
       "    }\n",
       "\n",
       "    .dataframe tbody tr th {\n",
       "        vertical-align: top;\n",
       "    }\n",
       "\n",
       "    .dataframe thead th {\n",
       "        text-align: right;\n",
       "    }\n",
       "</style>\n",
       "<table border=\"1\" class=\"dataframe\">\n",
       "  <thead>\n",
       "    <tr style=\"text-align: right;\">\n",
       "      <th></th>\n",
       "      <th>cuest_id_b</th>\n",
       "      <th>parcela</th>\n",
       "      <th>cultivo</th>\n",
       "      <th>temporary_</th>\n",
       "      <th>superf_par</th>\n",
       "      <th>Y</th>\n",
       "      <th>X</th>\n",
       "      <th>patca</th>\n",
       "      <th>correccion</th>\n",
       "      <th>corregido</th>\n",
       "      <th>geometry</th>\n",
       "    </tr>\n",
       "  </thead>\n",
       "  <tbody>\n",
       "    <tr>\n",
       "      <th>0</th>\n",
       "      <td>1148</td>\n",
       "      <td>11</td>\n",
       "      <td>vainitas</td>\n",
       "      <td>1</td>\n",
       "      <td>1.886400</td>\n",
       "      <td>19.378860</td>\n",
       "      <td>-70.326825</td>\n",
       "      <td>0</td>\n",
       "      <td>Revisar área</td>\n",
       "      <td>Pueda que el área de influencia sea insuficiente</td>\n",
       "      <td>POINT (360661.122 2143283.741)</td>\n",
       "    </tr>\n",
       "    <tr>\n",
       "      <th>1</th>\n",
       "      <td>1150</td>\n",
       "      <td>11</td>\n",
       "      <td>yuca</td>\n",
       "      <td>1</td>\n",
       "      <td>1.131840</td>\n",
       "      <td>19.218753</td>\n",
       "      <td>-70.491992</td>\n",
       "      <td>0</td>\n",
       "      <td>ok</td>\n",
       "      <td>la zona de influencia contiene edificaciones y...</td>\n",
       "      <td>POINT (343160.366 2125704.581)</td>\n",
       "    </tr>\n",
       "    <tr>\n",
       "      <th>2</th>\n",
       "      <td>1412</td>\n",
       "      <td>21</td>\n",
       "      <td>tomate ensalada</td>\n",
       "      <td>1</td>\n",
       "      <td>1.572000</td>\n",
       "      <td>19.226785</td>\n",
       "      <td>-70.670206</td>\n",
       "      <td>0</td>\n",
       "      <td>ok</td>\n",
       "      <td>la zona de influenca tiene árboles</td>\n",
       "      <td>POINT (324430.912 2126763.878)</td>\n",
       "    </tr>\n",
       "    <tr>\n",
       "      <th>3</th>\n",
       "      <td>1414</td>\n",
       "      <td>21</td>\n",
       "      <td>tomate ensalada</td>\n",
       "      <td>1</td>\n",
       "      <td>1.572000</td>\n",
       "      <td>19.225070</td>\n",
       "      <td>-70.650963</td>\n",
       "      <td>0</td>\n",
       "      <td>Revisar área</td>\n",
       "      <td>se movió hacía la izquierda, la zona de influe...</td>\n",
       "      <td>POINT (326425.347 2126552.077)</td>\n",
       "    </tr>\n",
       "    <tr>\n",
       "      <th>4</th>\n",
       "      <td>1660</td>\n",
       "      <td>11</td>\n",
       "      <td>yuca</td>\n",
       "      <td>1</td>\n",
       "      <td>1.886400</td>\n",
       "      <td>19.352806</td>\n",
       "      <td>-70.403158</td>\n",
       "      <td>0</td>\n",
       "      <td>ok</td>\n",
       "      <td>la zona de influencia contiene árboles</td>\n",
       "      <td>POINT (352620.231 2140463.520)</td>\n",
       "    </tr>\n",
       "    <tr>\n",
       "      <th>...</th>\n",
       "      <td>...</td>\n",
       "      <td>...</td>\n",
       "      <td>...</td>\n",
       "      <td>...</td>\n",
       "      <td>...</td>\n",
       "      <td>...</td>\n",
       "      <td>...</td>\n",
       "      <td>...</td>\n",
       "      <td>...</td>\n",
       "      <td>...</td>\n",
       "      <td>...</td>\n",
       "    </tr>\n",
       "    <tr>\n",
       "      <th>430</th>\n",
       "      <td>4045</td>\n",
       "      <td>12</td>\n",
       "      <td>cafe</td>\n",
       "      <td>0</td>\n",
       "      <td>5.030399</td>\n",
       "      <td>18.752170</td>\n",
       "      <td>-70.896622</td>\n",
       "      <td>1</td>\n",
       "      <td>ok</td>\n",
       "      <td>ok</td>\n",
       "      <td>POINT (300057.908 2074470.099)</td>\n",
       "    </tr>\n",
       "    <tr>\n",
       "      <th>431</th>\n",
       "      <td>4055</td>\n",
       "      <td>11</td>\n",
       "      <td>batata</td>\n",
       "      <td>1</td>\n",
       "      <td>1.886400</td>\n",
       "      <td>18.922563</td>\n",
       "      <td>-71.611387</td>\n",
       "      <td>1</td>\n",
       "      <td>El punto se encuentra sobre la vía, mover</td>\n",
       "      <td>Se movió hacia la derecha</td>\n",
       "      <td>POINT (225054.673 2094207.238)</td>\n",
       "    </tr>\n",
       "    <tr>\n",
       "      <th>432</th>\n",
       "      <td>4078</td>\n",
       "      <td>12</td>\n",
       "      <td>cafe</td>\n",
       "      <td>0</td>\n",
       "      <td>4.401599</td>\n",
       "      <td>18.746051</td>\n",
       "      <td>-70.879410</td>\n",
       "      <td>1</td>\n",
       "      <td>Revisar el área</td>\n",
       "      <td>ok</td>\n",
       "      <td>POINT (301865.777 2073773.538)</td>\n",
       "    </tr>\n",
       "    <tr>\n",
       "      <th>433</th>\n",
       "      <td>4080</td>\n",
       "      <td>11</td>\n",
       "      <td>aguacate</td>\n",
       "      <td>0</td>\n",
       "      <td>25.151997</td>\n",
       "      <td>18.733081</td>\n",
       "      <td>-70.910666</td>\n",
       "      <td>0</td>\n",
       "      <td>El punto se encuentra cercano al otro cultivo ...</td>\n",
       "      <td>Se movió hacia el lado izquierdo</td>\n",
       "      <td>POINT (298360.693 2072308.570)</td>\n",
       "    </tr>\n",
       "    <tr>\n",
       "      <th>434</th>\n",
       "      <td>4084</td>\n",
       "      <td>11</td>\n",
       "      <td>arroz</td>\n",
       "      <td>1</td>\n",
       "      <td>0.817440</td>\n",
       "      <td>18.729731</td>\n",
       "      <td>-70.961163</td>\n",
       "      <td>0</td>\n",
       "      <td>ok</td>\n",
       "      <td>ok</td>\n",
       "      <td>POINT (293224.573 2072059.867)</td>\n",
       "    </tr>\n",
       "  </tbody>\n",
       "</table>\n",
       "<p>435 rows × 11 columns</p>\n",
       "</div>"
      ],
      "text/plain": [
       "     cuest_id_b  parcela          cultivo  temporary_  superf_par          Y  \\\n",
       "0          1148       11         vainitas           1    1.886400  19.378860   \n",
       "1          1150       11             yuca           1    1.131840  19.218753   \n",
       "2          1412       21  tomate ensalada           1    1.572000  19.226785   \n",
       "3          1414       21  tomate ensalada           1    1.572000  19.225070   \n",
       "4          1660       11             yuca           1    1.886400  19.352806   \n",
       "..          ...      ...              ...         ...         ...        ...   \n",
       "430        4045       12             cafe           0    5.030399  18.752170   \n",
       "431        4055       11           batata           1    1.886400  18.922563   \n",
       "432        4078       12             cafe           0    4.401599  18.746051   \n",
       "433        4080       11         aguacate           0   25.151997  18.733081   \n",
       "434        4084       11            arroz           1    0.817440  18.729731   \n",
       "\n",
       "             X  patca                                         correccion  \\\n",
       "0   -70.326825      0                                       Revisar área   \n",
       "1   -70.491992      0                                                 ok   \n",
       "2   -70.670206      0                                                 ok   \n",
       "3   -70.650963      0                                       Revisar área   \n",
       "4   -70.403158      0                                                 ok   \n",
       "..         ...    ...                                                ...   \n",
       "430 -70.896622      1                                                 ok   \n",
       "431 -71.611387      1          El punto se encuentra sobre la vía, mover   \n",
       "432 -70.879410      1                                    Revisar el área   \n",
       "433 -70.910666      0  El punto se encuentra cercano al otro cultivo ...   \n",
       "434 -70.961163      0                                                 ok   \n",
       "\n",
       "                                             corregido  \\\n",
       "0     Pueda que el área de influencia sea insuficiente   \n",
       "1    la zona de influencia contiene edificaciones y...   \n",
       "2                   la zona de influenca tiene árboles   \n",
       "3    se movió hacía la izquierda, la zona de influe...   \n",
       "4               la zona de influencia contiene árboles   \n",
       "..                                                 ...   \n",
       "430                                                 ok   \n",
       "431                          Se movió hacia la derecha   \n",
       "432                                                 ok   \n",
       "433                   Se movió hacia el lado izquierdo   \n",
       "434                                                 ok   \n",
       "\n",
       "                           geometry  \n",
       "0    POINT (360661.122 2143283.741)  \n",
       "1    POINT (343160.366 2125704.581)  \n",
       "2    POINT (324430.912 2126763.878)  \n",
       "3    POINT (326425.347 2126552.077)  \n",
       "4    POINT (352620.231 2140463.520)  \n",
       "..                              ...  \n",
       "430  POINT (300057.908 2074470.099)  \n",
       "431  POINT (225054.673 2094207.238)  \n",
       "432  POINT (301865.777 2073773.538)  \n",
       "433  POINT (298360.693 2072308.570)  \n",
       "434  POINT (293224.573 2072059.867)  \n",
       "\n",
       "[435 rows x 11 columns]"
      ]
     },
     "execution_count": 4,
     "metadata": {},
     "output_type": "execute_result"
    }
   ],
   "source": [
    "point"
   ]
  },
  {
   "cell_type": "code",
   "execution_count": 5,
   "metadata": {},
   "outputs": [],
   "source": [
    "point[\"corregido\"] = point[\"corregido\"].str.lower()"
   ]
  },
  {
   "cell_type": "code",
   "execution_count": 16,
   "metadata": {},
   "outputs": [
    {
     "data": {
      "text/plain": [
       "390"
      ]
     },
     "execution_count": 16,
     "metadata": {},
     "output_type": "execute_result"
    }
   ],
   "source": [
    "# table = point.stb.freq(['corregido'])\n",
    "# table\n",
    "435-45\n"
   ]
  },
  {
   "cell_type": "code",
   "execution_count": 22,
   "metadata": {},
   "outputs": [],
   "source": [
    "table.to_csv(\"Data_IDB/corregido.csv\",encoding=\"LATIN-1\")"
   ]
  },
  {
   "cell_type": "code",
   "execution_count": null,
   "metadata": {},
   "outputs": [],
   "source": []
  },
  {
   "cell_type": "code",
   "execution_count": 16,
   "metadata": {},
   "outputs": [
    {
     "data": {
      "text/plain": [
       "278"
      ]
     },
     "execution_count": 16,
     "metadata": {},
     "output_type": "execute_result"
    }
   ],
   "source": [
    "sum(table[table['corregido'].str.contains(\"movió\")][\"count\"])\n",
    "# sum(table[table['correccion'].str.contains(\"vía & mover\")].percent)\n",
    "# vía"
   ]
  },
  {
   "cell_type": "code",
   "execution_count": 15,
   "metadata": {},
   "outputs": [
    {
     "name": "stdout",
     "output_type": "stream",
     "text": [
      "1\n",
      "0.22988505747126436\n"
     ]
    },
    {
     "data": {
      "text/html": [
       "<div>\n",
       "<style scoped>\n",
       "    .dataframe tbody tr th:only-of-type {\n",
       "        vertical-align: middle;\n",
       "    }\n",
       "\n",
       "    .dataframe tbody tr th {\n",
       "        vertical-align: top;\n",
       "    }\n",
       "\n",
       "    .dataframe thead th {\n",
       "        text-align: right;\n",
       "    }\n",
       "</style>\n",
       "<table border=\"1\" class=\"dataframe\">\n",
       "  <thead>\n",
       "    <tr style=\"text-align: right;\">\n",
       "      <th></th>\n",
       "      <th>corregido</th>\n",
       "      <th>count</th>\n",
       "      <th>percent</th>\n",
       "      <th>cumulative_count</th>\n",
       "      <th>cumulative_percent</th>\n",
       "    </tr>\n",
       "  </thead>\n",
       "  <tbody>\n",
       "    <tr>\n",
       "      <th>126</th>\n",
       "      <td>ok, no se movió hacia al centro para que no af...</td>\n",
       "      <td>1</td>\n",
       "      <td>0.229885</td>\n",
       "      <td>425</td>\n",
       "      <td>97.701149</td>\n",
       "    </tr>\n",
       "  </tbody>\n",
       "</table>\n",
       "</div>"
      ],
      "text/plain": [
       "                                             corregido  count   percent  \\\n",
       "126  ok, no se movió hacia al centro para que no af...      1  0.229885   \n",
       "\n",
       "     cumulative_count  cumulative_percent  \n",
       "126               425           97.701149  "
      ]
     },
     "execution_count": 15,
     "metadata": {},
     "output_type": "execute_result"
    }
   ],
   "source": [
    "a = table[table['corregido'].str.contains(\"ok\")]\n",
    "b = a[a['corregido'].str.contains(\"movió\")]\n",
    "print (sum(b[\"count\"]))\n",
    "print (sum(b[\"percent\"]))\n",
    "b"
   ]
  },
  {
   "cell_type": "code",
   "execution_count": 4,
   "metadata": {},
   "outputs": [],
   "source": [
    "pro = gpd.read_file(\"Data_IDB/new/test.shp\")"
   ]
  },
  {
   "cell_type": "code",
   "execution_count": 9,
   "metadata": {},
   "outputs": [],
   "source": [
    "table = pro.stb.freq(['TOPONIMIA'])\n",
    "table\n",
    "table.to_csv(\"Provincias.csv\", encoding='LATIN-1')"
   ]
  }
 ],
 "metadata": {
  "kernelspec": {
   "display_name": "Python (GEE)",
   "language": "python",
   "name": "gee"
  },
  "language_info": {
   "codemirror_mode": {
    "name": "ipython",
    "version": 3
   },
   "file_extension": ".py",
   "mimetype": "text/x-python",
   "name": "python",
   "nbconvert_exporter": "python",
   "pygments_lexer": "ipython3",
   "version": "3.8.5"
  }
 },
 "nbformat": 4,
 "nbformat_minor": 4
}
