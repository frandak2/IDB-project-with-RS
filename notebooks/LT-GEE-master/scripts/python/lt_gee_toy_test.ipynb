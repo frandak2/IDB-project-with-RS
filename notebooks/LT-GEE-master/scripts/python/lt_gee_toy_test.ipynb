{
 "cells": [
  {
   "cell_type": "code",
   "execution_count": 1,
   "metadata": {},
   "outputs": [],
   "source": [
    "import ee\n",
    "import datetime\n",
    "import time\n",
    "\n",
    "ee.Initialize()"
   ]
  },
  {
   "cell_type": "code",
   "execution_count": 2,
   "metadata": {},
   "outputs": [],
   "source": [
    "# define collection and LandTrendr parameters\n",
    "aoi = [[-123.98757934570312,47.49679221520181],\n",
    "       [-123.90655517578125,47.49586436835716],\n",
    "       [-123.90449523925781,47.55243302404593],\n",
    "       [-123.98551940917969,47.553359870859]]\n",
    "\n",
    "aoi = ee.Geometry.Polygon(aoi) \n",
    "\n",
    "startYear = 1985\n",
    "endYear   = 2010\n",
    "\n",
    "runParams = { \n",
    "    'maxSegments':            6,\n",
    "    'spikeThreshold':         0.9,\n",
    "    'vertexCountOvershoot':   3,\n",
    "    'preventOneYearRecovery': True,\n",
    "    'recoveryThreshold':      0.25,\n",
    "    'pvalThreshold':          0.05,\n",
    "    'bestModelProportion':    0.75,\n",
    "    'minObservationsNeeded':  6\n",
    "}"
   ]
  },
  {
   "cell_type": "code",
   "execution_count": 3,
   "metadata": {},
   "outputs": [],
   "source": [
    "# function to get spectral-temporal segment info formatted to image stack for export    \n",
    "def getLTvertStack(LTresult):\n",
    "    emptyArray = []  \n",
    "    vertLabels = []\n",
    "    for i in range(1, runParams['maxSegments']+2):\n",
    "        vertLabels.append(\"vert_\"+str(i))\n",
    "        emptyArray.append(0)\n",
    "        \n",
    "    zeros = ee.Image(ee.Array([emptyArray,\n",
    "                             emptyArray,\n",
    "                             emptyArray]))\n",
    "  \n",
    "    lbls = [['yrs_','src_','fit_'], vertLabels,]\n",
    "\n",
    "    vmask = LTresult.arraySlice(0,3,4)\n",
    "  \n",
    "    ltVertStack = LTresult.arrayMask(vmask)\\\n",
    "                          .arraySlice(0, 0, 3)\\\n",
    "                          .addBands(zeros)\\\n",
    "                          .toArray(1)\\\n",
    "                          .arraySlice(1, 0, runParams['maxSegments']+1)\\\n",
    "                          .arrayFlatten(lbls, '')\n",
    "\n",
    "    return ltVertStack"
   ]
  },
  {
   "cell_type": "code",
   "execution_count": 4,
   "metadata": {},
   "outputs": [],
   "source": [
    "# build annual image collection and run LandTrendr\n",
    "for year in range(startYear,endYear+1):  \n",
    "    img = ee.ImageCollection('LANDSAT/LT05/C01/T1_SR')\\\n",
    "          .filterBounds(aoi)\\\n",
    "          .filterDate(str(year)+'-06-15', str(year)+'-09-15')\n",
    "  \n",
    "    img = ee.Image(img.first())\n",
    "\n",
    "    tempCollection = ee.ImageCollection(img.select(['B5']))        \n",
    "\n",
    "    if year == startYear:\n",
    "        ltCollection = tempCollection\n",
    "    else:\n",
    "        ltCollection = ltCollection.merge(tempCollection)\n",
    "\n",
    "        \n",
    "# add the collection to the LandTrendr parameters and run LT-GEE\n",
    "runParams['timeSeries'] = ltCollection\n",
    "lt = ee.Algorithms.TemporalSegmentation.LandTrendr(**runParams)"
   ]
  },
  {
   "cell_type": "code",
   "execution_count": 5,
   "metadata": {},
   "outputs": [],
   "source": [
    "# extract the segmentation vertex info and export it to google drive\n",
    "ltVertStack = getLTvertStack(lt.select([\"LandTrendr\"])).toShort()\n",
    "\n",
    "drive = ee.batch.Export.image.toDrive(\n",
    "            image = ltVertStack,\n",
    "            description = \"ltVertStack_toy_test_to_drive\", \n",
    "            folder = 'lt_gee_py_test', \n",
    "            fileNamePrefix = 'ltVertStack_toy_test',\n",
    "            region = [[-123.98757934570312,47.49679221520181],[-123.90655517578125,47.49586436835716],[-123.90449523925781,47.55243302404593],[-123.98551940917969,47.553359870859]], \n",
    "            scale = 30\n",
    "        )\n",
    "drive.start()"
   ]
  }
 ],
 "metadata": {
  "kernelspec": {
   "display_name": "Python 2",
   "language": "python",
   "name": "python2"
  },
  "language_info": {
   "codemirror_mode": {
    "name": "ipython",
    "version": 2
   },
   "file_extension": ".py",
   "mimetype": "text/x-python",
   "name": "python",
   "nbconvert_exporter": "python",
   "pygments_lexer": "ipython2",
   "version": "2.7.15"
  }
 },
 "nbformat": 4,
 "nbformat_minor": 2
}
