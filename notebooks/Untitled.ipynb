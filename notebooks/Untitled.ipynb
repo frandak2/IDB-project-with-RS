{
 "cells": [
  {
   "cell_type": "code",
   "execution_count": 20,
   "metadata": {},
   "outputs": [],
   "source": [
    "import pandas as pd\n",
    "import glob, os\n",
    "from shapely.geometry import Point\n",
    "import sidetable"
   ]
  },
  {
   "cell_type": "code",
   "execution_count": 21,
   "metadata": {},
   "outputs": [],
   "source": [
    "import os,glob\n",
    "g = os.getcwd()\n",
    "g\n",
    "path = 'D:\\\\repos\\\\CIAT\\\\IDB_PROJECT'\n",
    "os.chdir(path)"
   ]
  },
  {
   "cell_type": "code",
   "execution_count": 22,
   "metadata": {},
   "outputs": [
    {
     "data": {
      "text/plain": [
       "Index(['Unnamed: 0', 'cultivo', 'superf_par', 'patca', 'correccion',\n",
       "       'corregido', 'corregido2', 'area', 'ID', 'temporary_', 'geometry',\n",
       "       'time_x', 'time_y', 'temporary_crop', 'trends'],\n",
       "      dtype='object')"
      ]
     },
     "execution_count": 22,
     "metadata": {},
     "output_type": "execute_result"
    }
   ],
   "source": [
    "no_merge = pd.read_csv(\"Data_IDB/validacion/NO_merge_2014.csv\",encoding='latin-1')\n",
    "merge = pd.read_csv(\"Data_IDB/validacion/merge_2014.csv\",encoding='latin-1')\n",
    "no_merge.columns"
   ]
  },
  {
   "cell_type": "code",
   "execution_count": 26,
   "metadata": {},
   "outputs": [
    {
     "data": {
      "text/html": [
       "<div>\n",
       "<style scoped>\n",
       "    .dataframe tbody tr th:only-of-type {\n",
       "        vertical-align: middle;\n",
       "    }\n",
       "\n",
       "    .dataframe tbody tr th {\n",
       "        vertical-align: top;\n",
       "    }\n",
       "\n",
       "    .dataframe thead th {\n",
       "        text-align: right;\n",
       "    }\n",
       "</style>\n",
       "<table border=\"1\" class=\"dataframe\">\n",
       "  <thead>\n",
       "    <tr style=\"text-align: right;\">\n",
       "      <th></th>\n",
       "      <th>patca</th>\n",
       "      <th>trends</th>\n",
       "      <th>count</th>\n",
       "      <th>percent</th>\n",
       "      <th>cumulative_count</th>\n",
       "      <th>cumulative_percent</th>\n",
       "    </tr>\n",
       "  </thead>\n",
       "  <tbody>\n",
       "    <tr>\n",
       "      <th>0</th>\n",
       "      <td>1</td>\n",
       "      <td>no trend</td>\n",
       "      <td>44</td>\n",
       "      <td>36.974790</td>\n",
       "      <td>44</td>\n",
       "      <td>36.974790</td>\n",
       "    </tr>\n",
       "    <tr>\n",
       "      <th>1</th>\n",
       "      <td>0</td>\n",
       "      <td>no trend</td>\n",
       "      <td>44</td>\n",
       "      <td>36.974790</td>\n",
       "      <td>88</td>\n",
       "      <td>73.949580</td>\n",
       "    </tr>\n",
       "    <tr>\n",
       "      <th>2</th>\n",
       "      <td>0</td>\n",
       "      <td>trend</td>\n",
       "      <td>23</td>\n",
       "      <td>19.327731</td>\n",
       "      <td>111</td>\n",
       "      <td>93.277311</td>\n",
       "    </tr>\n",
       "    <tr>\n",
       "      <th>3</th>\n",
       "      <td>1</td>\n",
       "      <td>trend</td>\n",
       "      <td>8</td>\n",
       "      <td>6.722689</td>\n",
       "      <td>119</td>\n",
       "      <td>100.000000</td>\n",
       "    </tr>\n",
       "  </tbody>\n",
       "</table>\n",
       "</div>"
      ],
      "text/plain": [
       "   patca    trends  count    percent  cumulative_count  cumulative_percent\n",
       "0      1  no trend     44  36.974790                44           36.974790\n",
       "1      0  no trend     44  36.974790                88           73.949580\n",
       "2      0     trend     23  19.327731               111           93.277311\n",
       "3      1     trend      8   6.722689               119          100.000000"
      ]
     },
     "execution_count": 26,
     "metadata": {},
     "output_type": "execute_result"
    }
   ],
   "source": [
    "table = no_merge.stb.freq(['patca','trends'])\n",
    "table"
   ]
  },
  {
   "cell_type": "code",
   "execution_count": 27,
   "metadata": {},
   "outputs": [
    {
     "data": {
      "text/html": [
       "<div>\n",
       "<style scoped>\n",
       "    .dataframe tbody tr th:only-of-type {\n",
       "        vertical-align: middle;\n",
       "    }\n",
       "\n",
       "    .dataframe tbody tr th {\n",
       "        vertical-align: top;\n",
       "    }\n",
       "\n",
       "    .dataframe thead th {\n",
       "        text-align: right;\n",
       "    }\n",
       "</style>\n",
       "<table border=\"1\" class=\"dataframe\">\n",
       "  <thead>\n",
       "    <tr style=\"text-align: right;\">\n",
       "      <th></th>\n",
       "      <th>patca</th>\n",
       "      <th>trends</th>\n",
       "      <th>count</th>\n",
       "      <th>percent</th>\n",
       "      <th>cumulative_count</th>\n",
       "      <th>cumulative_percent</th>\n",
       "    </tr>\n",
       "  </thead>\n",
       "  <tbody>\n",
       "    <tr>\n",
       "      <th>0</th>\n",
       "      <td>0</td>\n",
       "      <td>trend</td>\n",
       "      <td>172</td>\n",
       "      <td>66.666667</td>\n",
       "      <td>172</td>\n",
       "      <td>66.666667</td>\n",
       "    </tr>\n",
       "    <tr>\n",
       "      <th>1</th>\n",
       "      <td>1</td>\n",
       "      <td>trend</td>\n",
       "      <td>74</td>\n",
       "      <td>28.682171</td>\n",
       "      <td>246</td>\n",
       "      <td>95.348837</td>\n",
       "    </tr>\n",
       "    <tr>\n",
       "      <th>2</th>\n",
       "      <td>0</td>\n",
       "      <td>no trend</td>\n",
       "      <td>9</td>\n",
       "      <td>3.488372</td>\n",
       "      <td>255</td>\n",
       "      <td>98.837209</td>\n",
       "    </tr>\n",
       "    <tr>\n",
       "      <th>3</th>\n",
       "      <td>1</td>\n",
       "      <td>no trend</td>\n",
       "      <td>3</td>\n",
       "      <td>1.162791</td>\n",
       "      <td>258</td>\n",
       "      <td>100.000000</td>\n",
       "    </tr>\n",
       "  </tbody>\n",
       "</table>\n",
       "</div>"
      ],
      "text/plain": [
       "   patca    trends  count    percent  cumulative_count  cumulative_percent\n",
       "0      0     trend    172  66.666667               172           66.666667\n",
       "1      1     trend     74  28.682171               246           95.348837\n",
       "2      0  no trend      9   3.488372               255           98.837209\n",
       "3      1  no trend      3   1.162791               258          100.000000"
      ]
     },
     "execution_count": 27,
     "metadata": {},
     "output_type": "execute_result"
    }
   ],
   "source": [
    "table = merge.stb.freq(['patca','trends'])\n",
    "table.to_csv(\"Data_IDB/validacion/merge_pactavs_all.csv\")"
   ]
  },
  {
   "cell_type": "code",
   "execution_count": null,
   "metadata": {},
   "outputs": [],
   "source": []
  },
  {
   "cell_type": "code",
   "execution_count": null,
   "metadata": {},
   "outputs": [],
   "source": []
  }
 ],
 "metadata": {
  "kernelspec": {
   "display_name": "Python (GEE)",
   "language": "python",
   "name": "gee"
  },
  "language_info": {
   "codemirror_mode": {
    "name": "ipython",
    "version": 3
   },
   "file_extension": ".py",
   "mimetype": "text/x-python",
   "name": "python",
   "nbconvert_exporter": "python",
   "pygments_lexer": "ipython3",
   "version": "3.8.5"
  }
 },
 "nbformat": 4,
 "nbformat_minor": 4
}
