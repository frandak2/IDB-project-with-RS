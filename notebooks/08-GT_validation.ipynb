{
 "cells": [
  {
   "cell_type": "code",
   "execution_count": 10,
   "metadata": {},
   "outputs": [],
   "source": [
    "import pandas as pd\n",
    "import geopandas as gpd\n",
    "import numpy as np"
   ]
  },
  {
   "cell_type": "code",
   "execution_count": 11,
   "metadata": {},
   "outputs": [],
   "source": [
    "import os,glob\n",
    "g = os.getcwd()\n",
    "g\n",
    "path = 'D:\\\\repos\\\\CIAT\\\\IDB_PROJECT'\n",
    "os.chdir(path)"
   ]
  },
  {
   "cell_type": "markdown",
   "metadata": {},
   "source": [
    "# Read data base and merge"
   ]
  },
  {
   "cell_type": "markdown",
   "metadata": {},
   "source": [
    "- Read the base line and create ID"
   ]
  },
  {
   "cell_type": "code",
   "execution_count": 12,
   "metadata": {},
   "outputs": [
    {
     "name": "stderr",
     "output_type": "stream",
     "text": [
      "<ipython-input-12-6e25b4b666df>:10: SettingWithCopyWarning: \n",
      "A value is trying to be set on a copy of a slice from a DataFrame.\n",
      "Try using .loc[row_indexer,col_indexer] = value instead\n",
      "\n",
      "See the caveats in the documentation: https://pandas.pydata.org/pandas-docs/stable/user_guide/indexing.html#returning-a-view-versus-a-copy\n",
      "  base[\"time\"] = \"Baseline\"\n"
     ]
    },
    {
     "data": {
      "text/html": [
       "<div>\n",
       "<style scoped>\n",
       "    .dataframe tbody tr th:only-of-type {\n",
       "        vertical-align: middle;\n",
       "    }\n",
       "\n",
       "    .dataframe tbody tr th {\n",
       "        vertical-align: top;\n",
       "    }\n",
       "\n",
       "    .dataframe thead th {\n",
       "        text-align: right;\n",
       "    }\n",
       "</style>\n",
       "<table border=\"1\" class=\"dataframe\">\n",
       "  <thead>\n",
       "    <tr style=\"text-align: right;\">\n",
       "      <th></th>\n",
       "      <th>ID</th>\n",
       "      <th>temporary_</th>\n",
       "      <th>patca</th>\n",
       "      <th>time</th>\n",
       "    </tr>\n",
       "  </thead>\n",
       "  <tbody>\n",
       "    <tr>\n",
       "      <th>29</th>\n",
       "      <td>386511</td>\n",
       "      <td>0</td>\n",
       "      <td>1</td>\n",
       "      <td>Baseline</td>\n",
       "    </tr>\n",
       "  </tbody>\n",
       "</table>\n",
       "</div>"
      ],
      "text/plain": [
       "        ID  temporary_  patca      time\n",
       "29  386511           0      1  Baseline"
      ]
     },
     "execution_count": 12,
     "metadata": {},
     "output_type": "execute_result"
    }
   ],
   "source": [
    "Points = gpd.read_file(\"Data_IDB/new/Zona_influencia_DR.shp\")\n",
    "# print(Points.crs)\n",
    "Points = Points.to_crs(\"EPSG:4326\")\n",
    "ID = str(Points[\"cuest_id_b\"]) + str(Points[\"parcela\"])\n",
    "str1 = [str(int) for int in Points[\"cuest_id_b\"]] \n",
    "str2 = [str(int) for int in Points[\"parcela\"]]\n",
    "Points[\"ID\"] = [int(s1 + s2) for s1, s2 in zip(str1, str2)]\n",
    "ok = Points[Points['corregido2'].str.contains(\"ok\")]\n",
    "base = ok[[\"ID\",'temporary_','patca']]\n",
    "base[\"time\"] = \"Baseline\"\n",
    "# Points.to_csv(\"test.csv\")\n",
    "# Points = eeconvert.gdfToFc(Points)\n",
    "# ok.columns\n",
    "len(base)\n",
    "base[base.ID == 386511]"
   ]
  },
  {
   "cell_type": "markdown",
   "metadata": {},
   "source": [
    "- Read the follow-Up-1, create ID and remove duplicate ID"
   ]
  },
  {
   "cell_type": "code",
   "execution_count": 13,
   "metadata": {},
   "outputs": [],
   "source": [
    "followup = pd.read_csv(\"Data_IDB/Panel_data_PATCA-DR-only_FU1.csv\", encoding='latin-1')"
   ]
  },
  {
   "cell_type": "code",
   "execution_count": 14,
   "metadata": {},
   "outputs": [
    {
     "name": "stdout",
     "output_type": "stream",
     "text": [
      "646\n",
      "441\n"
     ]
    },
    {
     "data": {
      "text/html": [
       "<div>\n",
       "<style scoped>\n",
       "    .dataframe tbody tr th:only-of-type {\n",
       "        vertical-align: middle;\n",
       "    }\n",
       "\n",
       "    .dataframe tbody tr th {\n",
       "        vertical-align: top;\n",
       "    }\n",
       "\n",
       "    .dataframe thead th {\n",
       "        text-align: right;\n",
       "    }\n",
       "</style>\n",
       "<table border=\"1\" class=\"dataframe\">\n",
       "  <thead>\n",
       "    <tr style=\"text-align: right;\">\n",
       "      <th></th>\n",
       "      <th>ID</th>\n",
       "      <th>time</th>\n",
       "      <th>temporary_crop</th>\n",
       "    </tr>\n",
       "  </thead>\n",
       "  <tbody>\n",
       "    <tr>\n",
       "      <th>473</th>\n",
       "      <td>386511</td>\n",
       "      <td>1. Follow-up1</td>\n",
       "      <td>1</td>\n",
       "    </tr>\n",
       "  </tbody>\n",
       "</table>\n",
       "</div>"
      ],
      "text/plain": [
       "         ID           time  temporary_crop\n",
       "473  386511  1. Follow-up1               1"
      ]
     },
     "execution_count": 14,
     "metadata": {},
     "output_type": "execute_result"
    }
   ],
   "source": [
    "followup[followup[\"cuest_id_b\"]==3863]\n",
    "# print(follwup.columns)\n",
    "str1 = [str(int) for int in followup[\"cuest_id_b\"]] \n",
    "str2 = [str(int) for int in followup[\"parcela\"]]\n",
    "followup[\"ID\"] = [int(s1 + s2) for s1, s2 in zip(str1, str2)]\n",
    "FU1 = followup[[\"ID\",\"time\",'temporary_crop']]\n",
    "print(len(FU1))\n",
    "ID = FU1[\"ID\"].drop_duplicates()\n",
    "FU1 = FU1.loc[ID.index.tolist()]\n",
    "print(len(FU1))\n",
    "FU1[FU1.ID == 386511]\n"
   ]
  },
  {
   "cell_type": "markdown",
   "metadata": {},
   "source": [
    "- Merge dateset"
   ]
  },
  {
   "cell_type": "code",
   "execution_count": 15,
   "metadata": {},
   "outputs": [
    {
     "name": "stdout",
     "output_type": "stream",
     "text": [
      "377\n"
     ]
    },
    {
     "data": {
      "text/html": [
       "<div>\n",
       "<style scoped>\n",
       "    .dataframe tbody tr th:only-of-type {\n",
       "        vertical-align: middle;\n",
       "    }\n",
       "\n",
       "    .dataframe tbody tr th {\n",
       "        vertical-align: top;\n",
       "    }\n",
       "\n",
       "    .dataframe thead th {\n",
       "        text-align: right;\n",
       "    }\n",
       "</style>\n",
       "<table border=\"1\" class=\"dataframe\">\n",
       "  <thead>\n",
       "    <tr style=\"text-align: right;\">\n",
       "      <th></th>\n",
       "      <th>ID</th>\n",
       "      <th>temporary_</th>\n",
       "      <th>patca</th>\n",
       "      <th>time_x</th>\n",
       "      <th>time_y</th>\n",
       "      <th>temporary_crop</th>\n",
       "    </tr>\n",
       "  </thead>\n",
       "  <tbody>\n",
       "    <tr>\n",
       "      <th>0</th>\n",
       "      <td>386311</td>\n",
       "      <td>1</td>\n",
       "      <td>1</td>\n",
       "      <td>Baseline</td>\n",
       "      <td>1. Follow-up1</td>\n",
       "      <td>1</td>\n",
       "    </tr>\n",
       "    <tr>\n",
       "      <th>1</th>\n",
       "      <td>386512</td>\n",
       "      <td>1</td>\n",
       "      <td>1</td>\n",
       "      <td>Baseline</td>\n",
       "      <td>1. Follow-up1</td>\n",
       "      <td>0</td>\n",
       "    </tr>\n",
       "    <tr>\n",
       "      <th>2</th>\n",
       "      <td>396011</td>\n",
       "      <td>1</td>\n",
       "      <td>0</td>\n",
       "      <td>Baseline</td>\n",
       "      <td>1. Follow-up1</td>\n",
       "      <td>1</td>\n",
       "    </tr>\n",
       "    <tr>\n",
       "      <th>3</th>\n",
       "      <td>407811</td>\n",
       "      <td>0</td>\n",
       "      <td>1</td>\n",
       "      <td>Baseline</td>\n",
       "      <td>1. Follow-up1</td>\n",
       "      <td>0</td>\n",
       "    </tr>\n",
       "    <tr>\n",
       "      <th>4</th>\n",
       "      <td>411411</td>\n",
       "      <td>1</td>\n",
       "      <td>0</td>\n",
       "      <td>Baseline</td>\n",
       "      <td>1. Follow-up1</td>\n",
       "      <td>1</td>\n",
       "    </tr>\n",
       "  </tbody>\n",
       "</table>\n",
       "</div>"
      ],
      "text/plain": [
       "       ID  temporary_  patca    time_x         time_y  temporary_crop\n",
       "0  386311           1      1  Baseline  1. Follow-up1               1\n",
       "1  386512           1      1  Baseline  1. Follow-up1               0\n",
       "2  396011           1      0  Baseline  1. Follow-up1               1\n",
       "3  407811           0      1  Baseline  1. Follow-up1               0\n",
       "4  411411           1      0  Baseline  1. Follow-up1               1"
      ]
     },
     "execution_count": 15,
     "metadata": {},
     "output_type": "execute_result"
    }
   ],
   "source": [
    "merge = base.merge(FU1,how='inner', on=\"ID\")\n",
    "print(len(merge))\n",
    "merge.head()"
   ]
  },
  {
   "cell_type": "markdown",
   "metadata": {},
   "source": [
    "- Select ID with trend"
   ]
  },
  {
   "cell_type": "code",
   "execution_count": 16,
   "metadata": {},
   "outputs": [
    {
     "name": "stdout",
     "output_type": "stream",
     "text": [
      "277\n"
     ]
    },
    {
     "data": {
      "text/html": [
       "<div>\n",
       "<style scoped>\n",
       "    .dataframe tbody tr th:only-of-type {\n",
       "        vertical-align: middle;\n",
       "    }\n",
       "\n",
       "    .dataframe tbody tr th {\n",
       "        vertical-align: top;\n",
       "    }\n",
       "\n",
       "    .dataframe thead th {\n",
       "        text-align: right;\n",
       "    }\n",
       "</style>\n",
       "<table border=\"1\" class=\"dataframe\">\n",
       "  <thead>\n",
       "    <tr style=\"text-align: right;\">\n",
       "      <th></th>\n",
       "      <th>ID</th>\n",
       "      <th>temporary_</th>\n",
       "      <th>patca</th>\n",
       "      <th>time_x</th>\n",
       "      <th>time_y</th>\n",
       "      <th>temporary_crop</th>\n",
       "      <th>logical</th>\n",
       "    </tr>\n",
       "  </thead>\n",
       "  <tbody>\n",
       "    <tr>\n",
       "      <th>0</th>\n",
       "      <td>386311</td>\n",
       "      <td>1</td>\n",
       "      <td>1</td>\n",
       "      <td>Baseline</td>\n",
       "      <td>1. Follow-up1</td>\n",
       "      <td>1</td>\n",
       "      <td>True</td>\n",
       "    </tr>\n",
       "    <tr>\n",
       "      <th>2</th>\n",
       "      <td>396011</td>\n",
       "      <td>1</td>\n",
       "      <td>0</td>\n",
       "      <td>Baseline</td>\n",
       "      <td>1. Follow-up1</td>\n",
       "      <td>1</td>\n",
       "      <td>True</td>\n",
       "    </tr>\n",
       "    <tr>\n",
       "      <th>3</th>\n",
       "      <td>407811</td>\n",
       "      <td>0</td>\n",
       "      <td>1</td>\n",
       "      <td>Baseline</td>\n",
       "      <td>1. Follow-up1</td>\n",
       "      <td>0</td>\n",
       "      <td>True</td>\n",
       "    </tr>\n",
       "    <tr>\n",
       "      <th>4</th>\n",
       "      <td>411411</td>\n",
       "      <td>1</td>\n",
       "      <td>0</td>\n",
       "      <td>Baseline</td>\n",
       "      <td>1. Follow-up1</td>\n",
       "      <td>1</td>\n",
       "      <td>True</td>\n",
       "    </tr>\n",
       "    <tr>\n",
       "      <th>7</th>\n",
       "      <td>372211</td>\n",
       "      <td>1</td>\n",
       "      <td>0</td>\n",
       "      <td>Baseline</td>\n",
       "      <td>1. Follow-up1</td>\n",
       "      <td>1</td>\n",
       "      <td>True</td>\n",
       "    </tr>\n",
       "  </tbody>\n",
       "</table>\n",
       "</div>"
      ],
      "text/plain": [
       "       ID  temporary_  patca    time_x         time_y  temporary_crop  logical\n",
       "0  386311           1      1  Baseline  1. Follow-up1               1     True\n",
       "2  396011           1      0  Baseline  1. Follow-up1               1     True\n",
       "3  407811           0      1  Baseline  1. Follow-up1               0     True\n",
       "4  411411           1      0  Baseline  1. Follow-up1               1     True\n",
       "7  372211           1      0  Baseline  1. Follow-up1               1     True"
      ]
     },
     "execution_count": 16,
     "metadata": {},
     "output_type": "execute_result"
    }
   ],
   "source": [
    "merge[\"logical\"] = merge.temporary_ ==  merge.temporary_crop\n",
    "trends = merge[merge.logical==True]\n",
    "no_trends = merge[merge.logical!=True]\n",
    "print(len(trends))\n",
    "trends.head()"
   ]
  },
  {
   "cell_type": "code",
   "execution_count": 28,
   "metadata": {},
   "outputs": [
    {
     "data": {
      "text/html": [
       "<div>\n",
       "<style scoped>\n",
       "    .dataframe tbody tr th:only-of-type {\n",
       "        vertical-align: middle;\n",
       "    }\n",
       "\n",
       "    .dataframe tbody tr th {\n",
       "        vertical-align: top;\n",
       "    }\n",
       "\n",
       "    .dataframe thead th {\n",
       "        text-align: right;\n",
       "    }\n",
       "</style>\n",
       "<table border=\"1\" class=\"dataframe\">\n",
       "  <thead>\n",
       "    <tr style=\"text-align: right;\">\n",
       "      <th></th>\n",
       "      <th>ID</th>\n",
       "      <th>temporary_</th>\n",
       "      <th>time_x</th>\n",
       "      <th>time_y</th>\n",
       "      <th>temporary_crop</th>\n",
       "      <th>logical</th>\n",
       "    </tr>\n",
       "  </thead>\n",
       "  <tbody>\n",
       "  </tbody>\n",
       "</table>\n",
       "</div>"
      ],
      "text/plain": [
       "Empty DataFrame\n",
       "Columns: [ID, temporary_, time_x, time_y, temporary_crop, logical]\n",
       "Index: []"
      ]
     },
     "execution_count": 28,
     "metadata": {},
     "output_type": "execute_result"
    }
   ],
   "source": [
    "no_trends[no_trends.ID==396011]\n",
    "# type(trends.ID[0])"
   ]
  },
  {
   "cell_type": "code",
   "execution_count": 29,
   "metadata": {},
   "outputs": [
    {
     "data": {
      "text/html": [
       "<div>\n",
       "<style scoped>\n",
       "    .dataframe tbody tr th:only-of-type {\n",
       "        vertical-align: middle;\n",
       "    }\n",
       "\n",
       "    .dataframe tbody tr th {\n",
       "        vertical-align: top;\n",
       "    }\n",
       "\n",
       "    .dataframe thead th {\n",
       "        text-align: right;\n",
       "    }\n",
       "</style>\n",
       "<table border=\"1\" class=\"dataframe\">\n",
       "  <thead>\n",
       "    <tr style=\"text-align: right;\">\n",
       "      <th></th>\n",
       "      <th>ID</th>\n",
       "      <th>temporary_</th>\n",
       "      <th>time_x</th>\n",
       "      <th>time_y</th>\n",
       "      <th>temporary_crop</th>\n",
       "      <th>logical</th>\n",
       "    </tr>\n",
       "  </thead>\n",
       "  <tbody>\n",
       "    <tr>\n",
       "      <th>2</th>\n",
       "      <td>396011</td>\n",
       "      <td>1</td>\n",
       "      <td>Baseline</td>\n",
       "      <td>1. Follow-up1</td>\n",
       "      <td>1</td>\n",
       "      <td>True</td>\n",
       "    </tr>\n",
       "  </tbody>\n",
       "</table>\n",
       "</div>"
      ],
      "text/plain": [
       "       ID  temporary_    time_x         time_y  temporary_crop  logical\n",
       "2  396011           1  Baseline  1. Follow-up1               1     True"
      ]
     },
     "execution_count": 29,
     "metadata": {},
     "output_type": "execute_result"
    }
   ],
   "source": [
    "trends[trends.ID==396011]"
   ]
  },
  {
   "cell_type": "code",
   "execution_count": null,
   "metadata": {},
   "outputs": [],
   "source": []
  },
  {
   "cell_type": "code",
   "execution_count": null,
   "metadata": {},
   "outputs": [],
   "source": []
  }
 ],
 "metadata": {
  "kernelspec": {
   "display_name": "Python (GEE)",
   "language": "python",
   "name": "gee"
  },
  "language_info": {
   "codemirror_mode": {
    "name": "ipython",
    "version": 3
   },
   "file_extension": ".py",
   "mimetype": "text/x-python",
   "name": "python",
   "nbconvert_exporter": "python",
   "pygments_lexer": "ipython3",
   "version": "3.8.5"
  }
 },
 "nbformat": 4,
 "nbformat_minor": 4
}
