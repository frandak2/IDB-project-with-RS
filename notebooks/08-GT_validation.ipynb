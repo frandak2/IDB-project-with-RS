{
 "cells": [
  {
   "cell_type": "code",
   "execution_count": 16,
   "metadata": {},
   "outputs": [],
   "source": [
    "import pandas as pd\n",
    "import geopandas as gpd\n",
    "import numpy as np"
   ]
  },
  {
   "cell_type": "code",
   "execution_count": 17,
   "metadata": {},
   "outputs": [],
   "source": [
    "import os,glob\n",
    "g = os.getcwd()\n",
    "g\n",
    "path = 'D:\\\\repos\\\\CIAT\\\\IDB_PROJECT'\n",
    "os.chdir(path)"
   ]
  },
  {
   "cell_type": "code",
   "execution_count": 18,
   "metadata": {},
   "outputs": [
    {
     "name": "stderr",
     "output_type": "stream",
     "text": [
      "<ipython-input-18-8b969bfd1fa2>:10: SettingWithCopyWarning: \n",
      "A value is trying to be set on a copy of a slice from a DataFrame.\n",
      "Try using .loc[row_indexer,col_indexer] = value instead\n",
      "\n",
      "See the caveats in the documentation: https://pandas.pydata.org/pandas-docs/stable/user_guide/indexing.html#returning-a-view-versus-a-copy\n",
      "  base[\"time\"] = \"Baseline\"\n"
     ]
    },
    {
     "data": {
      "text/plain": [
       "numpy.int64"
      ]
     },
     "execution_count": 18,
     "metadata": {},
     "output_type": "execute_result"
    }
   ],
   "source": [
    "Points = gpd.read_file(\"Data_IDB/new/Zona_influencia_DR.shp\")\n",
    "# print(Points.crs)\n",
    "Points = Points.to_crs(\"EPSG:4326\")\n",
    "ID = str(Points[\"cuest_id_b\"]) + str(Points[\"parcela\"])\n",
    "str1 = [str(int) for int in Points[\"cuest_id_b\"]] \n",
    "str2 = [str(int) for int in Points[\"parcela\"]]\n",
    "Points[\"ID\"] = [int(s1 + s2) for s1, s2 in zip(str1, str2)]\n",
    "ok = Points[Points['corregido2'].str.contains(\"ok\")]\n",
    "base = ok[[\"ID\",'temporary_']]\n",
    "base[\"time\"] = \"Baseline\"\n",
    "# Points.to_csv(\"test.csv\")\n",
    "# Points = eeconvert.gdfToFc(Points)\n",
    "# ok.columns\n",
    "type(base.ID[0])"
   ]
  },
  {
   "cell_type": "code",
   "execution_count": 19,
   "metadata": {},
   "outputs": [],
   "source": [
    "followup = pd.read_csv(\"Data_IDB/Panel_data_PATCA-DR-only_FU1.csv\", encoding='latin-1')"
   ]
  },
  {
   "cell_type": "code",
   "execution_count": 20,
   "metadata": {},
   "outputs": [],
   "source": [
    "followup[followup[\"cuest_id_b\"]==3863]\n",
    "# print(follwup.columns)\n",
    "str1 = [str(int) for int in followup[\"cuest_id_b\"]] \n",
    "str2 = [str(int) for int in followup[\"parcela\"]]\n",
    "followup[\"ID\"] = [int(s1 + s2) for s1, s2 in zip(str1, str2)]\n",
    "FU1 = followup[[\"ID\",\"time\",'temporary_crop']]"
   ]
  },
  {
   "cell_type": "code",
   "execution_count": 21,
   "metadata": {},
   "outputs": [],
   "source": [
    "merge = base.merge(FU1,how='inner', on=\"ID\")\n",
    "\n",
    "merge[\"logical\"] = merge.temporary_ ==  merge.temporary_crop\n",
    "\n",
    "trends = merge[merge.logical==True]\n",
    "ID = trends[\"ID\"].drop_duplicates()\n",
    "\n"
   ]
  },
  {
   "cell_type": "code",
   "execution_count": 22,
   "metadata": {},
   "outputs": [],
   "source": [
    "trends = trends.loc[ID.index.tolist()]"
   ]
  },
  {
   "cell_type": "code",
   "execution_count": 24,
   "metadata": {},
   "outputs": [
    {
     "data": {
      "text/html": [
       "<div>\n",
       "<style scoped>\n",
       "    .dataframe tbody tr th:only-of-type {\n",
       "        vertical-align: middle;\n",
       "    }\n",
       "\n",
       "    .dataframe tbody tr th {\n",
       "        vertical-align: top;\n",
       "    }\n",
       "\n",
       "    .dataframe thead th {\n",
       "        text-align: right;\n",
       "    }\n",
       "</style>\n",
       "<table border=\"1\" class=\"dataframe\">\n",
       "  <thead>\n",
       "    <tr style=\"text-align: right;\">\n",
       "      <th></th>\n",
       "      <th>ID</th>\n",
       "      <th>temporary_</th>\n",
       "      <th>time_x</th>\n",
       "      <th>time_y</th>\n",
       "      <th>temporary_crop</th>\n",
       "      <th>logical</th>\n",
       "    </tr>\n",
       "  </thead>\n",
       "  <tbody>\n",
       "    <tr>\n",
       "      <th>0</th>\n",
       "      <td>386311</td>\n",
       "      <td>1</td>\n",
       "      <td>Baseline</td>\n",
       "      <td>1. Follow-up1</td>\n",
       "      <td>1</td>\n",
       "      <td>True</td>\n",
       "    </tr>\n",
       "  </tbody>\n",
       "</table>\n",
       "</div>"
      ],
      "text/plain": [
       "       ID  temporary_    time_x         time_y  temporary_crop  logical\n",
       "0  386311           1  Baseline  1. Follow-up1               1     True"
      ]
     },
     "execution_count": 24,
     "metadata": {},
     "output_type": "execute_result"
    }
   ],
   "source": [
    "trends[trends.ID==386311]\n",
    "# type(trends.ID[0])"
   ]
  },
  {
   "cell_type": "code",
   "execution_count": 25,
   "metadata": {},
   "outputs": [
    {
     "data": {
      "text/html": [
       "<div>\n",
       "<style scoped>\n",
       "    .dataframe tbody tr th:only-of-type {\n",
       "        vertical-align: middle;\n",
       "    }\n",
       "\n",
       "    .dataframe tbody tr th {\n",
       "        vertical-align: top;\n",
       "    }\n",
       "\n",
       "    .dataframe thead th {\n",
       "        text-align: right;\n",
       "    }\n",
       "</style>\n",
       "<table border=\"1\" class=\"dataframe\">\n",
       "  <thead>\n",
       "    <tr style=\"text-align: right;\">\n",
       "      <th></th>\n",
       "      <th>ID</th>\n",
       "      <th>temporary_</th>\n",
       "      <th>time_x</th>\n",
       "      <th>time_y</th>\n",
       "      <th>temporary_crop</th>\n",
       "      <th>logical</th>\n",
       "    </tr>\n",
       "  </thead>\n",
       "  <tbody>\n",
       "    <tr>\n",
       "      <th>0</th>\n",
       "      <td>386311</td>\n",
       "      <td>1</td>\n",
       "      <td>Baseline</td>\n",
       "      <td>1. Follow-up1</td>\n",
       "      <td>1</td>\n",
       "      <td>True</td>\n",
       "    </tr>\n",
       "    <tr>\n",
       "      <th>3</th>\n",
       "      <td>396011</td>\n",
       "      <td>1</td>\n",
       "      <td>Baseline</td>\n",
       "      <td>1. Follow-up1</td>\n",
       "      <td>1</td>\n",
       "      <td>True</td>\n",
       "    </tr>\n",
       "    <tr>\n",
       "      <th>4</th>\n",
       "      <td>407811</td>\n",
       "      <td>0</td>\n",
       "      <td>Baseline</td>\n",
       "      <td>1. Follow-up1</td>\n",
       "      <td>0</td>\n",
       "      <td>True</td>\n",
       "    </tr>\n",
       "    <tr>\n",
       "      <th>6</th>\n",
       "      <td>411411</td>\n",
       "      <td>1</td>\n",
       "      <td>Baseline</td>\n",
       "      <td>1. Follow-up1</td>\n",
       "      <td>1</td>\n",
       "      <td>True</td>\n",
       "    </tr>\n",
       "    <tr>\n",
       "      <th>9</th>\n",
       "      <td>372211</td>\n",
       "      <td>1</td>\n",
       "      <td>Baseline</td>\n",
       "      <td>1. Follow-up1</td>\n",
       "      <td>1</td>\n",
       "      <td>True</td>\n",
       "    </tr>\n",
       "    <tr>\n",
       "      <th>...</th>\n",
       "      <td>...</td>\n",
       "      <td>...</td>\n",
       "      <td>...</td>\n",
       "      <td>...</td>\n",
       "      <td>...</td>\n",
       "      <td>...</td>\n",
       "    </tr>\n",
       "    <tr>\n",
       "      <th>540</th>\n",
       "      <td>321413</td>\n",
       "      <td>1</td>\n",
       "      <td>Baseline</td>\n",
       "      <td>1. Follow-up1</td>\n",
       "      <td>1</td>\n",
       "      <td>True</td>\n",
       "    </tr>\n",
       "    <tr>\n",
       "      <th>542</th>\n",
       "      <td>321412</td>\n",
       "      <td>1</td>\n",
       "      <td>Baseline</td>\n",
       "      <td>1. Follow-up1</td>\n",
       "      <td>1</td>\n",
       "      <td>True</td>\n",
       "    </tr>\n",
       "    <tr>\n",
       "      <th>543</th>\n",
       "      <td>332612</td>\n",
       "      <td>1</td>\n",
       "      <td>Baseline</td>\n",
       "      <td>1. Follow-up1</td>\n",
       "      <td>1</td>\n",
       "      <td>True</td>\n",
       "    </tr>\n",
       "    <tr>\n",
       "      <th>545</th>\n",
       "      <td>337521</td>\n",
       "      <td>1</td>\n",
       "      <td>Baseline</td>\n",
       "      <td>1. Follow-up1</td>\n",
       "      <td>1</td>\n",
       "      <td>True</td>\n",
       "    </tr>\n",
       "    <tr>\n",
       "      <th>546</th>\n",
       "      <td>351421</td>\n",
       "      <td>1</td>\n",
       "      <td>Baseline</td>\n",
       "      <td>1. Follow-up1</td>\n",
       "      <td>1</td>\n",
       "      <td>True</td>\n",
       "    </tr>\n",
       "  </tbody>\n",
       "</table>\n",
       "<p>293 rows × 6 columns</p>\n",
       "</div>"
      ],
      "text/plain": [
       "         ID  temporary_    time_x         time_y  temporary_crop  logical\n",
       "0    386311           1  Baseline  1. Follow-up1               1     True\n",
       "3    396011           1  Baseline  1. Follow-up1               1     True\n",
       "4    407811           0  Baseline  1. Follow-up1               0     True\n",
       "6    411411           1  Baseline  1. Follow-up1               1     True\n",
       "9    372211           1  Baseline  1. Follow-up1               1     True\n",
       "..      ...         ...       ...            ...             ...      ...\n",
       "540  321413           1  Baseline  1. Follow-up1               1     True\n",
       "542  321412           1  Baseline  1. Follow-up1               1     True\n",
       "543  332612           1  Baseline  1. Follow-up1               1     True\n",
       "545  337521           1  Baseline  1. Follow-up1               1     True\n",
       "546  351421           1  Baseline  1. Follow-up1               1     True\n",
       "\n",
       "[293 rows x 6 columns]"
      ]
     },
     "execution_count": 25,
     "metadata": {},
     "output_type": "execute_result"
    }
   ],
   "source": [
    "trends"
   ]
  },
  {
   "cell_type": "code",
   "execution_count": null,
   "metadata": {},
   "outputs": [],
   "source": []
  },
  {
   "cell_type": "code",
   "execution_count": null,
   "metadata": {},
   "outputs": [],
   "source": []
  }
 ],
 "metadata": {
  "kernelspec": {
   "display_name": "Python (GEE)",
   "language": "python",
   "name": "gee"
  },
  "language_info": {
   "codemirror_mode": {
    "name": "ipython",
    "version": 3
   },
   "file_extension": ".py",
   "mimetype": "text/x-python",
   "name": "python",
   "nbconvert_exporter": "python",
   "pygments_lexer": "ipython3",
   "version": "3.8.5"
  }
 },
 "nbformat": 4,
 "nbformat_minor": 4
}
