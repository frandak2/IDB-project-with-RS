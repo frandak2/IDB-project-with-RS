{
 "cells": [
  {
   "cell_type": "code",
   "execution_count": 2,
   "metadata": {
    "colab": {},
    "colab_type": "code",
    "id": "Xg2yihtA_vzJ"
   },
   "outputs": [],
   "source": [
    "import ee\n",
    "from ipygee import *\n",
    "import eeconvert\n",
    "import pandas as pd\n",
    "import numpy as np\n",
    "ee.Initialize()"
   ]
  },
  {
   "cell_type": "code",
   "execution_count": 3,
   "metadata": {
    "colab": {},
    "colab_type": "code",
    "id": "gyC8gfaBIY5S"
   },
   "outputs": [],
   "source": [
    "# import pandas as pd\n",
    "# import numpy as np\n",
    "import seaborn as sns\n",
    "import matplotlib.pyplot as plt\n",
    "\n",
    "rc={\"font.weight\":\"bold\",'figure.figsize':(12, 6),'axes.labelsize': 28,\n",
    "    'font.size': 28,'axes.titlesize': 28,'legend.fontsize': 18, 'axes.titlesize': 28,\n",
    "    \"lines.linewidth\": 2.5,'font.sans-serif': \"Times New Roman\"}\n",
    "sns.set(style=\"white\", rc=rc,font_scale = 1.8)\n",
    "# from sklearn.cluster import KMeans\n",
    "# from sklearn.decomposition import PCA\n",
    "# from sklearn.ensemble import RandomForestClassifier\n",
    "# from sklearn.model_selection import train_test_split\n",
    "# from sklearn.metrics import accuracy_score\n",
    "# from sklearn.metrics import confusion_matrix"
   ]
  },
  {
   "cell_type": "code",
   "execution_count": 4,
   "metadata": {
    "colab": {},
    "colab_type": "code",
    "id": "FmuhSyV5BjRw"
   },
   "outputs": [],
   "source": [
    "path_shp = \"users/frandak2/bank/baseline_buffer_meters\"\n",
    "ROI = ee.FeatureCollection(path_shp)"
   ]
  },
  {
   "cell_type": "code",
   "execution_count": 9,
   "metadata": {
    "colab": {},
    "colab_type": "code",
    "id": "gjoUXqErZGxz"
   },
   "outputs": [],
   "source": [
    "y = range(2011,2020)\n",
    "M = range(1,8)\n",
    "d = [1,28,30,31]\n",
    "clud = 30\n",
    "df = pd.DataFrame()\n",
    "for i in y:\n",
    "    for j in M:\n",
    "        if j % 2:\n",
    "             start = ee.Date.fromYMD(i,j,d[0])\n",
    "             end = ee.Date.fromYMD(i,j,d[3])\n",
    "        elif j==2:\n",
    "            start = ee.Date.fromYMD(i,j,d[0])\n",
    "            end = ee.Date.fromYMD(i,j,d[1])\n",
    "        else:\n",
    "            start = ee.Date.fromYMD(i,j,d[0])\n",
    "            end = ee.Date.fromYMD(i,j,d[2])\n",
    "\n",
    "#         dataset5_T1 = ee.ImageCollection(\"LANDSAT/LT05/C01/T1_SR\").filterDate(start,end).filterBounds(ROI).size()####T1 is Data that meets geometric and radiometric quality requirements\n",
    "#         \"LANDSAT/LT05/C01/T1_SR\" - 'LANDSAT/LT05/C01/T1_TOA'\n",
    "        dataset7_T1 = ee.ImageCollection(\"LANDSAT/LE07/C01/T1_SR\").filterDate(start,end).filterBounds(ROI).size()####T1 is Data that meets geometric and radiometric quality requirements\n",
    "#         \"LANDSAT/LE07/C01/T1_SR\" - 'LANDSAT/LE07/C01/T1_TOA'\n",
    "        # dataset7_T2 = ee.ImageCollection('LANDSAT/LE07/C01/T2_SR').filterDate(start,end).filterBounds(ROI).filterMetadata(\"CLOUD_COVER\", \"less_than\", clud).size()##T2 is Data that doesn't meet the Tier 1 requirements\n",
    "        dataset8_T1 = ee.ImageCollection(\"LANDSAT/LC08/C01/T1_SR\").filterDate(start,end).filterBounds(ROI).size()\n",
    "#         \"LANDSAT/LC08/C01/T1_SR\" - \"LANDSAT/LC08/C01/T1_TOA\"\n",
    "        # dataset8_T2 = ee.ImageCollection(\"LANDSAT/LC08/C01/T2_SR\").filterDate(start,end).filterBounds(ROI).filterMetadata(\"CLOUD_COVER\", \"less_than\", clud).size()\n",
    "\n",
    "        a = pd.DataFrame({\"ano\" : [i],\n",
    "                          \"mes\" : [j],\n",
    "#                           \"L5\" : [dataset5_T1.getInfo()],\n",
    "                          \"L7\" : [dataset7_T1.getInfo()],\n",
    "                          \"L8\" : [dataset8_T1.getInfo()]})\n",
    "        df = df.append(a)"
   ]
  },
  {
   "cell_type": "code",
   "execution_count": 10,
   "metadata": {
    "colab": {
     "base_uri": "https://localhost:8080/",
     "height": 419
    },
    "colab_type": "code",
    "executionInfo": {
     "elapsed": 815,
     "status": "ok",
     "timestamp": 1595878757297,
     "user": {
      "displayName": "frank hurtado",
      "photoUrl": "https://lh3.googleusercontent.com/a-/AOh14Gj-C8anRFoHyX-VNPOZWaZyTYMZv_6RlRaozFxc=s64",
      "userId": "07768760401576123009"
     },
     "user_tz": 300
    },
    "id": "I8EHBYO8kS4T",
    "outputId": "22f04d61-2059-426f-b6e7-5e2704ca77a3"
   },
   "outputs": [
    {
     "data": {
      "text/html": [
       "<div>\n",
       "<style scoped>\n",
       "    .dataframe tbody tr th:only-of-type {\n",
       "        vertical-align: middle;\n",
       "    }\n",
       "\n",
       "    .dataframe tbody tr th {\n",
       "        vertical-align: top;\n",
       "    }\n",
       "\n",
       "    .dataframe thead th {\n",
       "        text-align: right;\n",
       "    }\n",
       "</style>\n",
       "<table border=\"1\" class=\"dataframe\">\n",
       "  <thead>\n",
       "    <tr style=\"text-align: right;\">\n",
       "      <th></th>\n",
       "      <th>ano</th>\n",
       "      <th>mes</th>\n",
       "      <th>L7</th>\n",
       "      <th>L8</th>\n",
       "    </tr>\n",
       "  </thead>\n",
       "  <tbody>\n",
       "    <tr>\n",
       "      <th>0</th>\n",
       "      <td>2011</td>\n",
       "      <td>1</td>\n",
       "      <td>4</td>\n",
       "      <td>0</td>\n",
       "    </tr>\n",
       "    <tr>\n",
       "      <th>0</th>\n",
       "      <td>2011</td>\n",
       "      <td>2</td>\n",
       "      <td>4</td>\n",
       "      <td>0</td>\n",
       "    </tr>\n",
       "    <tr>\n",
       "      <th>0</th>\n",
       "      <td>2011</td>\n",
       "      <td>3</td>\n",
       "      <td>4</td>\n",
       "      <td>0</td>\n",
       "    </tr>\n",
       "    <tr>\n",
       "      <th>0</th>\n",
       "      <td>2011</td>\n",
       "      <td>4</td>\n",
       "      <td>4</td>\n",
       "      <td>0</td>\n",
       "    </tr>\n",
       "    <tr>\n",
       "      <th>0</th>\n",
       "      <td>2011</td>\n",
       "      <td>5</td>\n",
       "      <td>4</td>\n",
       "      <td>0</td>\n",
       "    </tr>\n",
       "    <tr>\n",
       "      <th>...</th>\n",
       "      <td>...</td>\n",
       "      <td>...</td>\n",
       "      <td>...</td>\n",
       "      <td>...</td>\n",
       "    </tr>\n",
       "    <tr>\n",
       "      <th>0</th>\n",
       "      <td>2019</td>\n",
       "      <td>3</td>\n",
       "      <td>0</td>\n",
       "      <td>8</td>\n",
       "    </tr>\n",
       "    <tr>\n",
       "      <th>0</th>\n",
       "      <td>2019</td>\n",
       "      <td>4</td>\n",
       "      <td>0</td>\n",
       "      <td>7</td>\n",
       "    </tr>\n",
       "    <tr>\n",
       "      <th>0</th>\n",
       "      <td>2019</td>\n",
       "      <td>5</td>\n",
       "      <td>0</td>\n",
       "      <td>7</td>\n",
       "    </tr>\n",
       "    <tr>\n",
       "      <th>0</th>\n",
       "      <td>2019</td>\n",
       "      <td>6</td>\n",
       "      <td>0</td>\n",
       "      <td>10</td>\n",
       "    </tr>\n",
       "    <tr>\n",
       "      <th>0</th>\n",
       "      <td>2019</td>\n",
       "      <td>7</td>\n",
       "      <td>0</td>\n",
       "      <td>10</td>\n",
       "    </tr>\n",
       "  </tbody>\n",
       "</table>\n",
       "<p>63 rows × 4 columns</p>\n",
       "</div>"
      ],
      "text/plain": [
       "     ano  mes  L7  L8\n",
       "0   2011    1   4   0\n",
       "0   2011    2   4   0\n",
       "0   2011    3   4   0\n",
       "0   2011    4   4   0\n",
       "0   2011    5   4   0\n",
       "..   ...  ...  ..  ..\n",
       "0   2019    3   0   8\n",
       "0   2019    4   0   7\n",
       "0   2019    5   0   7\n",
       "0   2019    6   0  10\n",
       "0   2019    7   0  10\n",
       "\n",
       "[63 rows x 4 columns]"
      ]
     },
     "execution_count": 10,
     "metadata": {},
     "output_type": "execute_result"
    }
   ],
   "source": [
    "df_SR = df\n",
    "df\n",
    "# df_SR = df"
   ]
  },
  {
   "cell_type": "code",
   "execution_count": 11,
   "metadata": {
    "colab": {},
    "colab_type": "code",
    "id": "_uIKOg_kYf_w"
   },
   "outputs": [],
   "source": [
    "y = range(2011,2020)\n",
    "M = range(8,13)\n",
    "d = [1,28,30,31]\n",
    "clud = 30\n",
    "df = pd.DataFrame()\n",
    "for i in y:\n",
    "    for j in M:\n",
    "        if j % 2:\n",
    "            start = ee.Date.fromYMD(i,j,d[0])\n",
    "            end = ee.Date.fromYMD(i,j,d[2])\n",
    "        else:\n",
    "            start = ee.Date.fromYMD(i,j,d[0])\n",
    "            end = ee.Date.fromYMD(i,j,d[3])\n",
    "    \n",
    "#         dataset5_T1 = ee.ImageCollection(\"LANDSAT/LT05/C01/T1_SR\").filterDate(start,end).filterBounds(ROI).size()####T1 is Data that meets geometric and radiometric quality requirements\n",
    "#         \"LANDSAT/LT05/C01/T1_SR\" - 'LANDSAT/LT05/C01/T1_TOA'\n",
    "        dataset7_T1 = ee.ImageCollection(\"LANDSAT/LE07/C01/T1_SR\").filterDate(start,end).filterBounds(ROI).size()####T1 is Data that meets geometric and radiometric quality requirements\n",
    "#         \"LANDSAT/LE07/C01/T1_SR\" - 'LANDSAT/LE07/C01/T1_TOA'\n",
    "        # dataset7_T2 = ee.ImageCollection('LANDSAT/LE07/C01/T2_SR').filterDate(start,end).filterBounds(ROI).filterMetadata(\"CLOUD_COVER\", \"less_than\", clud).size()##T2 is Data that doesn't meet the Tier 1 requirements\n",
    "        dataset8_T1 = ee.ImageCollection(\"LANDSAT/LC08/C01/T1_SR\").filterDate(start,end).filterBounds(ROI).size()\n",
    "#         \"LANDSAT/LC08/C01/T1_SR\" - \"LANDSAT/LC08/C01/T1_TOA\"\n",
    "        # dataset8_T2 = ee.ImageCollection(\"LANDSAT/LC08/C01/T2_SR\").filterDate(start,end).filterBounds(ROI).filterMetadata(\"CLOUD_COVER\", \"less_than\", clud).size()\n",
    "\n",
    "        a = pd.DataFrame({\"ano\" : [i],\n",
    "                          \"mes\" : [j],\n",
    "#                           \"L5\" : [dataset5_T1.getInfo()],\n",
    "                          \"L7\" : [dataset7_T1.getInfo()],\n",
    "                          \"L8\" : [dataset8_T1.getInfo()]})\n",
    "        df = df.append(a)"
   ]
  },
  {
   "cell_type": "code",
   "execution_count": 12,
   "metadata": {
    "colab": {
     "base_uri": "https://localhost:8080/",
     "height": 402
    },
    "colab_type": "code",
    "executionInfo": {
     "elapsed": 921,
     "status": "ok",
     "timestamp": 1595476487596,
     "user": {
      "displayName": "frank hurtado",
      "photoUrl": "https://lh3.googleusercontent.com/a-/AOh14Gj-C8anRFoHyX-VNPOZWaZyTYMZv_6RlRaozFxc=s64",
      "userId": "07768760401576123009"
     },
     "user_tz": 300
    },
    "id": "KhhKnauyBMqN",
    "outputId": "fa533e52-05fe-4266-bc2f-ff8543855d5e"
   },
   "outputs": [],
   "source": [
    "df_SR_1 = df\n",
    "# df_TOA_1 = df\n",
    "# df"
   ]
  },
  {
   "cell_type": "code",
   "execution_count": 52,
   "metadata": {
    "colab": {
     "base_uri": "https://localhost:8080/",
     "height": 17
    },
    "colab_type": "code",
    "executionInfo": {
     "elapsed": 1421,
     "status": "ok",
     "timestamp": 1595476488114,
     "user": {
      "displayName": "frank hurtado",
      "photoUrl": "https://lh3.googleusercontent.com/a-/AOh14Gj-C8anRFoHyX-VNPOZWaZyTYMZv_6RlRaozFxc=s64",
      "userId": "07768760401576123009"
     },
     "user_tz": 300
    },
    "id": "LlRORp0Iho4z",
    "outputId": "c5400387-4113-4ca3-acde-5b7977986ba6"
   },
   "outputs": [],
   "source": [
    "alldf_SR = df_SR.append(df_SR_1)\n",
    "# alldf_TOA = df_TOA.append(df_TOA_1)"
   ]
  },
  {
   "cell_type": "code",
   "execution_count": 60,
   "metadata": {},
   "outputs": [],
   "source": [
    "# alldf_TOA_c = alldf_TOA\n",
    "alldf_SR_c = alldf_SR\n",
    "# alldf_SR_c.L7[alldf_SR_c.ano==2013] = 0"
   ]
  },
  {
   "cell_type": "code",
   "execution_count": 61,
   "metadata": {
    "colab": {},
    "colab_type": "code",
    "id": "jQ2FgCm2_wDn"
   },
   "outputs": [],
   "source": [
    "# TOA = alldf_TOA_c.pivot_table(values=[\"L5\",\"L7\",\"L8\"], index=\"ano\", aggfunc='sum')\n",
    "SR = alldf_SR_c.pivot_table(values=[\"L7\",\"L8\"], index=\"ano\", aggfunc='sum')\n",
    "# .plot.bar(stacked=True)\n",
    "# locs, labels = plt.xticks()\n",
    "# plt.legend(loc='upper center', ncol=7, frameon=True, shadow=False, prop={'size':8})\n",
    "# plt.setp(labels, rotation=0, rotation_mode=\"anchor\", ha=\"center\")\n",
    "# plt.show()"
   ]
  },
  {
   "cell_type": "code",
   "execution_count": 63,
   "metadata": {
    "colab": {},
    "colab_type": "code",
    "id": "GgRC7mrN_wGX"
   },
   "outputs": [
    {
     "data": {
      "image/png": "[encoded data removed]",
      "text/plain": [
       "<Figure size 864x432 with 1 Axes>"
      ]
     },
     "metadata": {},
     "output_type": "display_data"
    }
   ],
   "source": [
    "p = SR.plot.bar(stacked=True)\n",
    "p.set(xlabel='Years', ylabel='No. of images',title=\"Number of Landsat images\")\n",
    "locs, labels = plt.xticks()\n",
    "# plt.legend(loc='upper center', ncol=7, frameon=True, shadow=False, prop={'size':8})\n",
    "p.legend(title='Landsat',loc='center left', bbox_to_anchor=(0.98, 0.5), ncol=1)\n",
    "# p.legend.set_title(\"Landsat\")\n",
    "sns.despine()\n",
    "plt.setp(labels, rotation=0, rotation_mode=\"anchor\", ha=\"center\")\n",
    "plt.show()"
   ]
  },
  {
   "cell_type": "code",
   "execution_count": 49,
   "metadata": {
    "colab": {},
    "colab_type": "code",
    "id": "FCdq7Dyk_wI3"
   },
   "outputs": [
    {
     "data": {
      "text/plain": [
       "756"
      ]
     },
     "execution_count": 49,
     "metadata": {},
     "output_type": "execute_result"
    }
   ],
   "source": [
    "SR['año'] = SR.index\n",
    "SR_melt = pd.melt(SR,\"año\")\n",
    "SR_melt\n",
    "\n",
    "t = sum(SR_melt.value)\n",
    "p = sum(SR_melt.value[SR_melt.variable==\"L7\"])\n",
    "# SR_melt.año<2013 - SR_melt.variable==\"L7\"\n",
    "po = (p*100)/t\n",
    "po\n",
    "t\n",
    "# g = sns.catplot(x=\"año\", y=\"value\", hue=\"variable\", data=SR_melt,\n",
    "#                 height=6, kind=\"bar\", palette=\"muted\")\n",
    "\n",
    "# SR_melt=SR_melt[SR_melt.variable != \"L5\"]\n",
    "# np.mean(SR_melt.value)\n"
   ]
  },
  {
   "cell_type": "code",
   "execution_count": 27,
   "metadata": {},
   "outputs": [
    {
     "data": {
      "text/plain": [
       "0    48\n",
       "1    56\n",
       "Name: value, dtype: int64"
      ]
     },
     "execution_count": 27,
     "metadata": {},
     "output_type": "execute_result"
    }
   ],
   "source": []
  }
 ],
 "metadata": {
  "colab": {
   "authorship_tag": "ABX9TyNq/Y3W+8Y9NwUfRzDr5s5L",
   "collapsed_sections": [],
   "name": "Number images.ipynb",
   "provenance": [
    {
     "file_id": "1Y01VQt5t9YY2xBh5itl0pJ6UWIcFd8Ga",
     "timestamp": 1595435786962
    }
   ]
  },
  "kernelspec": {
   "display_name": "Python 3",
   "language": "python",
   "name": "python3"
  },
  "language_info": {
   "codemirror_mode": {
    "name": "ipython",
    "version": 3
   },
   "file_extension": ".py",
   "mimetype": "text/x-python",
   "name": "python",
   "nbconvert_exporter": "python",
   "pygments_lexer": "ipython3",
   "version": "3.8.5"
  }
 },
 "nbformat": 4,
 "nbformat_minor": 4
}
