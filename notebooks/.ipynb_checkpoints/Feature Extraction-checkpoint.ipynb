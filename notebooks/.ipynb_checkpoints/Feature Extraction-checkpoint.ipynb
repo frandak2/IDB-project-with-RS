{
 "cells": [
  {
   "cell_type": "code",
   "execution_count": 1,
   "metadata": {},
   "outputs": [],
   "source": [
    "import ee\n",
    "from ipygee import *\n",
    "import eeconvert\n",
    "import pandas as pd\n",
    "import geopandas as gpd\n",
    "import numpy as np"
   ]
  },
  {
   "cell_type": "code",
   "execution_count": 2,
   "metadata": {},
   "outputs": [],
   "source": [
    "ee.Initialize()"
   ]
  },
  {
   "cell_type": "code",
   "execution_count": 3,
   "metadata": {},
   "outputs": [],
   "source": [
    "import os,glob\n",
    "g = os.getcwd()\n",
    "g\n",
    "path = 'D:\\\\repos\\\\CIAT\\\\IDB_PROJECT'\n",
    "os.chdir(path)"
   ]
  },
  {
   "cell_type": "code",
   "execution_count": 4,
   "metadata": {},
   "outputs": [],
   "source": [
    "def clouds_shadows_mask_L7(image):\n",
    "    qa = image.select('pixel_qa')\n",
    "#   If the cloud bit (5) is set and the cloud confidence (7) is high\n",
    "#   or the cloud shadow bit is set (3), then it's a bad pixel.\n",
    "    cloud = (qa.bitwiseAnd(1 << 5)\n",
    "             .And(qa.bitwiseAnd(1 << 7))\n",
    "             .Or(qa.bitwiseAnd(1 << 3)))\n",
    "#  emove edge pixels that don't occur in all bands\n",
    "    mask2 = image.mask().reduce(ee.Reducer.min())\n",
    "    mask = image.updateMask(cloud.Not()).updateMask(mask2)\n",
    "    return mask\n",
    "\n",
    "\n",
    "def clouds_shadows_mask_L8(image):\n",
    "#   // Bits 3 and 5 are cloud shadow and cloud, respectively.\n",
    "    cloudShadowBitMask = (1 << 3);\n",
    "    cloudsBitMask = (1 << 5);\n",
    "#   // Get the pixel QA band.\n",
    "    qa = image.select('pixel_qa');\n",
    "#   // Both flags should be set to zero, indicating clear conditions.\n",
    "    mask2 = (qa.bitwiseAnd(cloudShadowBitMask).eq(0)\n",
    "             .And(qa.bitwiseAnd(cloudsBitMask).eq(0)))\n",
    "    mask = image.updateMask(mask2) \n",
    "    return mask\n",
    "\n",
    "def reflectance(image):\n",
    "    return ee.Image(image.multiply(0.0001).copyProperties(image,[\"system:time_start\"]))\n",
    "\n",
    "def VI_L7(image):\n",
    "    IVs = (image.addBands(image.normalizedDifference(['B4', 'B3']).rename('NDVI')))\n",
    "#     IVs = IVs.addBands(image.normalizedDifference(['B4', 'B5']).rename('NDRE'))\n",
    "    IVs = (IVs.addBands(image.normalizedDifference(['B4', 'B2']).rename('GNDVI')))\n",
    "    IVs = (IVs.addBands(image.normalizedDifference(['B2', 'B5']).rename('DNWVI')))\n",
    "    IVs = (IVs.addBands(image.normalizedDifference(['B5', 'B4']).rename('NWVI')))\n",
    "    IVs = (IVs.addBands(image.expression(\n",
    "    '2.5 * ((NIR - RED) / (NIR + 6 * RED - 7.5 * BLUE + 1))', {\n",
    "      'NIR': image.select('B4'),\n",
    "      'RED': image.select('B3'),\n",
    "      'BLUE': image.select('B1')}).rename('EVI')))\n",
    "#     IVs = (IVs.addBands(image.expression(\n",
    "#     '(NIR * (1 - RED) * (NIR - RED))^(1/3)', {\n",
    "#       'NIR': image.select('B4'),\n",
    "#       'RED': image.select('B3')}).rename('AVI')))\n",
    "    IVs = (IVs.addBands(image.expression(\n",
    "    '(NIR - 2 * RED + BLUE)/(NIR + 2 * RED - BLUE)', {\n",
    "      'NIR': image.select('B4'),\n",
    "      'RED': image.select('B3'),\n",
    "      'BLUE': image.select('B1')}).rename('ARVI')))\n",
    "    IVs =( IVs.addBands(image.expression(\n",
    "    'NIR/(NIR + RED)', {\n",
    "      'NIR': image.select('B4'),\n",
    "      'RED': image.select('B3'),}).rename('IPVI')))\n",
    "    IVs = (IVs.addBands(image.expression(\n",
    "    '(NIR-RED)/(NIR+RED + 0.16)', {\n",
    "      'NIR': image.select('B4'),\n",
    "      'RED': image.select('B3'),}).rename('OSAVI')))\n",
    "    IVs = (IVs.addBands(image.expression(\n",
    "    'GREEN - 0.39 * RED - 0.69 * BLUE', {\n",
    "      'BLUE': image.select('B1'),\n",
    "      'RED': image.select('B3'),\n",
    "      'GREEN': image.select('B2'),}).rename('TGI')))\n",
    "    return IVs\n",
    "\n",
    "def VI_L8(image):\n",
    "    IVs = (image.addBands(image.normalizedDifference(['B5', 'B4']).rename('NDVI')))\n",
    "#     IVs = IVs.addBands(image.normalizedDifference(['B4', 'B5']).rename('NDRE'))\n",
    "    IVs = (IVs.addBands(image.normalizedDifference(['B5', 'B2']).rename('GNDVI')))\n",
    "    IVs = (IVs.addBands(image.normalizedDifference(['B2', 'B6']).rename('DNWVI')))\n",
    "    IVs = (IVs.addBands(image.normalizedDifference(['B6', 'B4']).rename('NWVI')))\n",
    "    IVs = (IVs.addBands(image.expression(\n",
    "    '2.5 * ((NIR - RED) / (NIR + 6 * RED - 7.5 * BLUE + 1))', {\n",
    "      'NIR': image.select('B5'),\n",
    "      'RED': image.select('B4'),\n",
    "      'BLUE': image.select('B2')}).rename('EVI')))\n",
    "#     IVs = (IVs.addBands(image.expression(\n",
    "#     '(NIR * (1 - RED) * (NIR - RED))^(1/3)', {\n",
    "#       'NIR': image.select('B5'),\n",
    "#       'RED': image.select('B4')}).rename('AVI')))\n",
    "    IVs = (IVs.addBands(image.expression(\n",
    "    '(NIR - 2 * RED + BLUE)/(NIR + 2 * RED - BLUE)', {\n",
    "      'NIR': image.select('B5'),\n",
    "      'RED': image.select('B4'),\n",
    "      'BLUE': image.select('B2')}).rename('ARVI')))\n",
    "    IVs =( IVs.addBands(image.expression(\n",
    "    'NIR/(NIR + RED)', {\n",
    "      'NIR': image.select('B5'),\n",
    "      'RED': image.select('B4'),}).rename('IPVI')))\n",
    "    IVs = (IVs.addBands(image.expression(\n",
    "    '(NIR-RED)/(NIR+RED + 0.16)', {\n",
    "      'NIR': image.select('B5'),\n",
    "      'RED': image.select('B4'),}).rename('OSAVI')))\n",
    "    IVs = (IVs.addBands(image.expression(\n",
    "    'GREEN - 0.39 * RED - 0.69 * BLUE', {\n",
    "      'BLUE': image.select('B2'),\n",
    "      'RED': image.select('B4'),\n",
    "      'GREEN': image.select('B3'),}).rename('TGI')))\n",
    "    return IVs"
   ]
  },
  {
   "cell_type": "code",
   "execution_count": 5,
   "metadata": {},
   "outputs": [],
   "source": [
    "def preprocessing(imageCollection,Cloud_masking = True, calculateReflectance = True, CalculateVIs = True, Landsat = 8):\n",
    "    if Cloud_masking:\n",
    "        if Landsat == 8:\n",
    "            imageCollection = imageCollection.map(clouds_shadows_mask_L8)\n",
    "        if Landsat == 7:\n",
    "            imageCollection = imageCollection.map(clouds_shadows_mask_L7)\n",
    "    if calculateReflectance:\n",
    "        imageCollection = imageCollection.map(reflectance)\n",
    "    if CalculateVIs:\n",
    "        if Landsat == 8:\n",
    "            imageCollection = imageCollection.map(VI_L8)\n",
    "        if Landsat == 7:\n",
    "            imageCollection = imageCollection.map(VI_L7)\n",
    "    return imageCollection"
   ]
  },
  {
   "cell_type": "code",
   "execution_count": 6,
   "metadata": {},
   "outputs": [
    {
     "data": {
      "text/plain": [
       "<ee.featurecollection.FeatureCollection at 0x1e300018ac0>"
      ]
     },
     "execution_count": 6,
     "metadata": {},
     "output_type": "execute_result"
    }
   ],
   "source": [
    "Points = gpd.read_file(\"Data_IDB/new/Zona_influencia_DR.shp\")\n",
    "# print(Points.crs)\n",
    "Points = Points.to_crs(\"EPSG:4326\")\n",
    "ID = str(Points[\"cuest_id_b\"]) + str(Points[\"parcela\"])\n",
    "str1 = [str(int) for int in Points[\"cuest_id_b\"]] \n",
    "str2 = [str(int) for int in Points[\"parcela\"]]\n",
    "Points[\"ID\"] = [s1 + s2 for s1, s2 in zip(str1, str2)]\n",
    "ok = Points[Points['corregido2'].str.contains(\"ok\")]\n",
    "Points = ok[[\"ID\",\"patca\",'geometry']]\n",
    "Points = eeconvert.gdfToFc(Points)\n",
    "Points"
   ]
  },
  {
   "cell_type": "code",
   "execution_count": 9,
   "metadata": {},
   "outputs": [],
   "source": [
    "# L7 = (ee.ImageCollection(\"LANDSAT/LE07/C01/T1_SR\")\n",
    "#       .filterBounds(Points)\n",
    "#       .filter(ee.Filter.lt('CLOUDY_PIXEL_PERCENTAGE',35))# filter according to drawn boundary\n",
    "#       .filterDate('2011-01-01', '2011-01-30'))\n",
    "# #       .map(lambda image: image.clipToBoundsAndScale(points)))\n",
    "# pos_L7 = preprocessing(L7,Cloud_masking = True, calculateReflectance = True, CalculateVIs = True, Landsat = 7)"
   ]
  },
  {
   "cell_type": "code",
   "execution_count": 10,
   "metadata": {},
   "outputs": [],
   "source": [
    "# Img_list = pos_L7.toList(pos_L7.size())\n",
    "# # Img_list.get(0).getInfo()\n",
    "# alldf = pd.DataFrame()\n",
    "# for i in range(0,Img_list.size().getInfo()):\n",
    "#     print(i)\n",
    "#     img = ee.Image(Img_list.get(i)).select(['NDVI','GNDVI','DNWVI','NWVI','EVI','ARVI','IPVI','OSAVI','TGI'])\n",
    "#     test = img.reduceRegions(Points,ee.Reducer.mean(),30)\n",
    "#     test = eeconvert.fcToGdf(test,crs={'init': 'epsg:4326'})\n",
    "#     test.dropna(inplace = True)\n",
    "#     date = img.date().format().getInfo()\n",
    "#     test[\"date\"] = date.split(\"T\")[0]\n",
    "#     test['date'] = pd.to_datetime(test['date'], format='%Y-%m-%d')\n",
    "#     alldf = pd.concat([alldf,test])\n",
    "# def extractFeatures(img, FeatureCollection,Bands = [\"NDVI\",\"NDRE\"]):\n",
    "#     img = img.select(Bands)\n",
    "#     FT = img.reduceRegions(FeatureCollection,ee.Reducer.mean(),30)\n",
    "#     FT = eeconvert.fcToGdf(test,crs={'init': 'epsg:4326'})\n",
    "#     FT.dropna(inplace = True)\n",
    "#     date = img.date().format().getInfo()\n",
    "#     FT[\"date\"] = date.split(\"T\")[0]\n",
    "#     FT['date'] = pd.to_datetime(FT['date'], format='%Y-%m-%d')\n",
    "#     return FT"
   ]
  },
  {
   "cell_type": "code",
   "execution_count": 7,
   "metadata": {},
   "outputs": [
    {
     "name": "stdout",
     "output_type": "stream",
     "text": [
      "L7:  7\n",
      "L8:  99\n"
     ]
    },
    {
     "name": "stderr",
     "output_type": "stream",
     "text": [
      "C:\\Users\\fmontenegro\\Miniconda3\\envs\\GEE\\lib\\site-packages\\pyproj\\crs\\crs.py:55: FutureWarning: '+init=<authority>:<code>' syntax is deprecated. '<authority>:<code>' is the preferred initialization method. When making the change, be mindful of axis order changes: https://pyproj4.github.io/pyproj/stable/gotchas.html#axis-order-changes-in-proj-6\n",
      "  return _prepare_from_string(\" \".join(pjargs))\n"
     ]
    },
    {
     "name": "stdout",
     "output_type": "stream",
     "text": [
      "L7_2016 DONE\n",
      "L8_2016 : DONE\n",
      "L7:  0\n",
      "L8:  95\n",
      "L7_2017 : Not found images\n",
      "L8_2017 : DONE\n",
      "L7:  0\n",
      "L8:  107\n",
      "L7_2018 : Not found images\n",
      "L8_2018 : DONE\n",
      "L7:  0\n",
      "L8:  107\n",
      "L7_2019 : Not found images\n",
      "L8_2019 : DONE\n"
     ]
    }
   ],
   "source": [
    "y = range(2016,2020)\n",
    "for year in y:\n",
    "    start = ee.Date.fromYMD(year,1,1)\n",
    "    end = ee.Date.fromYMD(year,12,31)\n",
    "    dataset7_T1 = (ee.ImageCollection(\"LANDSAT/LE07/C01/T1_SR\")\n",
    "                   .filterBounds(Points)\n",
    "#                        .filter(ee.Filter.lt('CLOUDY_PIXEL_PERCENTAGE',35))# filter according to drawn boundary\n",
    "                   .filterDate(start,end))####T1 is Data that meets geometric and radiometric quality requirements\n",
    "    dataset8_T1 = (ee.ImageCollection(\"LANDSAT/LC08/C01/T1_SR\")\n",
    "                   .filterBounds(Points)\n",
    "#                        .filter(ee.Filter.lt('CLOUDY_PIXEL_PERCENTAGE',35))# filter according to drawn boundary\n",
    "                   .filterDate(start,end))\n",
    "    Len_L7 = dataset7_T1.size().getInfo()\n",
    "    Len_L8 = dataset8_T1.size().getInfo()\n",
    "    print(\"L7: \",Len_L7)\n",
    "    print(\"L8: \",Len_L8)\n",
    "    if Len_L7 != 0:\n",
    "        pos_L7 = preprocessing(dataset7_T1,Cloud_masking = True, calculateReflectance = True, CalculateVIs = True, Landsat = 7)\n",
    "        Img_list = pos_L7.toList(pos_L7.size())\n",
    "        alldf7 = pd.DataFrame()\n",
    "        for i in range(0,Len_L7):\n",
    "            img = ee.Image(Img_list.get(i)).select(['NDVI','GNDVI','DNWVI','NWVI','EVI','ARVI','IPVI','OSAVI','TGI'])\n",
    "            test = img.reduceRegions(Points,ee.Reducer.mean(),30)\n",
    "            test = eeconvert.fcToGdf(test,crs={'init': 'epsg:4326'})\n",
    "            test.dropna(inplace = True)\n",
    "            date = img.date().format().getInfo()\n",
    "            test[\"date\"] = date.split(\"T\")[0]\n",
    "            test['date'] = pd.to_datetime(test['date'], format='%Y-%m-%d')\n",
    "            alldf7 = pd.concat([alldf7,test])\n",
    "        alldf7.drop('geometry', inplace=True, axis=1)\n",
    "        alldf7.to_csv(\"Data_IDB/FT/L7_\"+str(year)+\".csv\",index=False)\n",
    "        print(\"L7_\"+str(year), \"DONE\")\n",
    "    else:\n",
    "        print(\"L7_\"+str(year), \": Not found images\")\n",
    "    if Len_L8 != 0:\n",
    "        pos_L8 = preprocessing(dataset8_T1,Cloud_masking = True, calculateReflectance = True, CalculateVIs = True, Landsat = 8)\n",
    "        Img_list = pos_L8.toList(pos_L8.size())\n",
    "        alldf8 = pd.DataFrame()\n",
    "        for i in range(0,Len_L8):\n",
    "            img = ee.Image(Img_list.get(i)).select(['NDVI','GNDVI','DNWVI','NWVI','EVI','ARVI','IPVI','OSAVI','TGI'])\n",
    "            test = img.reduceRegions(Points,ee.Reducer.mean(),30)\n",
    "            test = eeconvert.fcToGdf(test,crs={'init': 'epsg:4326'})\n",
    "            test.dropna(inplace = True)\n",
    "            date = img.date().format().getInfo()\n",
    "            test[\"date\"] = date.split(\"T\")[0]\n",
    "            test['date'] = pd.to_datetime(test['date'], format='%Y-%m-%d')\n",
    "            alldf8 = pd.concat([alldf8,test])\n",
    "        alldf8.drop('geometry', inplace=True, axis=1)\n",
    "        alldf8.to_csv(\"Data_IDB/FT/L8_\"+str(year)+\".csv\",index=False)\n",
    "        print(\"L8_\"+str(year),\": DONE\")\n",
    "    else:\n",
    "        print(\"L8_\"+str(year), \": Not found images\")"
   ]
  },
  {
   "cell_type": "code",
   "execution_count": 13,
   "metadata": {},
   "outputs": [
    {
     "data": {
      "text/plain": [
       "True"
      ]
     },
     "execution_count": 13,
     "metadata": {},
     "output_type": "execute_result"
    }
   ],
   "source": [
    "f = True\n",
    "d = False\n",
    "f or d"
   ]
  },
  {
   "cell_type": "code",
   "execution_count": null,
   "metadata": {},
   "outputs": [],
   "source": [
    "import matplotlib.pyplot as plt\n",
    "# Display figures inline in Jupyter notebook\n",
    "import seaborn as sns\n",
    "# sns.set_style(\"white\")\n",
    "rc={\"font.weight\":\"bold\",'figure.figsize':(30, 6),'axes.labelsize': 28, \n",
    "    'font.size': 28,'axes.titlesize': 28,'legend.fontsize': 18, 'axes.titlesize': 28,\n",
    "   \"lines.linewidth\": 2.5,'font.sans-serif': \"Times New Roman\"}\n",
    "# sns.set()\n",
    "sns.set(style=\"white\", rc=rc,font_scale = 1.8)\n",
    "# sns.set_style(\"white\")\n",
    "# sns.set_context(\"paper\",rc=rc,font_scale = 1.5)\n",
    "DATE = pd.DataFrame({\n",
    "    'inside':[\n",
    "        '2020-03-14','2020-05-02','2020-06-21','2020-08-03'],\n",
    "    'outside':[\n",
    "        '2020-03-19','2020-05-07','2020-06-27','2020-08-08']\n",
    "})\n",
    "\n",
    "DATE['inside'] = pd.to_datetime(DATE['inside'], format='%Y-%m-%d')\n",
    "DATE['outside'] = pd.to_datetime(DATE['outside'], format='%Y-%m-%d')\n"
   ]
  },
  {
   "cell_type": "code",
   "execution_count": null,
   "metadata": {},
   "outputs": [],
   "source": [
    "df1 = df_copy[df_copy[\"names\"]==\"G5\"]\n",
    "# df1 = df1[df1[\"VIs_value\"]>=0.2]\n",
    "df1 = pd.melt(df1,id_vars=['names', \"date\"],var_name ='VIs', value_name ='VIs_value') #organizate pandas"
   ]
  },
  {
   "cell_type": "code",
   "execution_count": null,
   "metadata": {},
   "outputs": [],
   "source": [
    "p = sns.lineplot('date', 'VIs_value', hue='VIs', style='VIs',\n",
    "             data=df1)\n",
    "p.set(xlabel='Dates', ylabel='VIs value',title=\"Time serie for G5\")\n",
    "for inside  in DATE.inside:\n",
    "    p.axvline(inside,color='r',label=\"Cows come in\")\n",
    "for outside in DATE.outside:\n",
    "    p.axvline(outside,color='g',label=\"Cows come out\")\n",
    "    \n",
    "handles, labels = p.get_legend_handles_labels()\n",
    "lgd = dict(zip(labels, handles))\n",
    "p.legend(lgd.values(), lgd.keys(),loc='center left', bbox_to_anchor=(0.98, 0.5), ncol=1)\n",
    "sns.despine()\n",
    "figure = p.get_figure()\n",
    "# figure.savefig('Img/Sentinel/Campina/TS_G5-1.png', dpi=600)"
   ]
  },
  {
   "cell_type": "code",
   "execution_count": null,
   "metadata": {},
   "outputs": [],
   "source": [
    "PLOTS = gpd.read_file(\"data/Yotoco/PLOTS.shp\")\n",
    "Yotoco = eeconvert.gdfToFc(PLOTS)\n",
    "Yotoco"
   ]
  },
  {
   "cell_type": "code",
   "execution_count": null,
   "metadata": {},
   "outputs": [],
   "source": [
    "S2 = (ee.ImageCollection('COPERNICUS/S2_SR')\n",
    "        .filterDate('2019-01-01', '2020-08-15')\n",
    "        .filterBounds(Yotoco))# filter according to drawn boundary"
   ]
  },
  {
   "cell_type": "code",
   "execution_count": null,
   "metadata": {},
   "outputs": [],
   "source": [
    "yotoco = preprocessing(S2)\n",
    "yotoco"
   ]
  },
  {
   "cell_type": "code",
   "execution_count": null,
   "metadata": {},
   "outputs": [],
   "source": [
    "df_yotoco_S2 = ExtractFeatures(yotoco,Yotoco,[\"NDVI\",\"NDRE\",\"GNDVI\",\"IPVI\"])"
   ]
  },
  {
   "cell_type": "code",
   "execution_count": null,
   "metadata": {},
   "outputs": [],
   "source": [
    "df_yotoco_S2 = df_yotoco_S2.dropna()\n",
    "df_copy = df_yotoco_S2\n",
    "df_copy.head()"
   ]
  },
  {
   "cell_type": "code",
   "execution_count": null,
   "metadata": {},
   "outputs": [],
   "source": [
    "del df_copy['FID']\n",
    "# df1 = df_copy[df_copy[\"names\"]==\"P6\"]\n",
    "# df1 = df1[df1[\"VIs_value\"]>=0.2]\n",
    "df1 = pd.melt(df_copy,id_vars=['names', \"date\"],var_name ='VIs', value_name ='VIs_value') #organizate pandas\n",
    "df1.sort_values(by=['names'], inplace=True, ascending = True)\n",
    "df1"
   ]
  },
  {
   "cell_type": "code",
   "execution_count": null,
   "metadata": {},
   "outputs": [],
   "source": [
    "df2 = df1[df1[\"names\"]==\"P 05\"]"
   ]
  },
  {
   "cell_type": "code",
   "execution_count": null,
   "metadata": {},
   "outputs": [],
   "source": [
    "p = sns.lineplot('date', 'VIs_value', hue='VIs', style= \"VIs\",\n",
    "             data=df2)\n",
    "p.set(xlabel='Dates', ylabel='VIs value',title=\"Time serie for Yotoco - Canada farm Plot P 05\")\n",
    "# for inside  in DATE.inside:\n",
    "#     p.axvline(inside,color='r',label=\"Cows come in\")\n",
    "# for outside in DATE.outside:\n",
    "#     p.axvline(outside,color='g',label=\"Cows come out\")\n",
    "    \n",
    "handles, labels = p.get_legend_handles_labels()\n",
    "lgd = dict(zip(labels, handles))\n",
    "p.legend(lgd.values(), lgd.keys(),loc='center left', bbox_to_anchor=(0.98, 0.5), ncol=1)\n",
    "sns.despine()\n",
    "figure = p.get_figure()\n",
    "# figure.savefig('Img/Sentinel/Yotoco/TS_P05_plots_S2.png', dpi=600)"
   ]
  },
  {
   "cell_type": "code",
   "execution_count": null,
   "metadata": {},
   "outputs": [],
   "source": [
    "S1 = (ee.ImageCollection('COPERNICUS/S1_GRD')\n",
    "      .filterDate('2019-01-01', '2020-08-15')\n",
    "      .filterBounds(Yotoco)# filter according to drawn boundary\n",
    "      .filter(ee.Filter.eq('instrumentMode', 'IW')))#filter type sensor"
   ]
  },
  {
   "cell_type": "code",
   "execution_count": null,
   "metadata": {},
   "outputs": [],
   "source": [
    "descVV = S1.filter(ee.Filter.eq('orbitProperties_pass', 'DESCENDING')).filter(ee.Filter.listContains('transmitterReceiverPolarisation', 'VV'))\n",
    "ascVV = S1.filter(ee.Filter.eq('orbitProperties_pass', 'ASCENDING')).filter(ee.Filter.listContains('transmitterReceiverPolarisation', 'VV'))"
   ]
  },
  {
   "cell_type": "code",
   "execution_count": null,
   "metadata": {},
   "outputs": [],
   "source": [
    "# // remove the mountains from the data\n",
    "hydrosheds = ee.Image('WWF/HydroSHEDS/03VFDEM');\n",
    "terrain = ee.Algorithms.Terrain(hydrosheds);\n",
    "slope = terrain.select('slope');\n",
    " \n",
    "# // remove all slopes greater then 2 degrees\n",
    "paddies = paddies.updateMask(slope.lt(2));"
   ]
  },
  {
   "cell_type": "code",
   "execution_count": null,
   "metadata": {},
   "outputs": [],
   "source": [
    "df_yotoco_S1 = ExtractFeatures(descVV,Yotoco,[\"VV\",\"VH\"])"
   ]
  },
  {
   "cell_type": "code",
   "execution_count": null,
   "metadata": {},
   "outputs": [],
   "source": [
    "df_yotoco_S1 = df_yotoco_S1.dropna()\n",
    "df_copy = df_yotoco_S1\n",
    "df_copy.head()"
   ]
  },
  {
   "cell_type": "code",
   "execution_count": null,
   "metadata": {},
   "outputs": [],
   "source": [
    "del df_copy['FID']\n",
    "# df1 = df_copy[df_copy[\"names\"]==\"P6\"]\n",
    "df1 = pd.melt(df_copy,id_vars=['names', \"date\"],var_name ='VIs', value_name ='VIs_value') #organizate pandas\n",
    "# df1 = df1[df1[\"VIs\"]==\"NDVI\"]\n",
    "df1.sort_values(by=['names'], inplace=True, ascending = True)\n",
    "df1"
   ]
  },
  {
   "cell_type": "code",
   "execution_count": null,
   "metadata": {},
   "outputs": [],
   "source": [
    "df2 = df1[df1[\"names\"]==\"P 05\"]"
   ]
  },
  {
   "cell_type": "code",
   "execution_count": null,
   "metadata": {},
   "outputs": [],
   "source": [
    "p = sns.lineplot('date', 'VIs_value', hue='VIs', style= \"VIs\",\n",
    "             data=df1)\n",
    "p.set(xlabel='Dates', ylabel='VIs value',title=\"Time serie SAR for Yotoco - Canada farm\")\n",
    "# for inside  in DATE.inside:\n",
    "#     p.axvline(inside,color='r',label=\"Cows come in\")\n",
    "# for outside in DATE.outside:\n",
    "#     p.axvline(outside,color='g',label=\"Cows come out\")\n",
    "    \n",
    "handles, labels = p.get_legend_handles_labels()\n",
    "lgd = dict(zip(labels, handles))\n",
    "p.legend(lgd.values(), lgd.keys(),loc='center left', bbox_to_anchor=(0.98, 0.5), ncol=1)\n",
    "sns.despine()\n",
    "figure = p.get_figure()\n",
    "figure.savefig('Img/Sentinel/Yotoco/TS_ALL_plots_S1.png', dpi=600)"
   ]
  },
  {
   "cell_type": "code",
   "execution_count": null,
   "metadata": {},
   "outputs": [],
   "source": []
  },
  {
   "cell_type": "code",
   "execution_count": null,
   "metadata": {},
   "outputs": [],
   "source": []
  },
  {
   "cell_type": "code",
   "execution_count": null,
   "metadata": {},
   "outputs": [],
   "source": [
    "15802203"
   ]
  }
 ],
 "metadata": {
  "kernelspec": {
   "display_name": "Python (GEE)",
   "language": "python",
   "name": "gee"
  },
  "language_info": {
   "codemirror_mode": {
    "name": "ipython",
    "version": 3
   },
   "file_extension": ".py",
   "mimetype": "text/x-python",
   "name": "python",
   "nbconvert_exporter": "python",
   "pygments_lexer": "ipython3",
   "version": "3.8.5"
  }
 },
 "nbformat": 4,
 "nbformat_minor": 4
}
