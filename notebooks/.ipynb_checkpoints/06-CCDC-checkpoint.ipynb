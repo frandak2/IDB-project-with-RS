{
 "cells": [
  {
   "cell_type": "markdown",
   "metadata": {
    "id": "HgiuT8ZOwYhC"
   },
   "source": [
    "# CHANGE DETECTION"
   ]
  },
  {
   "cell_type": "markdown",
   "metadata": {
    "id": "DDQ6K5fFwfFY"
   },
   "source": [
    "## Instalar\n",
    "Instalar geemap y eeconvert en Google Colab."
   ]
  },
  {
   "cell_type": "code",
   "execution_count": null,
   "metadata": {
    "colab": {
     "base_uri": "https://localhost:8080/",
     "height": 1000
    },
    "id": "xQR7sHhV5HSy",
    "outputId": "44f2029b-d2a7-4a5f-d0d5-bee6016df79d"
   },
   "outputs": [],
   "source": [
    "!pip install geemap\n",
    "!pip install eeconvert"
   ]
  },
  {
   "cell_type": "markdown",
   "metadata": {
    "id": "8_-Tchudwlg_"
   },
   "source": [
    "## Importar"
   ]
  },
  {
   "cell_type": "markdown",
   "metadata": {
    "id": "o4gdFwdVwoZQ"
   },
   "source": [
    "- Google Earth Engine y utilidades"
   ]
  },
  {
   "cell_type": "code",
   "execution_count": 1,
   "metadata": {
    "id": "k5RoPwFl40Fw"
   },
   "outputs": [],
   "source": [
    "import ee, eeconvert, geemap.eefolium as geemap"
   ]
  },
  {
   "cell_type": "markdown",
   "metadata": {
    "id": "YBHpuI0LwwMA"
   },
   "source": [
    "- Manejo de (Geo) Data Frames"
   ]
  },
  {
   "cell_type": "code",
   "execution_count": 2,
   "metadata": {
    "id": "mgWCqLdjwtsQ"
   },
   "outputs": [],
   "source": [
    "import geopandas as gpd, pandas as pd"
   ]
  },
  {
   "cell_type": "markdown",
   "metadata": {
    "id": "Uo8NSc60wzlI"
   },
   "source": [
    "- Manejo de Arrays"
   ]
  },
  {
   "cell_type": "code",
   "execution_count": 3,
   "metadata": {
    "id": "Tt6YKe9Ewtj5"
   },
   "outputs": [],
   "source": [
    "import numpy as np"
   ]
  },
  {
   "cell_type": "markdown",
   "metadata": {
    "id": "jcaxpRRAw19n"
   },
   "source": [
    "## Iniciar GEE\n",
    "- Initialization"
   ]
  },
  {
   "cell_type": "code",
   "execution_count": 4,
   "metadata": {
    "id": "Jb5exlmY5Q0t"
   },
   "outputs": [],
   "source": [
    "ee.Initialize()"
   ]
  },
  {
   "cell_type": "markdown",
   "metadata": {
    "id": "Eiq70teKxA3C"
   },
   "source": [
    "## Datos"
   ]
  },
  {
   "cell_type": "markdown",
   "metadata": {
    "id": "DPGQ8nvZxDCA"
   },
   "source": [
    "Directorio donde se encuentra el shapefile."
   ]
  },
  {
   "cell_type": "code",
   "execution_count": 5,
   "metadata": {
    "id": "RPXvuDIV5R9D"
   },
   "outputs": [],
   "source": [
    "import os,glob\n",
    "g = os.getcwd()\n",
    "g\n",
    "path = 'D:\\\\repos\\\\CIAT\\\\IDB_PROJECT'\n",
    "os.chdir(path)"
   ]
  },
  {
   "cell_type": "markdown",
   "metadata": {
    "id": "wx26wDVlxKfY"
   },
   "source": [
    "Lectura del shapefile y cambio del sistema de referencia."
   ]
  },
  {
   "cell_type": "code",
   "execution_count": 6,
   "metadata": {
    "id": "h9R8uXgRSutX"
   },
   "outputs": [],
   "source": [
    "points = gpd.read_file(\"Data_IDB/new/Zona_influencia_DR.shp\").to_crs(\"EPSG:4326\")"
   ]
  },
  {
   "cell_type": "markdown",
   "metadata": {
    "id": "dmMl12BexPD6"
   },
   "source": [
    "Asignación de un identificador único para cada registro."
   ]
  },
  {
   "cell_type": "code",
   "execution_count": 7,
   "metadata": {
    "id": "rFUnQRykSuqW"
   },
   "outputs": [],
   "source": [
    "points['ID'] = points['cuest_id_b'].astype(str) + points['parcela'].astype(str)"
   ]
  },
  {
   "cell_type": "markdown",
   "metadata": {
    "id": "JI03QdSxxTSg"
   },
   "source": [
    "Obtener sólo los registros corregidos."
   ]
  },
  {
   "cell_type": "code",
   "execution_count": 8,
   "metadata": {
    "id": "hdkj_ClRSunS"
   },
   "outputs": [
    {
     "data": {
      "text/plain": [
       "377"
      ]
     },
     "execution_count": 8,
     "metadata": {},
     "output_type": "execute_result"
    }
   ],
   "source": [
    "points = points[points['corregido2'].str.contains(\"ok\")][['ID','patca','geometry']]\n",
    "len(points)"
   ]
  },
  {
   "cell_type": "markdown",
   "metadata": {
    "id": "nwq_a02qxW_Z"
   },
   "source": [
    "Convertir a Feature Collection."
   ]
  },
  {
   "cell_type": "code",
   "execution_count": 9,
   "metadata": {
    "id": "DW3v9gVjSufK"
   },
   "outputs": [],
   "source": [
    "eepoints = eeconvert.gdfToFc(points)"
   ]
  },
  {
   "cell_type": "markdown",
   "metadata": {
    "id": "mlVZFMGXxcTo"
   },
   "source": [
    "## Preprocesamiento de Imágenes"
   ]
  },
  {
   "cell_type": "markdown",
   "metadata": {
    "id": "Fo6s-EFzxe-d"
   },
   "source": [
    "Nombres en para bandas en común entre Landsat 7 y Landsat 8. Esto con el fin de crear una única colección de imágenes con ambos datasets."
   ]
  },
  {
   "cell_type": "code",
   "execution_count": 10,
   "metadata": {
    "id": "i3ifVzXcr8Nj"
   },
   "outputs": [],
   "source": [
    "bandNames = ['BLUE','GREEN','RED','NIR','SWIR1','SWIR2','pixel_qa']"
   ]
  },
  {
   "cell_type": "markdown",
   "metadata": {
    "id": "C7dK0o9mxqW4"
   },
   "source": [
    "Bandas correspondientes para cada satélite."
   ]
  },
  {
   "cell_type": "code",
   "execution_count": 11,
   "metadata": {
    "id": "i1aPlICCxolE"
   },
   "outputs": [],
   "source": [
    "L7Bands = ['B1','B2','B3','B4','B5','B7','pixel_qa']\n",
    "L8Bands = ['B2','B3','B4','B5','B6','B7','pixel_qa']"
   ]
  },
  {
   "cell_type": "markdown",
   "metadata": {
    "id": "PVSQP9_VxwNh"
   },
   "source": [
    "Lectura de cada uno de los datasets. Se realizan los filtros correspondientes por ubicación, fecha y se seleccionan únicamente las bandas en común (también se renombran)."
   ]
  },
  {
   "cell_type": "code",
   "execution_count": 12,
   "metadata": {
    "id": "cqNh06EMqhYY"
   },
   "outputs": [],
   "source": [
    "L7 = ee.ImageCollection(\"LANDSAT/LE07/C01/T1_SR\").filterBounds(eepoints).filterDate('2011-01-01','2020-01-01').select(L7Bands,bandNames)\n",
    "L8 = ee.ImageCollection(\"LANDSAT/LC08/C01/T1_SR\").filterBounds(eepoints).filterDate('2011-01-01','2020-01-01').select(L8Bands,bandNames)"
   ]
  },
  {
   "cell_type": "markdown",
   "metadata": {
    "id": "Osm3nzWXyA3i"
   },
   "source": [
    "Unir ambas colecciones en una sola y ordenar por fecha."
   ]
  },
  {
   "cell_type": "markdown",
   "metadata": {},
   "source": [
    "- creacion funciones de indices"
   ]
  },
  {
   "cell_type": "code",
   "execution_count": 13,
   "metadata": {},
   "outputs": [],
   "source": [
    "def clouds_shadows_mask_L7(image):\n",
    "    qa = image.select('pixel_qa')\n",
    "#   If the cloud bit (5) is set and the cloud confidence (7) is high\n",
    "#   or the cloud shadow bit is set (3), then it's a bad pixel.\n",
    "    cloud = (qa.bitwiseAnd(1 << 5)\n",
    "             .And(qa.bitwiseAnd(1 << 7))\n",
    "             .Or(qa.bitwiseAnd(1 << 3)))\n",
    "#  emove edge pixels that don't occur in all bands\n",
    "    mask2 = image.mask().reduce(ee.Reducer.min())\n",
    "    mask = image.updateMask(cloud.Not()).updateMask(mask2)\n",
    "    return mask\n",
    "\n",
    "\n",
    "def clouds_shadows_mask_L8(image):\n",
    "#   // Bits 3 and 5 are cloud shadow and cloud, respectively.\n",
    "    cloudShadowBitMask = (1 << 3);\n",
    "    cloudsBitMask = (1 << 5);\n",
    "#   // Get the pixel QA band.\n",
    "    qa = image.select('pixel_qa');\n",
    "#   // Both flags should be set to zero, indicating clear conditions.\n",
    "    mask2 = (qa.bitwiseAnd(cloudShadowBitMask).eq(0)\n",
    "             .And(qa.bitwiseAnd(cloudsBitMask).eq(0)))\n",
    "    mask = image.updateMask(mask2) \n",
    "    return mask\n",
    "\n",
    "def reflectance(image):\n",
    "    return ee.Image(image.multiply(0.0001).copyProperties(image,[\"system:time_start\"]))\n",
    "\n",
    "def VI_L7(image):\n",
    "    IVs = (image.addBands(image.normalizedDifference(['NIR', 'RED']).rename('NDVI')))\n",
    "    IVs = (IVs.addBands(image.expression(\n",
    "    '2.5 * ((NIR - RED) / (NIR + 6 * RED - 7.5 * BLUE + 1))', {\n",
    "      'NIR': image.select('NIR'),\n",
    "      'RED': image.select('RED'),\n",
    "      'BLUE': image.select('BLUE')}).rename('EVI')))\n",
    "    IVs = (IVs.addBands(image.expression(\n",
    "    '(NIR-RED)/(NIR+RED + 0.16)', {\n",
    "      'NIR': image.select('NIR'),\n",
    "      'RED': image.select('RED'),}).rename('SAVI')))\n",
    "    return IVs\n",
    "\n",
    "def preprocessing(imageCollection,Cloud_masking = True, calculateReflectance = True, CalculateVIs = True, Landsat = 8):\n",
    "    if Cloud_masking:\n",
    "        if Landsat == 8:\n",
    "            imageCollection = imageCollection.map(clouds_shadows_mask_L8)\n",
    "        if Landsat == 7:\n",
    "            imageCollection = imageCollection.map(clouds_shadows_mask_L7)\n",
    "    if calculateReflectance:\n",
    "        imageCollection = imageCollection.map(reflectance)\n",
    "    if CalculateVIs:\n",
    "        imageCollection = imageCollection.map(VI_L7)\n",
    "    return imageCollection"
   ]
  },
  {
   "cell_type": "code",
   "execution_count": 17,
   "metadata": {},
   "outputs": [
    {
     "data": {
      "text/plain": [
       "['NDVI', 'SAVI', 'EVI']"
      ]
     },
     "execution_count": 17,
     "metadata": {},
     "output_type": "execute_result"
    }
   ],
   "source": [
    "pos_L7 = preprocessing(L7,Landsat = 7)\n",
    "pos_L8 = preprocessing(L8,Landsat = 8)\n",
    "bandNames = ['NDVI','SAVI','EVI'] #,'NDVI','SAVI','EVI'\n",
    "bandNames"
   ]
  },
  {
   "cell_type": "code",
   "execution_count": 18,
   "metadata": {
    "id": "IufiZ-SjrU4y"
   },
   "outputs": [],
   "source": [
    "pos_L78 = pos_L7.merge(pos_L8).sort('system:time_start')\n",
    "L78 = L7.merge(L8).sort('system:time_start')"
   ]
  },
  {
   "cell_type": "code",
   "execution_count": 19,
   "metadata": {},
   "outputs": [],
   "source": [
    "pos_L78_IV = pos_L78.select(bandNames)\n",
    "# L78 = L78.select(bandNames)"
   ]
  },
  {
   "cell_type": "markdown",
   "metadata": {
    "id": "R5URwBNgyMKr"
   },
   "source": [
    "## Detección de Cambios"
   ]
  },
  {
   "cell_type": "markdown",
   "metadata": {
    "id": "bdr8Z5igyOwH"
   },
   "source": [
    "### Algoritmo Continuous Change Detection and Classification\n",
    "Este algoritmo recibe una colección de imágenes, utiliza todas las bandas para ajustar funciones armónicas y encontrar fechas de quiebre cuando las funciones cambian (el algoritmo funciona a base de pixel).\n",
    "\n",
    "> **PUEDE HABER MÁS DE UNA FECHA DE QUIEBRE**\n",
    "\n",
    "- Se utilizaron todas las bandas para el algoritmo (el algoritmo da la opción de usar sólo las bandas seleccionadas, así que este parámetro puede cambiarse a gusto).\n",
    "- Se utilizaron las bandas VERDE y SWIR2 para enmascarar nubes y sombras usando el algoritmo TMASK-\n",
    "- El formato de fecha de salida es MILISEGUNDOS.\n",
    "\n"
   ]
  },
  {
   "cell_type": "code",
   "execution_count": 20,
   "metadata": {
    "colab": {
     "base_uri": "https://localhost:8080/",
     "height": 167
    },
    "id": "6U6xrMmyt2c0",
    "outputId": "281568e6-6164-42aa-afd6-9fd944a4057d"
   },
   "outputs": [],
   "source": [
    "CCDC = ee.Algorithms.TemporalSegmentation.Ccdc(collection = pos_L78_IV,minObservations = 4,\n",
    "                                               chiSquareProbability=0.95,\n",
    "                                               dateFormat = 2) #, breakpointBands=['NDVI','SAVI','EVI'],maxIterations = 10000,chiSquareProbability=0.95,\n",
    "#                                                minNumOfYearsScaler = 0.7,tmaskBands = ['GREEN','SWIR2'],"
   ]
  },
  {
   "cell_type": "markdown",
   "metadata": {
    "id": "X5eMrTt6zSVc"
   },
   "source": [
    "El algoritmo encuentra segmentos y guarda las fechas de acuerdo a segmentos:\n",
    "\n",
    "- tStart: Inicio de segmento.\n",
    "- tEnd: Fin de segmento.\n",
    "- tBreak: Punto de quiebre (inicio del siguiente segmento: siguiente _tStart_. El fin de un segmento _tEnd_ no es necesariamente el inicio de otro segmento _tStart_ y por lo tanto no necesariamente un punto de quiebre _tBreak_).\n",
    "- numObs: Observaciones del segmento.\n",
    "\n",
    "Estos valores se extraen por cada registro del Feature Collection. Al ser polígonos, sólo nos interesa un valor (ee.Reducer.first())."
   ]
  },
  {
   "cell_type": "code",
   "execution_count": 21,
   "metadata": {
    "colab": {
     "base_uri": "https://localhost:8080/",
     "height": 167
    },
    "id": "oqfLg9Eu4ZHg",
    "outputId": "e45b4404-c366-4e7a-87a4-f97b7b4555d3"
   },
   "outputs": [],
   "source": [
    "eepointsCCDC = CCDC.select(['tStart','tEnd','tBreak','numObs']).reduceRegions(collection = eepoints,reducer = ee.Reducer.first(),scale = 30,tileScale = 16)"
   ]
  },
  {
   "cell_type": "markdown",
   "metadata": {
    "id": "eELCLtUbzrtb"
   },
   "source": [
    "Convertir valores extraídos a un Data Frame."
   ]
  },
  {
   "cell_type": "code",
   "execution_count": 22,
   "metadata": {
    "id": "kI5acLo1tbFI"
   },
   "outputs": [
    {
     "name": "stderr",
     "output_type": "stream",
     "text": [
      "C:\\Users\\fmontenegro\\Miniconda3\\envs\\GEE\\lib\\site-packages\\pyproj\\crs\\crs.py:55: FutureWarning: '+init=<authority>:<code>' syntax is deprecated. '<authority>:<code>' is the preferred initialization method. When making the change, be mindful of axis order changes: https://pyproj4.github.io/pyproj/stable/gotchas.html#axis-order-changes-in-proj-6\n",
      "  return _prepare_from_string(\" \".join(pjargs))\n"
     ]
    }
   ],
   "source": [
    "pointsCCDC = eeconvert.fcToGdf(eepointsCCDC)"
   ]
  },
  {
   "cell_type": "markdown",
   "metadata": {
    "id": "RzzIi9MV0CuA"
   },
   "source": [
    "Los valores se guardan en listas (el tamaño de la lista es proporcional al número de segmentos encontrados). Más de un segmento significa que un cambio fue encontrado. Estas listas son explotadas y apiladas en la misma columna."
   ]
  },
  {
   "cell_type": "code",
   "execution_count": 23,
   "metadata": {
    "id": "EdHVuVNwtiDs"
   },
   "outputs": [],
   "source": [
    "tStart = pointsCCDC['tStart'].explode()\n",
    "tEnd = pointsCCDC['tEnd'].explode()\n",
    "tBreak = pointsCCDC['tBreak'].explode()\n",
    "numObs = pointsCCDC['numObs'].explode()"
   ]
  },
  {
   "cell_type": "markdown",
   "metadata": {
    "id": "w91wt76H0eY_"
   },
   "source": [
    "Ya que las listas fueron explotadas y apiladas en la misma columna, los índices de los registros que se apilaron se utilizan para replicar los registros del data frame. Si una lista tiene dos segmentos para un registro, este debe ahora aparecer dos veces."
   ]
  },
  {
   "cell_type": "code",
   "execution_count": 24,
   "metadata": {
    "id": "vQgw5F0nvGxM"
   },
   "outputs": [],
   "source": [
    "pointsExploded = pointsCCDC.loc[numObs.index,['ID','patca','geometry']]"
   ]
  },
  {
   "cell_type": "markdown",
   "metadata": {
    "id": "gynuYqPP00T7"
   },
   "source": [
    "Se añaden los valores de las listas explotadas al data frame donde se replicaron los registros. En el caso de los datos de fecha, estos son formateados de acuerdo a sus unidades de MILISEGUNDOS."
   ]
  },
  {
   "cell_type": "code",
   "execution_count": 25,
   "metadata": {
    "id": "LIZsZrknvrPi"
   },
   "outputs": [],
   "source": [
    "pointsExploded['tStart'] = pd.to_datetime(tStart,unit = 'ms')\n",
    "pointsExploded['tEnd'] = pd.to_datetime(tEnd,unit = 'ms')\n",
    "pointsExploded['tBreak'] = pd.to_datetime(tBreak,unit = 'ms')"
   ]
  },
  {
   "cell_type": "markdown",
   "metadata": {
    "id": "qkc6rAeb0_u7"
   },
   "source": [
    "En el caso del número de observaciones no se realiza ningún cambio."
   ]
  },
  {
   "cell_type": "code",
   "execution_count": 26,
   "metadata": {
    "id": "Zg_Nn7GEwFeD"
   },
   "outputs": [],
   "source": [
    "pointsExploded['numObs'] = numObs"
   ]
  },
  {
   "cell_type": "markdown",
   "metadata": {
    "id": "3qSdych21prs"
   },
   "source": [
    "Cuando sólo existe un segmento, no existe (generalmente) punto de quiebre y su valor de MILISEGUNDOS es configurado en cero, lo que equivale a una fecha de 1970 (esto también ocurre a veces en el segmento final cuando hay más de un segmento). Así que podemos cambiar estos valores para evitar confusiones."
   ]
  },
  {
   "cell_type": "code",
   "execution_count": null,
   "metadata": {
    "id": "dJLZqACW12J3"
   },
   "outputs": [],
   "source": [
    "pointsExploded.loc[pointsExploded['tBreak'] < '2011-01-01','tBreak'] = np.nan"
   ]
  },
  {
   "cell_type": "markdown",
   "metadata": {
    "id": "c1AR6isT1Edw"
   },
   "source": [
    "## Ejemplos"
   ]
  },
  {
   "cell_type": "markdown",
   "metadata": {
    "id": "hjDp35qQ3Tse"
   },
   "source": [
    "El registro con ID 386311 sólo tiene un segmento de 131 imágenes que inicia en 2011-01-01 y termina en 20019-12-17. No se ecnontró ningún punto de quiebre o cambio de cobertura en las imágenes."
   ]
  },
  {
   "cell_type": "code",
   "execution_count": null,
   "metadata": {
    "colab": {
     "base_uri": "https://localhost:8080/",
     "height": 80
    },
    "id": "Zx_u8cRX1WqZ",
    "outputId": "9c4b27e4-c24c-4a05-cd02-7c74022faab4"
   },
   "outputs": [],
   "source": [
    "pointsExploded[pointsExploded['ID'] == '386511']"
   ]
  },
  {
   "cell_type": "markdown",
   "metadata": {
    "id": "GQomvT8L3lug"
   },
   "source": [
    "El registro con ID 396011 tiene 4 segmentos con 47, 42, 31 y 6 imágenes respectivamente. El primer segmento inicia en 2011-01-01 y termina en 2015-03-25. El segundo segmento inicia en 2015-04-10 y termina en 2018-01-28. Y así sucesivamente."
   ]
  },
  {
   "cell_type": "code",
   "execution_count": null,
   "metadata": {
    "colab": {
     "base_uri": "https://localhost:8080/",
     "height": 173
    },
    "id": "k05UMhkcv8lT",
    "outputId": "725990c6-4cdc-48a7-eb40-ea0129426854"
   },
   "outputs": [],
   "source": [
    "pointsExploded[pointsExploded['ID'] == '94911']"
   ]
  },
  {
   "cell_type": "code",
   "execution_count": 30,
   "metadata": {},
   "outputs": [
    {
     "data": {
      "text/html": [
       "<div>\n",
       "<style scoped>\n",
       "    .dataframe tbody tr th:only-of-type {\n",
       "        vertical-align: middle;\n",
       "    }\n",
       "\n",
       "    .dataframe tbody tr th {\n",
       "        vertical-align: top;\n",
       "    }\n",
       "\n",
       "    .dataframe thead th {\n",
       "        text-align: right;\n",
       "    }\n",
       "</style>\n",
       "<table border=\"1\" class=\"dataframe\">\n",
       "  <thead>\n",
       "    <tr style=\"text-align: right;\">\n",
       "      <th></th>\n",
       "      <th>ID</th>\n",
       "      <th>patca</th>\n",
       "      <th>geometry</th>\n",
       "      <th>tStart</th>\n",
       "      <th>tEnd</th>\n",
       "      <th>tBreak</th>\n",
       "      <th>numObs</th>\n",
       "    </tr>\n",
       "  </thead>\n",
       "  <tbody>\n",
       "    <tr>\n",
       "      <th>0</th>\n",
       "      <td>386311</td>\n",
       "      <td>1</td>\n",
       "      <td>POLYGON ((-71.70753 18.89259, -71.70756 18.892...</td>\n",
       "      <td>2011-01-01 15:01:56.470</td>\n",
       "      <td>2019-12-17 15:09:03.062</td>\n",
       "      <td>1970-01-01 00:00:00.000</td>\n",
       "      <td>128</td>\n",
       "    </tr>\n",
       "    <tr>\n",
       "      <th>1</th>\n",
       "      <td>386512</td>\n",
       "      <td>1</td>\n",
       "      <td>POLYGON ((-71.68327 18.70962, -71.68331 18.709...</td>\n",
       "      <td>2011-01-01 15:01:56.470</td>\n",
       "      <td>2019-12-17 15:09:03.062</td>\n",
       "      <td>1970-01-01 00:00:00.000</td>\n",
       "      <td>123</td>\n",
       "    </tr>\n",
       "    <tr>\n",
       "      <th>2</th>\n",
       "      <td>396011</td>\n",
       "      <td>0</td>\n",
       "      <td>POLYGON ((-70.82647 18.39846, -70.82666 18.398...</td>\n",
       "      <td>2011-01-01 15:01:56.470</td>\n",
       "      <td>2014-11-01 15:08:56.930</td>\n",
       "      <td>2014-11-17 15:08:57.422</td>\n",
       "      <td>51</td>\n",
       "    </tr>\n",
       "    <tr>\n",
       "      <th>2</th>\n",
       "      <td>396011</td>\n",
       "      <td>0</td>\n",
       "      <td>POLYGON ((-70.82647 18.39846, -70.82666 18.398...</td>\n",
       "      <td>2015-01-20 15:08:44.461</td>\n",
       "      <td>2019-12-17 15:09:03.062</td>\n",
       "      <td>1970-01-01 00:00:00.000</td>\n",
       "      <td>78</td>\n",
       "    </tr>\n",
       "    <tr>\n",
       "      <th>3</th>\n",
       "      <td>407811</td>\n",
       "      <td>1</td>\n",
       "      <td>POLYGON ((-70.88998 18.74631, -70.88973 18.746...</td>\n",
       "      <td>2011-01-01 15:01:56.470</td>\n",
       "      <td>2019-12-01 15:09:04.969</td>\n",
       "      <td>1970-01-01 00:00:00.000</td>\n",
       "      <td>83</td>\n",
       "    </tr>\n",
       "  </tbody>\n",
       "</table>\n",
       "</div>"
      ],
      "text/plain": [
       "       ID  patca                                           geometry  \\\n",
       "0  386311      1  POLYGON ((-71.70753 18.89259, -71.70756 18.892...   \n",
       "1  386512      1  POLYGON ((-71.68327 18.70962, -71.68331 18.709...   \n",
       "2  396011      0  POLYGON ((-70.82647 18.39846, -70.82666 18.398...   \n",
       "2  396011      0  POLYGON ((-70.82647 18.39846, -70.82666 18.398...   \n",
       "3  407811      1  POLYGON ((-70.88998 18.74631, -70.88973 18.746...   \n",
       "\n",
       "                   tStart                    tEnd                  tBreak  \\\n",
       "0 2011-01-01 15:01:56.470 2019-12-17 15:09:03.062 1970-01-01 00:00:00.000   \n",
       "1 2011-01-01 15:01:56.470 2019-12-17 15:09:03.062 1970-01-01 00:00:00.000   \n",
       "2 2011-01-01 15:01:56.470 2014-11-01 15:08:56.930 2014-11-17 15:08:57.422   \n",
       "2 2015-01-20 15:08:44.461 2019-12-17 15:09:03.062 1970-01-01 00:00:00.000   \n",
       "3 2011-01-01 15:01:56.470 2019-12-01 15:09:04.969 1970-01-01 00:00:00.000   \n",
       "\n",
       "  numObs  \n",
       "0    128  \n",
       "1    123  \n",
       "2     51  \n",
       "2     78  \n",
       "3     83  "
      ]
     },
     "execution_count": 30,
     "metadata": {},
     "output_type": "execute_result"
    }
   ],
   "source": [
    "pointsExploded.to_csv(\"Data_IDB/iv_CCDC_2019.csv\")\n",
    "pointsExploded.head()"
   ]
  },
  {
   "cell_type": "code",
   "execution_count": 29,
   "metadata": {},
   "outputs": [
    {
     "data": {
      "text/plain": [
       "377"
      ]
     },
     "execution_count": 29,
     "metadata": {},
     "output_type": "execute_result"
    }
   ],
   "source": []
  },
  {
   "cell_type": "code",
   "execution_count": null,
   "metadata": {},
   "outputs": [],
   "source": []
  }
 ],
 "metadata": {
  "colab": {
   "collapsed_sections": [],
   "name": "Copia de 2020-11-30 CHANGE DETECTION REPUBLICA DOMINICANA FRANK.ipynb",
   "provenance": []
  },
  "kernelspec": {
   "display_name": "Python 3",
   "language": "python",
   "name": "python3"
  },
  "language_info": {
   "codemirror_mode": {
    "name": "ipython",
    "version": 3
   },
   "file_extension": ".py",
   "mimetype": "text/x-python",
   "name": "python",
   "nbconvert_exporter": "python",
   "pygments_lexer": "ipython3",
   "version": "3.8.5"
  }
 },
 "nbformat": 4,
 "nbformat_minor": 4
}
