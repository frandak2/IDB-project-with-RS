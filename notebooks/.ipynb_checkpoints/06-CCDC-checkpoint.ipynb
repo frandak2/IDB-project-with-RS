{
  "nbformat": 4,
  "nbformat_minor": 0,
  "metadata": {
    "colab": {
      "name": "Copia de 2020-11-30 CHANGE DETECTION REPUBLICA DOMINICANA FRANK.ipynb",
      "provenance": [],
      "collapsed_sections": []
    },
    "kernelspec": {
      "name": "python3",
      "display_name": "Python 3"
    }
  },
  "cells": [
    {
      "cell_type": "markdown",
      "metadata": {
        "id": "HgiuT8ZOwYhC"
      },
      "source": [
        "# CHANGE DETECTION"
      ]
    },
    {
      "cell_type": "markdown",
      "metadata": {
        "id": "DDQ6K5fFwfFY"
      },
      "source": [
        "## Instalar\n",
        "Instalar geemap y eeconvert en Google Colab."
      ]
    },
    {
      "cell_type": "code",
      "metadata": {
        "colab": {
          "base_uri": "https://localhost:8080/",
          "height": 1000
        },
        "id": "xQR7sHhV5HSy",
        "outputId": "44f2029b-d2a7-4a5f-d0d5-bee6016df79d"
      },
      "source": [
        "!pip install geemap\n",
        "!pip install eeconvert"
      ],
      "execution_count": null,
      "outputs": [
        {
          "output_type": "stream",
          "text": [
            "Collecting geemap\n",
            "\u001b[?25l  Downloading https://files.pythonhosted.org/packages/c1/f1/50dc342f3c2844353652d5df007caca6e1df90bbc1bf382aed4d3a952810/geemap-0.8.2-py2.py3-none-any.whl (386kB)\n",
            "\r\u001b[K     |▉                               | 10kB 15.8MB/s eta 0:00:01\r\u001b[K     |█▊                              | 20kB 17.5MB/s eta 0:00:01\r\u001b[K     |██▌                             | 30kB 9.3MB/s eta 0:00:01\r\u001b[K     |███▍                            | 40kB 7.8MB/s eta 0:00:01\r\u001b[K     |████▎                           | 51kB 4.3MB/s eta 0:00:01\r\u001b[K     |█████                           | 61kB 4.8MB/s eta 0:00:01\r\u001b[K     |██████                          | 71kB 4.9MB/s eta 0:00:01\r\u001b[K     |██████▉                         | 81kB 5.3MB/s eta 0:00:01\r\u001b[K     |███████▋                        | 92kB 5.6MB/s eta 0:00:01\r\u001b[K     |████████▌                       | 102kB 5.7MB/s eta 0:00:01\r\u001b[K     |█████████▎                      | 112kB 5.7MB/s eta 0:00:01\r\u001b[K     |██████████▏                     | 122kB 5.7MB/s eta 0:00:01\r\u001b[K     |███████████                     | 133kB 5.7MB/s eta 0:00:01\r\u001b[K     |███████████▉                    | 143kB 5.7MB/s eta 0:00:01\r\u001b[K     |████████████▊                   | 153kB 5.7MB/s eta 0:00:01\r\u001b[K     |█████████████▋                  | 163kB 5.7MB/s eta 0:00:01\r\u001b[K     |██████████████▍                 | 174kB 5.7MB/s eta 0:00:01\r\u001b[K     |███████████████▎                | 184kB 5.7MB/s eta 0:00:01\r\u001b[K     |████████████████                | 194kB 5.7MB/s eta 0:00:01\r\u001b[K     |█████████████████               | 204kB 5.7MB/s eta 0:00:01\r\u001b[K     |█████████████████▉              | 215kB 5.7MB/s eta 0:00:01\r\u001b[K     |██████████████████▋             | 225kB 5.7MB/s eta 0:00:01\r\u001b[K     |███████████████████▌            | 235kB 5.7MB/s eta 0:00:01\r\u001b[K     |████████████████████▍           | 245kB 5.7MB/s eta 0:00:01\r\u001b[K     |█████████████████████▏          | 256kB 5.7MB/s eta 0:00:01\r\u001b[K     |██████████████████████          | 266kB 5.7MB/s eta 0:00:01\r\u001b[K     |██████████████████████▉         | 276kB 5.7MB/s eta 0:00:01\r\u001b[K     |███████████████████████▊        | 286kB 5.7MB/s eta 0:00:01\r\u001b[K     |████████████████████████▋       | 296kB 5.7MB/s eta 0:00:01\r\u001b[K     |█████████████████████████▍      | 307kB 5.7MB/s eta 0:00:01\r\u001b[K     |██████████████████████████▎     | 317kB 5.7MB/s eta 0:00:01\r\u001b[K     |███████████████████████████▏    | 327kB 5.7MB/s eta 0:00:01\r\u001b[K     |████████████████████████████    | 337kB 5.7MB/s eta 0:00:01\r\u001b[K     |████████████████████████████▉   | 348kB 5.7MB/s eta 0:00:01\r\u001b[K     |█████████████████████████████▊  | 358kB 5.7MB/s eta 0:00:01\r\u001b[K     |██████████████████████████████▌ | 368kB 5.7MB/s eta 0:00:01\r\u001b[K     |███████████████████████████████▍| 378kB 5.7MB/s eta 0:00:01\r\u001b[K     |████████████████████████████████| 389kB 5.7MB/s \n",
            "\u001b[?25hRequirement already satisfied: click in /usr/local/lib/python3.6/dist-packages (from geemap) (7.1.2)\n",
            "Requirement already satisfied: numpy in /usr/local/lib/python3.6/dist-packages (from geemap) (1.18.5)\n",
            "Collecting whitebox\n",
            "\u001b[?25l  Downloading https://files.pythonhosted.org/packages/9e/80/72ddfe55b9fad2909c3befb6360c38b6bf5fb131197c390d01109aaaa6f8/whitebox-1.4.0-py2.py3-none-any.whl (63kB)\n",
            "\u001b[K     |████████████████████████████████| 71kB 7.9MB/s \n",
            "\u001b[?25hRequirement already satisfied: pandas in /usr/local/lib/python3.6/dist-packages (from geemap) (1.1.4)\n",
            "Collecting bqplot\n",
            "\u001b[?25l  Downloading https://files.pythonhosted.org/packages/f1/cc/bbb3989709ff5f43a75d8cc9989b0cd7215bb50af30f6323ad9bb62e1839/bqplot-0.12.19-py2.py3-none-any.whl (982kB)\n",
            "\u001b[K     |████████████████████████████████| 983kB 24.7MB/s \n",
            "\u001b[?25hCollecting ipyleaflet>=0.13.3\n",
            "\u001b[?25l  Downloading https://files.pythonhosted.org/packages/a0/9d/f411b8a9522f1710f278c60b2cd8d26817d8c64b7568de95f9437db6caf0/ipyleaflet-0.13.3-py2.py3-none-any.whl (5.1MB)\n",
            "\u001b[K     |████████████████████████████████| 5.1MB 33.5MB/s \n",
            "\u001b[?25hCollecting pyshp\n",
            "\u001b[?25l  Downloading https://files.pythonhosted.org/packages/ca/1f/e9cc2c3fce32e2926581f8b6905831165235464c858ba550b6e9b8ef78c3/pyshp-2.1.2.tar.gz (217kB)\n",
            "\u001b[K     |████████████████████████████████| 225kB 47.4MB/s \n",
            "\u001b[?25hRequirement already satisfied: matplotlib in /usr/local/lib/python3.6/dist-packages (from geemap) (3.2.2)\n",
            "Collecting voila\n",
            "\u001b[?25l  Downloading https://files.pythonhosted.org/packages/50/7d/ef470f3d3c574162bb8705b264f4cb47eac8c923f6bf1e37283f871ead6a/voila-0.2.4-py3-none-any.whl (1.9MB)\n",
            "\u001b[K     |████████████████████████████████| 1.9MB 46.7MB/s \n",
            "\u001b[?25hCollecting mss\n",
            "\u001b[?25l  Downloading https://files.pythonhosted.org/packages/d7/5f/77dece686b8d08a17430e169e936722693712b8cf1ee638caa8b1cb6452b/mss-6.1.0-py3-none-any.whl (76kB)\n",
            "\u001b[K     |████████████████████████████████| 81kB 8.6MB/s \n",
            "\u001b[?25hRequirement already satisfied: earthengine-api>=0.1.230 in /usr/local/lib/python3.6/dist-packages (from geemap) (0.1.238)\n",
            "Collecting ipynb-py-convert\n",
            "  Downloading https://files.pythonhosted.org/packages/43/90/37ff1b9f553583e60c327e1ea8cbfea469c38c9d8791ad1f7ee6d3482efa/ipynb-py-convert-0.4.6.tar.gz\n",
            "Collecting ipytree\n",
            "\u001b[?25l  Downloading https://files.pythonhosted.org/packages/36/2f/f93092e485afc384b4cc39f17ff1cb252380a3745bb4a7e2f6e488e3d0c4/ipytree-0.1.8-py2.py3-none-any.whl (1.1MB)\n",
            "\u001b[K     |████████████████████████████████| 1.1MB 39.9MB/s \n",
            "\u001b[?25hRequirement already satisfied: pillow in /usr/local/lib/python3.6/dist-packages (from geemap) (7.0.0)\n",
            "Collecting geeadd>=0.5.1\n",
            "  Downloading https://files.pythonhosted.org/packages/53/3e/98e4d21b5d06a670a6692272a89cbc1a1f238dbba0c4d3252ea1635ba7a4/geeadd-0.5.2-py3-none-any.whl\n",
            "Collecting folium>=0.11.0\n",
            "\u001b[?25l  Downloading https://files.pythonhosted.org/packages/a4/f0/44e69d50519880287cc41e7c8a6acc58daa9a9acf5f6afc52bcc70f69a6d/folium-0.11.0-py2.py3-none-any.whl (93kB)\n",
            "\u001b[K     |████████████████████████████████| 102kB 10.6MB/s \n",
            "\u001b[?25hCollecting ipyfilechooser\n",
            "  Downloading https://files.pythonhosted.org/packages/34/39/c9bf67afb7aab8205034091ccf0e91d438e0b7f94b7d608c51bf48646f50/ipyfilechooser-0.4.1-py3-none-any.whl\n",
            "Collecting ffmpeg-python\n",
            "  Downloading https://files.pythonhosted.org/packages/d7/0c/56be52741f75bad4dc6555991fabd2e07b432d333da82c11ad701123888a/ffmpeg_python-0.2.0-py3-none-any.whl\n",
            "Collecting geocoder\n",
            "\u001b[?25l  Downloading https://files.pythonhosted.org/packages/4f/6b/13166c909ad2f2d76b929a4227c952630ebaf0d729f6317eb09cbceccbab/geocoder-1.38.1-py2.py3-none-any.whl (98kB)\n",
            "\u001b[K     |████████████████████████████████| 102kB 10.2MB/s \n",
            "\u001b[?25hCollecting colour\n",
            "  Downloading https://files.pythonhosted.org/packages/74/46/e81907704ab203206769dee1385dc77e1407576ff8f50a0681d0a6b541be/colour-0.1.5-py2.py3-none-any.whl\n",
            "Requirement already satisfied: python-dateutil>=2.7.3 in /usr/local/lib/python3.6/dist-packages (from pandas->geemap) (2.8.1)\n",
            "Requirement already satisfied: pytz>=2017.2 in /usr/local/lib/python3.6/dist-packages (from pandas->geemap) (2018.9)\n",
            "Requirement already satisfied: ipywidgets>=7.5.0 in /usr/local/lib/python3.6/dist-packages (from bqplot->geemap) (7.5.1)\n",
            "Collecting traittypes>=0.0.6\n",
            "  Downloading https://files.pythonhosted.org/packages/9c/d1/8d5bd662703cc1764d986f6908a608777305946fa634d34c470cd4a1e729/traittypes-0.2.1-py2.py3-none-any.whl\n",
            "Requirement already satisfied: traitlets>=4.3.0 in /usr/local/lib/python3.6/dist-packages (from bqplot->geemap) (4.3.3)\n",
            "Requirement already satisfied: branca<0.5,>=0.3.1 in /usr/local/lib/python3.6/dist-packages (from ipyleaflet>=0.13.3->geemap) (0.4.1)\n",
            "Requirement already satisfied: cycler>=0.10 in /usr/local/lib/python3.6/dist-packages (from matplotlib->geemap) (0.10.0)\n",
            "Requirement already satisfied: kiwisolver>=1.0.1 in /usr/local/lib/python3.6/dist-packages (from matplotlib->geemap) (1.3.1)\n",
            "Requirement already satisfied: pyparsing!=2.0.4,!=2.1.2,!=2.1.6,>=2.0.1 in /usr/local/lib/python3.6/dist-packages (from matplotlib->geemap) (2.4.7)\n",
            "Collecting jupyter-client<7,>=6.1.3\n",
            "\u001b[?25l  Downloading https://files.pythonhosted.org/packages/dc/41/9fa443d5ae8907dd8f7d12146cb0092dc053afd67b5b57e7e8786a328547/jupyter_client-6.1.7-py3-none-any.whl (108kB)\n",
            "\u001b[K     |████████████████████████████████| 112kB 38.3MB/s \n",
            "\u001b[?25hCollecting jupyter-server<2.0.0,>=0.3.0\n",
            "\u001b[?25l  Downloading https://files.pythonhosted.org/packages/d7/05/8c10383226a8b0d4f59c9fdd43df37fe3a28723c7468d071e589aa7482ff/jupyter_server-1.0.7-py3-none-any.whl (223kB)\n",
            "\u001b[K     |████████████████████████████████| 225kB 47.0MB/s \n",
            "\u001b[?25hRequirement already satisfied: nbclient<0.6,>=0.4.0 in /usr/local/lib/python3.6/dist-packages (from voila->geemap) (0.5.1)\n",
            "Collecting nbconvert<7,>=6.0.0\n",
            "\u001b[?25l  Downloading https://files.pythonhosted.org/packages/13/2f/acbe7006548f3914456ee47f97a2033b1b2f3daf921b12ac94105d87c163/nbconvert-6.0.7-py3-none-any.whl (552kB)\n",
            "\u001b[K     |████████████████████████████████| 552kB 42.8MB/s \n",
            "\u001b[?25hRequirement already satisfied: google-auth>=1.4.1 in /usr/local/lib/python3.6/dist-packages (from earthengine-api>=0.1.230->geemap) (1.17.2)\n",
            "Requirement already satisfied: httplib2<1dev,>=0.9.2 in /usr/local/lib/python3.6/dist-packages (from earthengine-api>=0.1.230->geemap) (0.17.4)\n",
            "Requirement already satisfied: google-api-python-client in /usr/local/lib/python3.6/dist-packages (from earthengine-api>=0.1.230->geemap) (1.7.12)\n",
            "Requirement already satisfied: six in /usr/local/lib/python3.6/dist-packages (from earthengine-api>=0.1.230->geemap) (1.15.0)\n",
            "Requirement already satisfied: google-cloud-storage in /usr/local/lib/python3.6/dist-packages (from earthengine-api>=0.1.230->geemap) (1.18.1)\n",
            "Requirement already satisfied: future in /usr/local/lib/python3.6/dist-packages (from earthengine-api>=0.1.230->geemap) (0.16.0)\n",
            "Requirement already satisfied: google-auth-httplib2>=0.0.3 in /usr/local/lib/python3.6/dist-packages (from earthengine-api>=0.1.230->geemap) (0.0.4)\n",
            "Requirement already satisfied: httplib2shim in /usr/local/lib/python3.6/dist-packages (from earthengine-api>=0.1.230->geemap) (0.0.3)\n",
            "Requirement already satisfied: requests>=2.22.0 in /usr/local/lib/python3.6/dist-packages (from geeadd>=0.5.1->geemap) (2.23.0)\n",
            "Collecting logzero>=1.5.0\n",
            "  Downloading https://files.pythonhosted.org/packages/7e/f7/369920be5b4e9c1a05f5e10bae62b1eca4e01b0b235541865ff53f4d2b6a/logzero-1.6.3-py2.py3-none-any.whl\n",
            "Collecting beautifulsoup4>=4.9.0\n",
            "\u001b[?25l  Downloading https://files.pythonhosted.org/packages/d1/41/e6495bd7d3781cee623ce23ea6ac73282a373088fcd0ddc809a047b18eae/beautifulsoup4-4.9.3-py3-none-any.whl (115kB)\n",
            "\u001b[K     |████████████████████████████████| 122kB 47.0MB/s \n",
            "\u001b[?25hRequirement already satisfied: jinja2>=2.9 in /usr/local/lib/python3.6/dist-packages (from folium>=0.11.0->geemap) (2.11.2)\n",
            "Collecting ratelim\n",
            "  Downloading https://files.pythonhosted.org/packages/f2/98/7e6d147fd16a10a5f821db6e25f192265d6ecca3d82957a4fdd592cad49c/ratelim-0.1.6-py2.py3-none-any.whl\n",
            "Requirement already satisfied: ipykernel>=4.5.1 in /usr/local/lib/python3.6/dist-packages (from ipywidgets>=7.5.0->bqplot->geemap) (4.10.1)\n",
            "Requirement already satisfied: nbformat>=4.2.0 in /usr/local/lib/python3.6/dist-packages (from ipywidgets>=7.5.0->bqplot->geemap) (5.0.8)\n",
            "Requirement already satisfied: widgetsnbextension~=3.5.0 in /usr/local/lib/python3.6/dist-packages (from ipywidgets>=7.5.0->bqplot->geemap) (3.5.1)\n",
            "Requirement already satisfied: ipython>=4.0.0; python_version >= \"3.3\" in /usr/local/lib/python3.6/dist-packages (from ipywidgets>=7.5.0->bqplot->geemap) (5.5.0)\n",
            "Requirement already satisfied: ipython-genutils in /usr/local/lib/python3.6/dist-packages (from traitlets>=4.3.0->bqplot->geemap) (0.2.0)\n",
            "Requirement already satisfied: decorator in /usr/local/lib/python3.6/dist-packages (from traitlets>=4.3.0->bqplot->geemap) (4.4.2)\n",
            "Requirement already satisfied: tornado>=4.1 in /usr/local/lib/python3.6/dist-packages (from jupyter-client<7,>=6.1.3->voila->geemap) (5.1.1)\n",
            "Requirement already satisfied: jupyter-core>=4.6.0 in /usr/local/lib/python3.6/dist-packages (from jupyter-client<7,>=6.1.3->voila->geemap) (4.7.0)\n",
            "Requirement already satisfied: pyzmq>=13 in /usr/local/lib/python3.6/dist-packages (from jupyter-client<7,>=6.1.3->voila->geemap) (20.0.0)\n",
            "Requirement already satisfied: Send2Trash in /usr/local/lib/python3.6/dist-packages (from jupyter-server<2.0.0,>=0.3.0->voila->geemap) (1.5.0)\n",
            "Requirement already satisfied: prometheus-client in /usr/local/lib/python3.6/dist-packages (from jupyter-server<2.0.0,>=0.3.0->voila->geemap) (0.9.0)\n",
            "Requirement already satisfied: terminado>=0.8.3 in /usr/local/lib/python3.6/dist-packages (from jupyter-server<2.0.0,>=0.3.0->voila->geemap) (0.9.1)\n",
            "Requirement already satisfied: nest-asyncio in /usr/local/lib/python3.6/dist-packages (from nbclient<0.6,>=0.4.0->voila->geemap) (1.4.3)\n",
            "Requirement already satisfied: async-generator in /usr/local/lib/python3.6/dist-packages (from nbclient<0.6,>=0.4.0->voila->geemap) (1.10)\n",
            "Requirement already satisfied: pygments>=2.4.1 in /usr/local/lib/python3.6/dist-packages (from nbconvert<7,>=6.0.0->voila->geemap) (2.6.1)\n",
            "Requirement already satisfied: defusedxml in /usr/local/lib/python3.6/dist-packages (from nbconvert<7,>=6.0.0->voila->geemap) (0.6.0)\n",
            "Requirement already satisfied: jupyterlab-pygments in /usr/local/lib/python3.6/dist-packages (from nbconvert<7,>=6.0.0->voila->geemap) (0.1.2)\n",
            "Requirement already satisfied: pandocfilters>=1.4.1 in /usr/local/lib/python3.6/dist-packages (from nbconvert<7,>=6.0.0->voila->geemap) (1.4.3)\n",
            "Requirement already satisfied: bleach in /usr/local/lib/python3.6/dist-packages (from nbconvert<7,>=6.0.0->voila->geemap) (3.2.1)\n",
            "Requirement already satisfied: testpath in /usr/local/lib/python3.6/dist-packages (from nbconvert<7,>=6.0.0->voila->geemap) (0.4.4)\n",
            "Requirement already satisfied: entrypoints>=0.2.2 in /usr/local/lib/python3.6/dist-packages (from nbconvert<7,>=6.0.0->voila->geemap) (0.3)\n",
            "Requirement already satisfied: mistune<2,>=0.8.1 in /usr/local/lib/python3.6/dist-packages (from nbconvert<7,>=6.0.0->voila->geemap) (0.8.4)\n",
            "Requirement already satisfied: cachetools<5.0,>=2.0.0 in /usr/local/lib/python3.6/dist-packages (from google-auth>=1.4.1->earthengine-api>=0.1.230->geemap) (4.1.1)\n",
            "Requirement already satisfied: rsa<5,>=3.1.4; python_version >= \"3\" in /usr/local/lib/python3.6/dist-packages (from google-auth>=1.4.1->earthengine-api>=0.1.230->geemap) (4.6)\n",
            "Requirement already satisfied: setuptools>=40.3.0 in /usr/local/lib/python3.6/dist-packages (from google-auth>=1.4.1->earthengine-api>=0.1.230->geemap) (50.3.2)\n",
            "Requirement already satisfied: pyasn1-modules>=0.2.1 in /usr/local/lib/python3.6/dist-packages (from google-auth>=1.4.1->earthengine-api>=0.1.230->geemap) (0.2.8)\n",
            "Requirement already satisfied: uritemplate<4dev,>=3.0.0 in /usr/local/lib/python3.6/dist-packages (from google-api-python-client->earthengine-api>=0.1.230->geemap) (3.0.1)\n",
            "Requirement already satisfied: google-cloud-core<2.0dev,>=1.0.0 in /usr/local/lib/python3.6/dist-packages (from google-cloud-storage->earthengine-api>=0.1.230->geemap) (1.0.3)\n",
            "Requirement already satisfied: google-resumable-media<0.5.0dev,>=0.3.1 in /usr/local/lib/python3.6/dist-packages (from google-cloud-storage->earthengine-api>=0.1.230->geemap) (0.4.1)\n",
            "Requirement already satisfied: urllib3 in /usr/local/lib/python3.6/dist-packages (from httplib2shim->earthengine-api>=0.1.230->geemap) (1.24.3)\n",
            "Requirement already satisfied: certifi in /usr/local/lib/python3.6/dist-packages (from httplib2shim->earthengine-api>=0.1.230->geemap) (2020.11.8)\n",
            "Requirement already satisfied: idna<3,>=2.5 in /usr/local/lib/python3.6/dist-packages (from requests>=2.22.0->geeadd>=0.5.1->geemap) (2.10)\n",
            "Requirement already satisfied: chardet<4,>=3.0.2 in /usr/local/lib/python3.6/dist-packages (from requests>=2.22.0->geeadd>=0.5.1->geemap) (3.0.4)\n",
            "Collecting soupsieve>1.2; python_version >= \"3.0\"\n",
            "  Downloading https://files.pythonhosted.org/packages/6f/8f/457f4a5390eeae1cc3aeab89deb7724c965be841ffca6cfca9197482e470/soupsieve-2.0.1-py3-none-any.whl\n",
            "Requirement already satisfied: MarkupSafe>=0.23 in /usr/local/lib/python3.6/dist-packages (from jinja2>=2.9->folium>=0.11.0->geemap) (1.1.1)\n",
            "Requirement already satisfied: jsonschema!=2.5.0,>=2.4 in /usr/local/lib/python3.6/dist-packages (from nbformat>=4.2.0->ipywidgets>=7.5.0->bqplot->geemap) (2.6.0)\n",
            "Requirement already satisfied: notebook>=4.4.1 in /usr/local/lib/python3.6/dist-packages (from widgetsnbextension~=3.5.0->ipywidgets>=7.5.0->bqplot->geemap) (5.3.1)\n",
            "Requirement already satisfied: pickleshare in /usr/local/lib/python3.6/dist-packages (from ipython>=4.0.0; python_version >= \"3.3\"->ipywidgets>=7.5.0->bqplot->geemap) (0.7.5)\n",
            "Requirement already satisfied: simplegeneric>0.8 in /usr/local/lib/python3.6/dist-packages (from ipython>=4.0.0; python_version >= \"3.3\"->ipywidgets>=7.5.0->bqplot->geemap) (0.8.1)\n",
            "Requirement already satisfied: prompt-toolkit<2.0.0,>=1.0.4 in /usr/local/lib/python3.6/dist-packages (from ipython>=4.0.0; python_version >= \"3.3\"->ipywidgets>=7.5.0->bqplot->geemap) (1.0.18)\n",
            "Requirement already satisfied: pexpect; sys_platform != \"win32\" in /usr/local/lib/python3.6/dist-packages (from ipython>=4.0.0; python_version >= \"3.3\"->ipywidgets>=7.5.0->bqplot->geemap) (4.8.0)\n",
            "Requirement already satisfied: ptyprocess; os_name != \"nt\" in /usr/local/lib/python3.6/dist-packages (from terminado>=0.8.3->jupyter-server<2.0.0,>=0.3.0->voila->geemap) (0.6.0)\n",
            "Requirement already satisfied: packaging in /usr/local/lib/python3.6/dist-packages (from bleach->nbconvert<7,>=6.0.0->voila->geemap) (20.4)\n",
            "Requirement already satisfied: webencodings in /usr/local/lib/python3.6/dist-packages (from bleach->nbconvert<7,>=6.0.0->voila->geemap) (0.5.1)\n",
            "Requirement already satisfied: pyasn1>=0.1.3 in /usr/local/lib/python3.6/dist-packages (from rsa<5,>=3.1.4; python_version >= \"3\"->google-auth>=1.4.1->earthengine-api>=0.1.230->geemap) (0.4.8)\n",
            "Requirement already satisfied: google-api-core<2.0.0dev,>=1.14.0 in /usr/local/lib/python3.6/dist-packages (from google-cloud-core<2.0dev,>=1.0.0->google-cloud-storage->earthengine-api>=0.1.230->geemap) (1.16.0)\n",
            "Requirement already satisfied: wcwidth in /usr/local/lib/python3.6/dist-packages (from prompt-toolkit<2.0.0,>=1.0.4->ipython>=4.0.0; python_version >= \"3.3\"->ipywidgets>=7.5.0->bqplot->geemap) (0.2.5)\n",
            "Requirement already satisfied: googleapis-common-protos<2.0dev,>=1.6.0 in /usr/local/lib/python3.6/dist-packages (from google-api-core<2.0.0dev,>=1.14.0->google-cloud-core<2.0dev,>=1.0.0->google-cloud-storage->earthengine-api>=0.1.230->geemap) (1.52.0)\n",
            "Requirement already satisfied: protobuf>=3.4.0 in /usr/local/lib/python3.6/dist-packages (from google-api-core<2.0.0dev,>=1.14.0->google-cloud-core<2.0dev,>=1.0.0->google-cloud-storage->earthengine-api>=0.1.230->geemap) (3.12.4)\n",
            "Building wheels for collected packages: pyshp, ipynb-py-convert\n",
            "  Building wheel for pyshp (setup.py) ... \u001b[?25l\u001b[?25hdone\n",
            "  Created wheel for pyshp: filename=pyshp-2.1.2-cp36-none-any.whl size=36216 sha256=5001cdbc3c89a7ed287cb7a5d1a446bc579665d12ddd7ee4be5e119fbd0c247f\n",
            "  Stored in directory: /root/.cache/pip/wheels/96/6c/53/4112475adf3b831da97f083163d0f38ee6daac9c1b13f7afea\n",
            "  Building wheel for ipynb-py-convert (setup.py) ... \u001b[?25l\u001b[?25hdone\n",
            "  Created wheel for ipynb-py-convert: filename=ipynb_py_convert-0.4.6-cp36-none-any.whl size=4625 sha256=697dc8c83e03a7e2a8a6133c354be51f1ceeb38e23efa1eef548541d89770e92\n",
            "  Stored in directory: /root/.cache/pip/wheels/80/dc/7c/a7279f7726d66951fe48d5afd45247bcf5bf92c98282e4e78e\n",
            "Successfully built pyshp ipynb-py-convert\n",
            "\u001b[31mERROR: datascience 0.10.6 has requirement folium==0.2.1, but you'll have folium 0.11.0 which is incompatible.\u001b[0m\n",
            "Installing collected packages: whitebox, traittypes, bqplot, ipyleaflet, pyshp, jupyter-client, nbconvert, jupyter-server, voila, mss, ipynb-py-convert, ipytree, logzero, soupsieve, beautifulsoup4, geeadd, folium, ipyfilechooser, ffmpeg-python, ratelim, geocoder, colour, geemap\n",
            "  Found existing installation: jupyter-client 5.3.5\n",
            "    Uninstalling jupyter-client-5.3.5:\n",
            "      Successfully uninstalled jupyter-client-5.3.5\n",
            "  Found existing installation: nbconvert 5.6.1\n",
            "    Uninstalling nbconvert-5.6.1:\n",
            "      Successfully uninstalled nbconvert-5.6.1\n",
            "  Found existing installation: beautifulsoup4 4.6.3\n",
            "    Uninstalling beautifulsoup4-4.6.3:\n",
            "      Successfully uninstalled beautifulsoup4-4.6.3\n",
            "  Found existing installation: folium 0.8.3\n",
            "    Uninstalling folium-0.8.3:\n",
            "      Successfully uninstalled folium-0.8.3\n",
            "Successfully installed beautifulsoup4-4.9.3 bqplot-0.12.19 colour-0.1.5 ffmpeg-python-0.2.0 folium-0.11.0 geeadd-0.5.2 geemap-0.8.2 geocoder-1.38.1 ipyfilechooser-0.4.1 ipyleaflet-0.13.3 ipynb-py-convert-0.4.6 ipytree-0.1.8 jupyter-client-6.1.7 jupyter-server-1.0.7 logzero-1.6.3 mss-6.1.0 nbconvert-6.0.7 pyshp-2.1.2 ratelim-0.1.6 soupsieve-2.0.1 traittypes-0.2.1 voila-0.2.4 whitebox-1.4.0\n"
          ],
          "name": "stdout"
        },
        {
          "output_type": "display_data",
          "data": {
            "application/vnd.colab-display-data+json": {
              "pip_warning": {
                "packages": [
                  "jupyter_client"
                ]
              }
            }
          },
          "metadata": {
            "tags": []
          }
        },
        {
          "output_type": "stream",
          "text": [
            "Collecting eeconvert\n",
            "  Downloading https://files.pythonhosted.org/packages/14/af/103e633869dbe86d3b1de0b1fff86a8a5bdf05848ada25f5e82dbc1c73fd/eeconvert-0.1.22-py2.py3-none-any.whl\n",
            "Collecting boto3\n",
            "\u001b[?25l  Downloading https://files.pythonhosted.org/packages/51/71/8025cafe9780b6102b9c564b75a0865781e84699d4d2c0d458e5664560b6/boto3-1.16.27.tar.gz (97kB)\n",
            "\u001b[K     |████████████████████████████████| 102kB 4.1MB/s \n",
            "\u001b[?25hCollecting geopandas\n",
            "\u001b[?25l  Downloading https://files.pythonhosted.org/packages/f7/a4/e66aafbefcbb717813bf3a355c8c4fc3ed04ea1dd7feb2920f2f4f868921/geopandas-0.8.1-py2.py3-none-any.whl (962kB)\n",
            "\u001b[K     |████████████████████████████████| 972kB 11.4MB/s \n",
            "\u001b[?25hRequirement already satisfied: shapely in /usr/local/lib/python3.6/dist-packages (from eeconvert) (1.7.1)\n",
            "Requirement already satisfied: sqlalchemy in /usr/local/lib/python3.6/dist-packages (from eeconvert) (1.3.20)\n",
            "Requirement already satisfied: branca in /usr/local/lib/python3.6/dist-packages (from eeconvert) (0.4.1)\n",
            "Collecting geojson\n",
            "  Downloading https://files.pythonhosted.org/packages/e4/8d/9e28e9af95739e6d2d2f8d4bef0b3432da40b7c3588fbad4298c1be09e48/geojson-2.5.0-py2.py3-none-any.whl\n",
            "Collecting botocore\n",
            "\u001b[?25l  Downloading https://files.pythonhosted.org/packages/e4/e6/f41a1936b7602d9badb66ae9677e5d4cfc8bd9955a9a1618a0945f2f5b1b/botocore-1.19.27-py2.py3-none-any.whl (7.0MB)\n",
            "\u001b[K     |████████████████████████████████| 7.0MB 38.8MB/s \n",
            "\u001b[?25hRequirement already satisfied: pandas in /usr/local/lib/python3.6/dist-packages (from eeconvert) (1.1.4)\n",
            "Requirement already satisfied: folium in /usr/local/lib/python3.6/dist-packages (from eeconvert) (0.11.0)\n",
            "Requirement already satisfied: earthengine-api in /usr/local/lib/python3.6/dist-packages (from eeconvert) (0.1.238)\n",
            "Collecting jmespath<1.0.0,>=0.7.1\n",
            "  Downloading https://files.pythonhosted.org/packages/07/cb/5f001272b6faeb23c1c9e0acc04d48eaaf5c862c17709d20e3469c6e0139/jmespath-0.10.0-py2.py3-none-any.whl\n",
            "Collecting s3transfer<0.4.0,>=0.3.0\n",
            "\u001b[?25l  Downloading https://files.pythonhosted.org/packages/69/79/e6afb3d8b0b4e96cefbdc690f741d7dd24547ff1f94240c997a26fa908d3/s3transfer-0.3.3-py2.py3-none-any.whl (69kB)\n",
            "\u001b[K     |████████████████████████████████| 71kB 7.9MB/s \n",
            "\u001b[?25hCollecting pyproj>=2.2.0\n",
            "\u001b[?25l  Downloading https://files.pythonhosted.org/packages/e4/ab/280e80a67cfc109d15428c0ec56391fc03a65857b7727cf4e6e6f99a4204/pyproj-3.0.0.post1-cp36-cp36m-manylinux2010_x86_64.whl (6.4MB)\n",
            "\u001b[K     |████████████████████████████████| 6.5MB 38.9MB/s \n",
            "\u001b[?25hCollecting fiona\n",
            "\u001b[?25l  Downloading https://files.pythonhosted.org/packages/37/94/4910fd55246c1d963727b03885ead6ef1cd3748a465f7b0239ab25dfc9a3/Fiona-1.8.18-cp36-cp36m-manylinux1_x86_64.whl (14.8MB)\n",
            "\u001b[K     |████████████████████████████████| 14.8MB 169kB/s \n",
            "\u001b[?25hRequirement already satisfied: jinja2 in /usr/local/lib/python3.6/dist-packages (from branca->eeconvert) (2.11.2)\n",
            "Requirement already satisfied: python-dateutil<3.0.0,>=2.1 in /usr/local/lib/python3.6/dist-packages (from botocore->eeconvert) (2.8.1)\n",
            "Collecting urllib3<1.27,>=1.25.4; python_version != \"3.4\"\n",
            "\u001b[?25l  Downloading https://files.pythonhosted.org/packages/f5/71/45d36a8df68f3ebb098d6861b2c017f3d094538c0fb98fa61d4dc43e69b9/urllib3-1.26.2-py2.py3-none-any.whl (136kB)\n",
            "\u001b[K     |████████████████████████████████| 143kB 46.2MB/s \n",
            "\u001b[?25hRequirement already satisfied: pytz>=2017.2 in /usr/local/lib/python3.6/dist-packages (from pandas->eeconvert) (2018.9)\n",
            "Requirement already satisfied: numpy>=1.15.4 in /usr/local/lib/python3.6/dist-packages (from pandas->eeconvert) (1.18.5)\n",
            "Requirement already satisfied: requests in /usr/local/lib/python3.6/dist-packages (from folium->eeconvert) (2.23.0)\n",
            "Requirement already satisfied: google-cloud-storage in /usr/local/lib/python3.6/dist-packages (from earthengine-api->eeconvert) (1.18.1)\n",
            "Requirement already satisfied: google-api-python-client in /usr/local/lib/python3.6/dist-packages (from earthengine-api->eeconvert) (1.7.12)\n",
            "Requirement already satisfied: six in /usr/local/lib/python3.6/dist-packages (from earthengine-api->eeconvert) (1.15.0)\n",
            "Requirement already satisfied: google-auth-httplib2>=0.0.3 in /usr/local/lib/python3.6/dist-packages (from earthengine-api->eeconvert) (0.0.4)\n",
            "Requirement already satisfied: future in /usr/local/lib/python3.6/dist-packages (from earthengine-api->eeconvert) (0.16.0)\n",
            "Requirement already satisfied: httplib2<1dev,>=0.9.2 in /usr/local/lib/python3.6/dist-packages (from earthengine-api->eeconvert) (0.17.4)\n",
            "Requirement already satisfied: google-auth>=1.4.1 in /usr/local/lib/python3.6/dist-packages (from earthengine-api->eeconvert) (1.17.2)\n",
            "Requirement already satisfied: httplib2shim in /usr/local/lib/python3.6/dist-packages (from earthengine-api->eeconvert) (0.0.3)\n",
            "Requirement already satisfied: certifi in /usr/local/lib/python3.6/dist-packages (from pyproj>=2.2.0->geopandas->eeconvert) (2020.11.8)\n",
            "Requirement already satisfied: attrs>=17 in /usr/local/lib/python3.6/dist-packages (from fiona->geopandas->eeconvert) (20.3.0)\n",
            "Requirement already satisfied: click<8,>=4.0 in /usr/local/lib/python3.6/dist-packages (from fiona->geopandas->eeconvert) (7.1.2)\n",
            "Collecting click-plugins>=1.0\n",
            "  Downloading https://files.pythonhosted.org/packages/e9/da/824b92d9942f4e472702488857914bdd50f73021efea15b4cad9aca8ecef/click_plugins-1.1.1-py2.py3-none-any.whl\n",
            "Collecting munch\n",
            "  Downloading https://files.pythonhosted.org/packages/cc/ab/85d8da5c9a45e072301beb37ad7f833cd344e04c817d97e0cc75681d248f/munch-2.5.0-py2.py3-none-any.whl\n",
            "Collecting cligj>=0.5\n",
            "  Downloading https://files.pythonhosted.org/packages/42/1e/947eadf10d6804bf276eb8a038bd5307996dceaaa41cfd21b7a15ec62f5d/cligj-0.7.1-py3-none-any.whl\n",
            "Requirement already satisfied: MarkupSafe>=0.23 in /usr/local/lib/python3.6/dist-packages (from jinja2->branca->eeconvert) (1.1.1)\n",
            "Requirement already satisfied: chardet<4,>=3.0.2 in /usr/local/lib/python3.6/dist-packages (from requests->folium->eeconvert) (3.0.4)\n",
            "Requirement already satisfied: idna<3,>=2.5 in /usr/local/lib/python3.6/dist-packages (from requests->folium->eeconvert) (2.10)\n",
            "Requirement already satisfied: google-cloud-core<2.0dev,>=1.0.0 in /usr/local/lib/python3.6/dist-packages (from google-cloud-storage->earthengine-api->eeconvert) (1.0.3)\n",
            "Requirement already satisfied: google-resumable-media<0.5.0dev,>=0.3.1 in /usr/local/lib/python3.6/dist-packages (from google-cloud-storage->earthengine-api->eeconvert) (0.4.1)\n",
            "Requirement already satisfied: uritemplate<4dev,>=3.0.0 in /usr/local/lib/python3.6/dist-packages (from google-api-python-client->earthengine-api->eeconvert) (3.0.1)\n",
            "Requirement already satisfied: setuptools>=40.3.0 in /usr/local/lib/python3.6/dist-packages (from google-auth>=1.4.1->earthengine-api->eeconvert) (50.3.2)\n",
            "Requirement already satisfied: rsa<5,>=3.1.4; python_version >= \"3\" in /usr/local/lib/python3.6/dist-packages (from google-auth>=1.4.1->earthengine-api->eeconvert) (4.6)\n",
            "Requirement already satisfied: cachetools<5.0,>=2.0.0 in /usr/local/lib/python3.6/dist-packages (from google-auth>=1.4.1->earthengine-api->eeconvert) (4.1.1)\n",
            "Requirement already satisfied: pyasn1-modules>=0.2.1 in /usr/local/lib/python3.6/dist-packages (from google-auth>=1.4.1->earthengine-api->eeconvert) (0.2.8)\n",
            "Requirement already satisfied: google-api-core<2.0.0dev,>=1.14.0 in /usr/local/lib/python3.6/dist-packages (from google-cloud-core<2.0dev,>=1.0.0->google-cloud-storage->earthengine-api->eeconvert) (1.16.0)\n",
            "Requirement already satisfied: pyasn1>=0.1.3 in /usr/local/lib/python3.6/dist-packages (from rsa<5,>=3.1.4; python_version >= \"3\"->google-auth>=1.4.1->earthengine-api->eeconvert) (0.4.8)\n",
            "Requirement already satisfied: googleapis-common-protos<2.0dev,>=1.6.0 in /usr/local/lib/python3.6/dist-packages (from google-api-core<2.0.0dev,>=1.14.0->google-cloud-core<2.0dev,>=1.0.0->google-cloud-storage->earthengine-api->eeconvert) (1.52.0)\n",
            "Requirement already satisfied: protobuf>=3.4.0 in /usr/local/lib/python3.6/dist-packages (from google-api-core<2.0.0dev,>=1.14.0->google-cloud-core<2.0dev,>=1.0.0->google-cloud-storage->earthengine-api->eeconvert) (3.12.4)\n",
            "Building wheels for collected packages: boto3\n",
            "  Building wheel for boto3 (setup.py) ... \u001b[?25l\u001b[?25hdone\n",
            "  Created wheel for boto3: filename=boto3-1.16.27-py2.py3-none-any.whl size=128454 sha256=b758db213344dacf8c1b0a07b07502c557ffee4735ba2023b01a246025c5a2c4\n",
            "  Stored in directory: /root/.cache/pip/wheels/f7/4a/29/e5b74fd7012b8322191f5db368a910a78b013ce96bf4259d50\n",
            "Successfully built boto3\n",
            "\u001b[31mERROR: requests 2.23.0 has requirement urllib3!=1.25.0,!=1.25.1,<1.26,>=1.21.1, but you'll have urllib3 1.26.2 which is incompatible.\u001b[0m\n",
            "\u001b[31mERROR: datascience 0.10.6 has requirement folium==0.2.1, but you'll have folium 0.11.0 which is incompatible.\u001b[0m\n",
            "Installing collected packages: jmespath, urllib3, botocore, s3transfer, boto3, pyproj, click-plugins, munch, cligj, fiona, geopandas, geojson, eeconvert\n",
            "  Found existing installation: urllib3 1.24.3\n",
            "    Uninstalling urllib3-1.24.3:\n",
            "      Successfully uninstalled urllib3-1.24.3\n",
            "Successfully installed boto3-1.16.27 botocore-1.19.27 click-plugins-1.1.1 cligj-0.7.1 eeconvert-0.1.22 fiona-1.8.18 geojson-2.5.0 geopandas-0.8.1 jmespath-0.10.0 munch-2.5.0 pyproj-3.0.0.post1 s3transfer-0.3.3 urllib3-1.26.2\n"
          ],
          "name": "stdout"
        }
      ]
    },
    {
      "cell_type": "markdown",
      "metadata": {
        "id": "8_-Tchudwlg_"
      },
      "source": [
        "## Importar"
      ]
    },
    {
      "cell_type": "markdown",
      "metadata": {
        "id": "o4gdFwdVwoZQ"
      },
      "source": [
        "- Google Earth Engine y utilidades"
      ]
    },
    {
      "cell_type": "code",
      "metadata": {
        "id": "k5RoPwFl40Fw"
      },
      "source": [
        "import ee, eeconvert, geemap.eefolium as geemap"
      ],
      "execution_count": null,
      "outputs": []
    },
    {
      "cell_type": "markdown",
      "metadata": {
        "id": "YBHpuI0LwwMA"
      },
      "source": [
        "- Manejo de (Geo) Data Frames"
      ]
    },
    {
      "cell_type": "code",
      "metadata": {
        "id": "mgWCqLdjwtsQ"
      },
      "source": [
        "import geopandas as gpd, pandas as pd"
      ],
      "execution_count": null,
      "outputs": []
    },
    {
      "cell_type": "markdown",
      "metadata": {
        "id": "Uo8NSc60wzlI"
      },
      "source": [
        "- Manejo de Arrays"
      ]
    },
    {
      "cell_type": "code",
      "metadata": {
        "id": "Tt6YKe9Ewtj5"
      },
      "source": [
        "import numpy as np"
      ],
      "execution_count": null,
      "outputs": []
    },
    {
      "cell_type": "markdown",
      "metadata": {
        "id": "jcaxpRRAw19n"
      },
      "source": [
        "## Iniciar GEE\n",
        "- Autenticación"
      ]
    },
    {
      "cell_type": "code",
      "metadata": {
        "colab": {
          "base_uri": "https://localhost:8080/"
        },
        "id": "HeZaY5505PCK",
        "outputId": "6944729b-e7f3-4047-e326-bcc2565d1dad"
      },
      "source": [
        "ee.Authenticate()"
      ],
      "execution_count": null,
      "outputs": [
        {
          "output_type": "stream",
          "text": [
            "To authorize access needed by Earth Engine, open the following URL in a web browser and follow the instructions. If the web browser does not start automatically, please manually browse the URL below.\n",
            "\n",
            "    https://accounts.google.com/o/oauth2/auth?client_id=517222506229-vsmmajv00ul0bs7p89v5m89qs8eb9359.apps.googleusercontent.com&scope=https%3A%2F%2Fwww.googleapis.com%2Fauth%2Fearthengine+https%3A%2F%2Fwww.googleapis.com%2Fauth%2Fdevstorage.full_control&redirect_uri=urn%3Aietf%3Awg%3Aoauth%3A2.0%3Aoob&response_type=code&code_challenge=GmsVyv1G3S1-BX38bHCQmEcPeKb4rKQBXRSNOjL6FNE&code_challenge_method=S256\n",
            "\n",
            "The authorization workflow will generate a code, which you should paste in the box below. \n",
            "Enter verification code: 4/1AY0e-g4fk2beEkdtn03qc64XaTxF7PSeZkJUNxwxLoSQTDbBaOPlthSMCvQ\n",
            "\n",
            "Successfully saved authorization token.\n"
          ],
          "name": "stdout"
        }
      ]
    },
    {
      "cell_type": "markdown",
      "metadata": {
        "id": "WPTwZ8sLw-vA"
      },
      "source": [
        "- Inicialización"
      ]
    },
    {
      "cell_type": "code",
      "metadata": {
        "id": "Jb5exlmY5Q0t"
      },
      "source": [
        "ee.Initialize()"
      ],
      "execution_count": null,
      "outputs": []
    },
    {
      "cell_type": "markdown",
      "metadata": {
        "id": "Eiq70teKxA3C"
      },
      "source": [
        "## Datos"
      ]
    },
    {
      "cell_type": "markdown",
      "metadata": {
        "id": "DPGQ8nvZxDCA"
      },
      "source": [
        "Directorio donde se encuentra el shapefile."
      ]
    },
    {
      "cell_type": "code",
      "metadata": {
        "id": "RPXvuDIV5R9D"
      },
      "source": [
        "PATH = '/content/drive/MyDrive/fiverr/2020-11-30 LANDTRENDR REPUBLICA DOMINICANA FRANK/'"
      ],
      "execution_count": null,
      "outputs": []
    },
    {
      "cell_type": "markdown",
      "metadata": {
        "id": "wx26wDVlxKfY"
      },
      "source": [
        "Lectura del shapefile y cambio del sistema de referencia."
      ]
    },
    {
      "cell_type": "code",
      "metadata": {
        "id": "h9R8uXgRSutX"
      },
      "source": [
        "points = gpd.read_file(PATH + \"Zona_influencia_DR.shp\").to_crs(\"EPSG:4326\")"
      ],
      "execution_count": null,
      "outputs": []
    },
    {
      "cell_type": "markdown",
      "metadata": {
        "id": "dmMl12BexPD6"
      },
      "source": [
        "Asignación de un identificador único para cada registro."
      ]
    },
    {
      "cell_type": "code",
      "metadata": {
        "id": "rFUnQRykSuqW"
      },
      "source": [
        "points['ID'] = points['cuest_id_b'].astype(str) + points['parcela'].astype(str)"
      ],
      "execution_count": null,
      "outputs": []
    },
    {
      "cell_type": "markdown",
      "metadata": {
        "id": "JI03QdSxxTSg"
      },
      "source": [
        "Obtener sólo los registros corregidos."
      ]
    },
    {
      "cell_type": "code",
      "metadata": {
        "id": "hdkj_ClRSunS"
      },
      "source": [
        "points = points[points['corregido2'].str.contains(\"ok\")][['ID','patca','geometry']]"
      ],
      "execution_count": null,
      "outputs": []
    },
    {
      "cell_type": "markdown",
      "metadata": {
        "id": "nwq_a02qxW_Z"
      },
      "source": [
        "Convertir a Feature Collection."
      ]
    },
    {
      "cell_type": "code",
      "metadata": {
        "id": "DW3v9gVjSufK"
      },
      "source": [
        "eepoints = eeconvert.gdfToFc(points)"
      ],
      "execution_count": null,
      "outputs": []
    },
    {
      "cell_type": "markdown",
      "metadata": {
        "id": "mlVZFMGXxcTo"
      },
      "source": [
        "## Preprocesamiento de Imágenes"
      ]
    },
    {
      "cell_type": "markdown",
      "metadata": {
        "id": "Fo6s-EFzxe-d"
      },
      "source": [
        "Nombres en para bandas en común entre Landsat 7 y Landsat 8. Esto con el fin de crear una única colección de imágenes con ambos datasets."
      ]
    },
    {
      "cell_type": "code",
      "metadata": {
        "id": "i3ifVzXcr8Nj"
      },
      "source": [
        "bandNames = ['BLUE','GREEN','RED','NIR','SWIR1','SWIR2']"
      ],
      "execution_count": null,
      "outputs": []
    },
    {
      "cell_type": "markdown",
      "metadata": {
        "id": "C7dK0o9mxqW4"
      },
      "source": [
        "Bandas correspondientes para cada satélite."
      ]
    },
    {
      "cell_type": "code",
      "metadata": {
        "id": "i1aPlICCxolE"
      },
      "source": [
        "L7Bands = ['B1','B2','B3','B4','B5','B7']\n",
        "L8Bands = ['B2','B3','B4','B5','B6','B7']"
      ],
      "execution_count": null,
      "outputs": []
    },
    {
      "cell_type": "markdown",
      "metadata": {
        "id": "PVSQP9_VxwNh"
      },
      "source": [
        "Lectura de cada uno de los datasets. Se realizan los filtros correspondientes por ubicación, fecha y se seleccionan únicamente las bandas en común (también se renombran)."
      ]
    },
    {
      "cell_type": "code",
      "metadata": {
        "id": "cqNh06EMqhYY"
      },
      "source": [
        "L7 = ee.ImageCollection(\"LANDSAT/LE07/C01/T1_SR\").filterBounds(eepoints).filterDate('2011-01-01','2020-01-01').select(L7Bands,bandNames)\n",
        "L8 = ee.ImageCollection(\"LANDSAT/LC08/C01/T1_SR\").filterBounds(eepoints).filterDate('2011-01-01','2020-01-01').select(L8Bands,bandNames)"
      ],
      "execution_count": null,
      "outputs": []
    },
    {
      "cell_type": "markdown",
      "metadata": {
        "id": "Osm3nzWXyA3i"
      },
      "source": [
        "Unir ambas colecciones en una sola y ordenar por fecha."
      ]
    },
    {
      "cell_type": "code",
      "metadata": {
        "id": "IufiZ-SjrU4y"
      },
      "source": [
        "L78 = L7.merge(L8).sort('system:time_start')"
      ],
      "execution_count": null,
      "outputs": []
    },
    {
      "cell_type": "markdown",
      "metadata": {
        "id": "R5URwBNgyMKr"
      },
      "source": [
        "## Detección de Cambios"
      ]
    },
    {
      "cell_type": "markdown",
      "metadata": {
        "id": "bdr8Z5igyOwH"
      },
      "source": [
        "### Algoritmo Continuous Change Detection and Classification\n",
        "Este algoritmo recibe una colección de imágenes, utiliza todas las bandas para ajustar funciones armónicas y encontrar fechas de quiebre cuando las funciones cambian (el algoritmo funciona a base de pixel).\n",
        "\n",
        "> **PUEDE HABER MÁS DE UNA FECHA DE QUIEBRE**\n",
        "\n",
        "- Se utilizaron todas las bandas para el algoritmo (el algoritmo da la opción de usar sólo las bandas seleccionadas, así que este parámetro puede cambiarse a gusto).\n",
        "- Se utilizaron las bandas VERDE y SWIR2 para enmascarar nubes y sombras usando el algoritmo TMASK-\n",
        "- El formato de fecha de salida es MILISEGUNDOS.\n",
        "\n"
      ]
    },
    {
      "cell_type": "code",
      "metadata": {
        "id": "6U6xrMmyt2c0",
        "colab": {
          "base_uri": "https://localhost:8080/",
          "height": 167
        },
        "outputId": "281568e6-6164-42aa-afd6-9fd944a4057d"
      },
      "source": [
        "CCDC = ee.Algorithms.TemporalSegmentation.Ccdc(collection = L78,tmaskBands = ['GREEN','SWIR2'],dateFormat = 2)"
      ],
      "execution_count": null,
      "outputs": [
        {
          "output_type": "error",
          "ename": "NameError",
          "evalue": "ignored",
          "traceback": [
            "\u001b[0;31m---------------------------------------------------------------------------\u001b[0m",
            "\u001b[0;31mNameError\u001b[0m                                 Traceback (most recent call last)",
            "\u001b[0;32m<ipython-input-2-d9a1b80f5e9d>\u001b[0m in \u001b[0;36m<module>\u001b[0;34m()\u001b[0m\n\u001b[0;32m----> 1\u001b[0;31m \u001b[0mCCDC\u001b[0m \u001b[0;34m=\u001b[0m \u001b[0mee\u001b[0m\u001b[0;34m.\u001b[0m\u001b[0mAlgorithms\u001b[0m\u001b[0;34m.\u001b[0m\u001b[0mTemporalSegmentation\u001b[0m\u001b[0;34m.\u001b[0m\u001b[0mCcdc\u001b[0m\u001b[0;34m(\u001b[0m\u001b[0mcollection\u001b[0m \u001b[0;34m=\u001b[0m \u001b[0mL78\u001b[0m\u001b[0;34m,\u001b[0m\u001b[0mtmaskBands\u001b[0m \u001b[0;34m=\u001b[0m \u001b[0;34m[\u001b[0m\u001b[0;34m'GREEN'\u001b[0m\u001b[0;34m,\u001b[0m\u001b[0;34m'SWIR2'\u001b[0m\u001b[0;34m]\u001b[0m\u001b[0;34m,\u001b[0m\u001b[0mdateFormat\u001b[0m \u001b[0;34m=\u001b[0m \u001b[0;36m2\u001b[0m\u001b[0;34m)\u001b[0m\u001b[0;34m\u001b[0m\u001b[0;34m\u001b[0m\u001b[0m\n\u001b[0m",
            "\u001b[0;31mNameError\u001b[0m: name 'ee' is not defined"
          ]
        }
      ]
    },
    {
      "cell_type": "markdown",
      "metadata": {
        "id": "X5eMrTt6zSVc"
      },
      "source": [
        "El algoritmo encuentra segmentos y guarda las fechas de acuerdo a segmentos:\n",
        "\n",
        "- tStart: Inicio de segmento.\n",
        "- tEnd: Fin de segmento.\n",
        "- tBreak: Punto de quiebre (inicio del siguiente segmento: siguiente _tStart_. El fin de un segmento _tEnd_ no es necesariamente el inicio de otro segmento _tStart_ y por lo tanto no necesariamente un punto de quiebre _tBreak_).\n",
        "- numObs: Observaciones del segmento.\n",
        "\n",
        "Estos valores se extraen por cada registro del Feature Collection. Al ser polígonos, sólo nos interesa un valor (ee.Reducer.first())."
      ]
    },
    {
      "cell_type": "code",
      "metadata": {
        "id": "oqfLg9Eu4ZHg",
        "colab": {
          "base_uri": "https://localhost:8080/",
          "height": 167
        },
        "outputId": "e45b4404-c366-4e7a-87a4-f97b7b4555d3"
      },
      "source": [
        "eepointsCCDC = CCDC.select(['tStart','tEnd','tBreak','numObs']).reduceRegions(collection = eepoints,reducer = ee.Reducer.first(),scale = 30,tileScale = 16)"
      ],
      "execution_count": null,
      "outputs": [
        {
          "output_type": "error",
          "ename": "NameError",
          "evalue": "ignored",
          "traceback": [
            "\u001b[0;31m---------------------------------------------------------------------------\u001b[0m",
            "\u001b[0;31mNameError\u001b[0m                                 Traceback (most recent call last)",
            "\u001b[0;32m<ipython-input-3-3f920b78df47>\u001b[0m in \u001b[0;36m<module>\u001b[0;34m()\u001b[0m\n\u001b[0;32m----> 1\u001b[0;31m \u001b[0meepointsCCDC\u001b[0m \u001b[0;34m=\u001b[0m \u001b[0mCCDC\u001b[0m\u001b[0;34m.\u001b[0m\u001b[0mselect\u001b[0m\u001b[0;34m(\u001b[0m\u001b[0;34m[\u001b[0m\u001b[0;34m'tStart'\u001b[0m\u001b[0;34m,\u001b[0m\u001b[0;34m'tEnd'\u001b[0m\u001b[0;34m,\u001b[0m\u001b[0;34m'tBreak'\u001b[0m\u001b[0;34m,\u001b[0m\u001b[0;34m'numObs'\u001b[0m\u001b[0;34m]\u001b[0m\u001b[0;34m)\u001b[0m\u001b[0;34m.\u001b[0m\u001b[0mreduceRegions\u001b[0m\u001b[0;34m(\u001b[0m\u001b[0mcollection\u001b[0m \u001b[0;34m=\u001b[0m \u001b[0meepoints\u001b[0m\u001b[0;34m,\u001b[0m\u001b[0mreducer\u001b[0m \u001b[0;34m=\u001b[0m \u001b[0mee\u001b[0m\u001b[0;34m.\u001b[0m\u001b[0mReducer\u001b[0m\u001b[0;34m.\u001b[0m\u001b[0mfirst\u001b[0m\u001b[0;34m(\u001b[0m\u001b[0;34m)\u001b[0m\u001b[0;34m,\u001b[0m\u001b[0mscale\u001b[0m \u001b[0;34m=\u001b[0m \u001b[0;36m30\u001b[0m\u001b[0;34m,\u001b[0m\u001b[0mtileScale\u001b[0m \u001b[0;34m=\u001b[0m \u001b[0;36m16\u001b[0m\u001b[0;34m)\u001b[0m\u001b[0;34m\u001b[0m\u001b[0;34m\u001b[0m\u001b[0m\n\u001b[0m",
            "\u001b[0;31mNameError\u001b[0m: name 'CCDC' is not defined"
          ]
        }
      ]
    },
    {
      "cell_type": "markdown",
      "metadata": {
        "id": "eELCLtUbzrtb"
      },
      "source": [
        "Convertir valores extraídos a un Data Frame."
      ]
    },
    {
      "cell_type": "code",
      "metadata": {
        "id": "kI5acLo1tbFI"
      },
      "source": [
        "pointsCCDC = eeconvert.fcToGdf(eepointsCCDC)"
      ],
      "execution_count": null,
      "outputs": []
    },
    {
      "cell_type": "markdown",
      "metadata": {
        "id": "RzzIi9MV0CuA"
      },
      "source": [
        "Los valores se guardan en listas (el tamaño de la lista es proporcional al número de segmentos encontrados). Más de un segmento significa que un cambio fue encontrado. Estas listas son explotadas y apiladas en la misma columna."
      ]
    },
    {
      "cell_type": "code",
      "metadata": {
        "id": "EdHVuVNwtiDs"
      },
      "source": [
        "tStart = pointsCCDC['tStart'].explode()\n",
        "tEnd = pointsCCDC['tEnd'].explode()\n",
        "tBreak = pointsCCDC['tBreak'].explode()\n",
        "numObs = pointsCCDC['numObs'].explode()"
      ],
      "execution_count": null,
      "outputs": []
    },
    {
      "cell_type": "markdown",
      "metadata": {
        "id": "w91wt76H0eY_"
      },
      "source": [
        "Ya que las listas fueron explotadas y apiladas en la misma columna, los índices de los registros que se apilaron se utilizan para replicar los registros del data frame. Si una lista tiene dos segmentos para un registro, este debe ahora aparecer dos veces."
      ]
    },
    {
      "cell_type": "code",
      "metadata": {
        "id": "vQgw5F0nvGxM"
      },
      "source": [
        "pointsExploded = pointsCCDC.loc[numObs.index,['ID','patca','geometry']]"
      ],
      "execution_count": null,
      "outputs": []
    },
    {
      "cell_type": "markdown",
      "metadata": {
        "id": "gynuYqPP00T7"
      },
      "source": [
        "Se añaden los valores de las listas explotadas al data frame donde se replicaron los registros. En el caso de los datos de fecha, estos son formateados de acuerdo a sus unidades de MILISEGUNDOS."
      ]
    },
    {
      "cell_type": "code",
      "metadata": {
        "id": "LIZsZrknvrPi"
      },
      "source": [
        "pointsExploded['tStart'] = pd.to_datetime(tStart,unit = 'ms')\n",
        "pointsExploded['tEnd'] = pd.to_datetime(tEnd,unit = 'ms')\n",
        "pointsExploded['tBreak'] = pd.to_datetime(tBreak,unit = 'ms')"
      ],
      "execution_count": null,
      "outputs": []
    },
    {
      "cell_type": "markdown",
      "metadata": {
        "id": "qkc6rAeb0_u7"
      },
      "source": [
        "En el caso del número de observaciones no se realiza ningún cambio."
      ]
    },
    {
      "cell_type": "code",
      "metadata": {
        "id": "Zg_Nn7GEwFeD"
      },
      "source": [
        "pointsExploded['numObs'] = numObs"
      ],
      "execution_count": null,
      "outputs": []
    },
    {
      "cell_type": "markdown",
      "metadata": {
        "id": "3qSdych21prs"
      },
      "source": [
        "Cuando sólo existe un segmento, no existe (generalmente) punto de quiebre y su valor de MILISEGUNDOS es configurado en cero, lo que equivale a una fecha de 1970 (esto también ocurre a veces en el segmento final cuando hay más de un segmento). Así que podemos cambiar estos valores para evitar confusiones."
      ]
    },
    {
      "cell_type": "code",
      "metadata": {
        "id": "dJLZqACW12J3"
      },
      "source": [
        "pointsExploded.loc[pointsExploded['tBreak'] < '2011-01-01','tBreak'] = np.nan"
      ],
      "execution_count": null,
      "outputs": []
    },
    {
      "cell_type": "markdown",
      "metadata": {
        "id": "c1AR6isT1Edw"
      },
      "source": [
        "## Ejemplos"
      ]
    },
    {
      "cell_type": "markdown",
      "metadata": {
        "id": "hjDp35qQ3Tse"
      },
      "source": [
        "El registro con ID 386311 sólo tiene un segmento de 131 imágenes que inicia en 2011-01-01 y termina en 20019-12-17. No se ecnontró ningún punto de quiebre o cambio de cobertura en las imágenes."
      ]
    },
    {
      "cell_type": "code",
      "metadata": {
        "colab": {
          "base_uri": "https://localhost:8080/",
          "height": 80
        },
        "id": "Zx_u8cRX1WqZ",
        "outputId": "9c4b27e4-c24c-4a05-cd02-7c74022faab4"
      },
      "source": [
        "pointsExploded[pointsExploded['ID'] == '386311']"
      ],
      "execution_count": null,
      "outputs": [
        {
          "output_type": "execute_result",
          "data": {
            "text/html": [
              "<div>\n",
              "<style scoped>\n",
              "    .dataframe tbody tr th:only-of-type {\n",
              "        vertical-align: middle;\n",
              "    }\n",
              "\n",
              "    .dataframe tbody tr th {\n",
              "        vertical-align: top;\n",
              "    }\n",
              "\n",
              "    .dataframe thead th {\n",
              "        text-align: right;\n",
              "    }\n",
              "</style>\n",
              "<table border=\"1\" class=\"dataframe\">\n",
              "  <thead>\n",
              "    <tr style=\"text-align: right;\">\n",
              "      <th></th>\n",
              "      <th>ID</th>\n",
              "      <th>patca</th>\n",
              "      <th>geometry</th>\n",
              "      <th>tStart</th>\n",
              "      <th>tEnd</th>\n",
              "      <th>tBreak</th>\n",
              "      <th>numObs</th>\n",
              "    </tr>\n",
              "  </thead>\n",
              "  <tbody>\n",
              "    <tr>\n",
              "      <th>0</th>\n",
              "      <td>386311</td>\n",
              "      <td>1</td>\n",
              "      <td>POLYGON ((-71.70753 18.89259, -71.70756 18.892...</td>\n",
              "      <td>2011-01-01 15:01:56.470</td>\n",
              "      <td>2019-12-17 15:09:03.062</td>\n",
              "      <td>NaT</td>\n",
              "      <td>131</td>\n",
              "    </tr>\n",
              "  </tbody>\n",
              "</table>\n",
              "</div>"
            ],
            "text/plain": [
              "       ID  patca  ... tBreak numObs\n",
              "0  386311      1  ...    NaT    131\n",
              "\n",
              "[1 rows x 7 columns]"
            ]
          },
          "metadata": {
            "tags": []
          },
          "execution_count": 315
        }
      ]
    },
    {
      "cell_type": "markdown",
      "metadata": {
        "id": "GQomvT8L3lug"
      },
      "source": [
        "El registro con ID 396011 tiene 4 segmentos con 47, 42, 31 y 6 imágenes respectivamente. El primer segmento inicia en 2011-01-01 y termina en 2015-03-25. El segundo segmento inicia en 2015-04-10 y termina en 2018-01-28. Y así sucesivamente."
      ]
    },
    {
      "cell_type": "code",
      "metadata": {
        "colab": {
          "base_uri": "https://localhost:8080/",
          "height": 173
        },
        "id": "k05UMhkcv8lT",
        "outputId": "725990c6-4cdc-48a7-eb40-ea0129426854"
      },
      "source": [
        "pointsExploded[pointsExploded['ID'] == '396011']"
      ],
      "execution_count": null,
      "outputs": [
        {
          "output_type": "execute_result",
          "data": {
            "text/html": [
              "<div>\n",
              "<style scoped>\n",
              "    .dataframe tbody tr th:only-of-type {\n",
              "        vertical-align: middle;\n",
              "    }\n",
              "\n",
              "    .dataframe tbody tr th {\n",
              "        vertical-align: top;\n",
              "    }\n",
              "\n",
              "    .dataframe thead th {\n",
              "        text-align: right;\n",
              "    }\n",
              "</style>\n",
              "<table border=\"1\" class=\"dataframe\">\n",
              "  <thead>\n",
              "    <tr style=\"text-align: right;\">\n",
              "      <th></th>\n",
              "      <th>ID</th>\n",
              "      <th>patca</th>\n",
              "      <th>geometry</th>\n",
              "      <th>tStart</th>\n",
              "      <th>tEnd</th>\n",
              "      <th>tBreak</th>\n",
              "      <th>numObs</th>\n",
              "    </tr>\n",
              "  </thead>\n",
              "  <tbody>\n",
              "    <tr>\n",
              "      <th>2</th>\n",
              "      <td>396011</td>\n",
              "      <td>0</td>\n",
              "      <td>POLYGON ((-70.82647 18.39846, -70.82666 18.398...</td>\n",
              "      <td>2011-01-01 15:01:56.470</td>\n",
              "      <td>2015-03-25 15:08:16.830</td>\n",
              "      <td>2015-04-10 15:08:08.210</td>\n",
              "      <td>47</td>\n",
              "    </tr>\n",
              "    <tr>\n",
              "      <th>2</th>\n",
              "      <td>396011</td>\n",
              "      <td>0</td>\n",
              "      <td>POLYGON ((-70.82647 18.39846, -70.82666 18.398...</td>\n",
              "      <td>2015-04-10 15:08:08.210</td>\n",
              "      <td>2018-01-28 15:08:41.000</td>\n",
              "      <td>2018-02-13 15:08:34.810</td>\n",
              "      <td>42</td>\n",
              "    </tr>\n",
              "    <tr>\n",
              "      <th>2</th>\n",
              "      <td>396011</td>\n",
              "      <td>0</td>\n",
              "      <td>POLYGON ((-70.82647 18.39846, -70.82666 18.398...</td>\n",
              "      <td>2018-02-13 15:08:34.810</td>\n",
              "      <td>2019-09-12 15:09:01.304</td>\n",
              "      <td>2019-09-28 15:09:06.465</td>\n",
              "      <td>31</td>\n",
              "    </tr>\n",
              "    <tr>\n",
              "      <th>2</th>\n",
              "      <td>396011</td>\n",
              "      <td>0</td>\n",
              "      <td>POLYGON ((-70.82647 18.39846, -70.82666 18.398...</td>\n",
              "      <td>2019-09-28 15:09:06.465</td>\n",
              "      <td>2019-12-17 15:09:03.062</td>\n",
              "      <td>NaT</td>\n",
              "      <td>6</td>\n",
              "    </tr>\n",
              "  </tbody>\n",
              "</table>\n",
              "</div>"
            ],
            "text/plain": [
              "       ID  patca  ...                  tBreak numObs\n",
              "2  396011      0  ... 2015-04-10 15:08:08.210     47\n",
              "2  396011      0  ... 2018-02-13 15:08:34.810     42\n",
              "2  396011      0  ... 2019-09-28 15:09:06.465     31\n",
              "2  396011      0  ...                     NaT      6\n",
              "\n",
              "[4 rows x 7 columns]"
            ]
          },
          "metadata": {
            "tags": []
          },
          "execution_count": 316
        }
      ]
    }
  ]
}