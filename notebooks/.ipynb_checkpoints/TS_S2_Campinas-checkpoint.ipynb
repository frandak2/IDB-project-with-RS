{
 "cells": [
  {
   "cell_type": "markdown",
   "metadata": {},
   "source": [
    "Import librarys"
   ]
  },
  {
   "cell_type": "code",
   "execution_count": 1,
   "metadata": {},
   "outputs": [],
   "source": [
    "import ee\n",
    "from ipygee import *\n",
    "import eeconvert\n",
    "import pandas as pd\n",
    "import numpy as np"
   ]
  },
  {
   "cell_type": "code",
   "execution_count": 2,
   "metadata": {},
   "outputs": [],
   "source": [
    "ee.Initialize()"
   ]
  },
  {
   "cell_type": "markdown",
   "metadata": {},
   "source": [
    "Set directory ## this is for clarity and better manipulation of folders for me."
   ]
  },
  {
   "cell_type": "code",
   "execution_count": 3,
   "metadata": {},
   "outputs": [],
   "source": [
    "import os,glob\n",
    "g = os.getcwd()\n",
    "g\n",
    "path = 'D:\\\\repos\\\\CIAT\\\\MAFF'\n",
    "os.chdir(path)"
   ]
  },
  {
   "cell_type": "markdown",
   "metadata": {},
   "source": [
    "Read files from GEE user"
   ]
  },
  {
   "cell_type": "code",
   "execution_count": 4,
   "metadata": {},
   "outputs": [],
   "source": [
    "FIELD = ee.FeatureCollection(\"users/frandak2/MAFF/FIELD_Q\")\n",
    "PLOTS = ee.FeatureCollection(\"users/frandak2/MAFF/PLOTS_Q\")\n",
    "# cld = ee.require('users/fitoprincipe/geetools:cloud_masks')\n",
    "# PLOTS.getInfo()"
   ]
  },
  {
   "cell_type": "markdown",
   "metadata": {},
   "source": [
    "stack image and add VIs in time series"
   ]
  },
  {
   "cell_type": "code",
   "execution_count": null,
   "metadata": {},
   "outputs": [],
   "source": [
    "# search images Sentinel 2 since January 2019 to Agust 2020 in the Region Of Interes (ROI have convexhull)\n",
    "S2 = (ee.ImageCollection('COPERNICUS/S2_SR')\n",
    "        .filterDate('2019-01-01', '2020-08-15')\n",
    "        .filterBounds(FIELD))# filter according to drawn boundary\n",
    "\n",
    "#function Cloud mask\n",
    "def clouds_shadows_mask(image):\n",
    "    shadows_mask = image.select('SCL').eq(3).Not() # Shadow-free pixels\n",
    "    clouds_mask = image.select('SCL').lt(7).Or(image.select('SCL').gt(9)) # Cloud-free pixels\n",
    "    empirical_clouds_mask = image.select('B2').lte(1500) # Cloud-free pixels\n",
    "    clouds_mask = clouds_mask.And(empirical_clouds_mask) # Cloud-free pixels\n",
    "    mask = shadows_mask.And(clouds_mask) # Cloud-shadow-free pixels\n",
    "    \n",
    "    return image.updateMask(mask)#.copyProperties(image,[\"system:time_start\"])\n",
    "#function reflectance\n",
    "def reflectance(image):\n",
    "    return ee.Image(image.multiply(0.0001).copyProperties(image,[\"system:time_start\"]))\n",
    "\n",
    "#Function to calculate and add an VIs band\n",
    "def VI(image):\n",
    "    IVs = image.addBands(image.normalizedDifference(['B8', 'B4']).rename('NDVI'))\n",
    "    IVs = IVs.addBands(image.normalizedDifference(['B8', 'B5']).rename('NDRE'))\n",
    "    IVs = IVs.addBands(image.normalizedDifference(['B8', 'B3']).rename('GNDVI'))\n",
    "    IVs = (IVs.addBands(image.expression(\n",
    "    '2.5 * ((NIR - RED) / (NIR + 6 * RED - 7.5 * BLUE + 1))',{'NIR': image.select('B8'),\n",
    "      'RED': image.select('B4'),\n",
    "      'BLUE': image.select('B2')}).rename('EVI')))\n",
    "    IVs = (IVs.addBands(image.expression(\n",
    "    '(NIR - 2 * RED + BLUE)/(NIR + 2 * RED - BLUE)', {\n",
    "      'NIR': image.select('B8'),\n",
    "      'RED': image.select('B4'),\n",
    "      'BLUE': image.select('B2')}).rename('ARVI')))\n",
    "    IVs =( IVs.addBands(image.expression(\n",
    "    'NIR/(NIR + RED)', {\n",
    "      'NIR': image.select('B8'),\n",
    "      'RED': image.select('B4'),}).rename('IPVI')))\n",
    "    IVs = (IVs.addBands(image.expression(\n",
    "    '(NIR-RED)/(NIR+RED + 0.16)', {\n",
    "      'NIR': image.select('B8'),\n",
    "      'RED': image.select('B4'),}).rename('OSAVI')))\n",
    "    IVs = (IVs.addBands(image.expression(\n",
    "    'GREEN - 0.39 * RED - 0.69 * BLUE', {\n",
    "      'BLUE': image.select('B2'),\n",
    "      'RED': image.select('B4'),\n",
    "      'GREEN': image.select('B3'),}).rename('TGI')))\n",
    "    return IVs"
   ]
  },
  {
   "cell_type": "code",
   "execution_count": null,
   "metadata": {},
   "outputs": [],
   "source": [
    "# # // Add maskcloud band to image collection\n",
    "S2 = S2.map(clouds_shadows_mask)\n",
    "# print(S2.getInfo(),\"maskcloud1\")\n",
    "\n",
    "# # // Add VIs band to image collection\n",
    "S2 = S2.map(VI)\n",
    "# print(S2,\"ndvi\")\n",
    "# # // Extract NDVI band and create NDVI median composite image\n",
    "# NDVI = S2.select(['NDVI'])\n",
    "\n",
    "# NDVImed = NDVI.median(); #//I just changed the name of this lable ;)\n",
    "# # print(NDVImed,\"NDVImed\")\n",
    "# # // Create palettes for display of NDVI\n",
    "# ndvi_pal = ['#d73027', '#f46d43', '#fdae61', '#fee08b', '#d9ef8b',\n",
    "# '#a6d96a']\n",
    "\n",
    "# // Create a time series chart.\n",
    "# plotNDVI = ui.Chart.image.doySeriesByRegion(S2, 'nd',PLOTS,ee.Reducer.mean(),10,ee.Reducer.mean(), 'ID')\n",
    "\n",
    "# # // Display.\n",
    "# print(plotNDVI.getInfo());\n",
    "\n",
    "# # // Display NDVI results on map\n",
    "# Map.addLayer(NDVImed.clip(FIELD), {min:-0.5, max:0.9, palette: ndvi_pal}, 'NDVI');\n",
    "# Map.centerObject(FIELD,15);\n",
    "# Map.addLayer(PLOTS,{}, 'PLOTS');\n",
    "S2.getInfo()"
   ]
  },
  {
   "cell_type": "markdown",
   "metadata": {},
   "source": [
    "select VIs and extrac features in time series for each id from ROI in feature collection"
   ]
  },
  {
   "cell_type": "code",
   "execution_count": null,
   "metadata": {},
   "outputs": [],
   "source": [
    "# Select VIs bands\n",
    "VI = S2.select([\"NDVI\",\"NDRE\",\"GNDVI\",\"EVI\",\"IPVI\"])\n",
    "# Empty Collection to fill\n",
    "ft = ee.FeatureCollection(ee.List([]))\n",
    "#Function to extract means values from each Plot inside of ROI with his date \n",
    "def fill(img, ini):\n",
    "#   // type cast\n",
    "    inift = ee.FeatureCollection(ini)\n",
    "\n",
    "#   // gets the values for the points in the current img\n",
    "    ft2 = img.reduceRegions(PLOTS, ee.Reducer.first(),10)\n",
    "\n",
    "#   // gets the date of the img\n",
    "    date = img.date().format()\n",
    "    \n",
    "    def function(f):\n",
    "        return f.set(\"date\", date)\n",
    "#   // writes the date in each feature\n",
    "    ft3 = ft2.map(function)\n",
    "\n",
    "#   // merges the FeatureCollections\n",
    "    return inift.merge(ft3)\n",
    "\n",
    "\n",
    "# // Iterates over the ImageCollection\n",
    "newft = ee.FeatureCollection(VI.iterate(fill, ft))\n",
    "\n",
    "# // Export\n",
    "# Export.table.toDrive(newft,\n",
    "# \"anyDescription\",\n",
    "# \"anyFolder\",\n",
    "# \"anyNameYouWant\")\n",
    "# newft.getInfo()"
   ]
  },
  {
   "cell_type": "code",
   "execution_count": null,
   "metadata": {},
   "outputs": [],
   "source": [
    "newft"
   ]
  },
  {
   "cell_type": "markdown",
   "metadata": {},
   "source": [
    "covert featurecollection in a Data Frame (pandas)"
   ]
  },
  {
   "cell_type": "code",
   "execution_count": null,
   "metadata": {},
   "outputs": [],
   "source": [
    "gdf = eeconvert.fcToGdf(newft,crs={'init': 'epsg:4326'}) #feature collection from Geopandas\n",
    "# gdf = gdf.dropna() #delete NaN\n",
    "# del gdf['geometry'] #delete geometry column\n",
    "# del gdf[\"ID\"] #delete geometry ID"
   ]
  },
  {
   "cell_type": "code",
   "execution_count": null,
   "metadata": {},
   "outputs": [],
   "source": [
    "gdf"
   ]
  },
  {
   "cell_type": "markdown",
   "metadata": {},
   "source": [
    "Use Melt for better organization from seaborn"
   ]
  },
  {
   "cell_type": "code",
   "execution_count": null,
   "metadata": {},
   "outputs": [],
   "source": [
    "df = pd.melt(gdf,id_vars=['names', \"date\"],var_name ='VIs', value_name ='VIs_value') #organizate pandas\n",
    "df_copy = df #create copy"
   ]
  },
  {
   "cell_type": "markdown",
   "metadata": {},
   "source": [
    "Comvert column Date in format Date"
   ]
  },
  {
   "cell_type": "code",
   "execution_count": null,
   "metadata": {},
   "outputs": [],
   "source": [
    "df_copy[\"date\"]= df_copy[\"date\"].str.split(\"T\", n = 1, expand = True) \n",
    "df_copy['date'] = pd.to_datetime(df['date'], format='%Y-%m-%d')"
   ]
  },
  {
   "cell_type": "markdown",
   "metadata": {},
   "source": [
    "rename values ID"
   ]
  },
  {
   "cell_type": "code",
   "execution_count": null,
   "metadata": {},
   "outputs": [],
   "source": [
    "s = df_copy.names\n",
    "numbers = range(1, 11)\n",
    "sequence = []\n",
    "for number in numbers:\n",
    "    a = \"G\" + str(number)\n",
    "    s = s.replace(str(number),a)\n",
    "s = s.replace([\"Q6\",\"Q7\",\"Q8\"],[\"C5\",\"C6\",\"C7\"])\n",
    "df_copy.names = s\n",
    "df_copy"
   ]
  },
  {
   "cell_type": "markdown",
   "metadata": {},
   "source": [
    "Filter DataFrame for ploting"
   ]
  },
  {
   "cell_type": "code",
   "execution_count": null,
   "metadata": {},
   "outputs": [],
   "source": [
    "df_copy = df_copy.drop(df_copy[df_copy[\"VIs\"]==\"TGI\"].index)\n",
    "df_copy = df_copy.drop(df_copy[df_copy[\"VIs\"]==\"EVI\"].index)"
   ]
  },
  {
   "cell_type": "markdown",
   "metadata": {},
   "source": [
    "filter for ID and Vis values"
   ]
  },
  {
   "cell_type": "code",
   "execution_count": null,
   "metadata": {},
   "outputs": [],
   "source": [
    "df1 = df_copy[df_copy[\"names\"]==\"G5\"]\n",
    "df1 = df1[df1[\"VIs_value\"]>=0.2]\n",
    "df1"
   ]
  },
  {
   "cell_type": "markdown",
   "metadata": {},
   "source": [
    "Settup Plot"
   ]
  },
  {
   "cell_type": "code",
   "execution_count": null,
   "metadata": {},
   "outputs": [],
   "source": [
    "import matplotlib.pyplot as plt\n",
    "# Display figures inline in Jupyter notebook\n",
    "import seaborn as sns\n",
    "# sns.set_style(\"white\")\n",
    "rc={\"font.weight\":\"bold\",'figure.figsize':(30, 6),'axes.labelsize': 28, \n",
    "    'font.size': 28,'axes.titlesize': 28,'legend.fontsize': 18, 'axes.titlesize': 28,\n",
    "   \"lines.linewidth\": 2.5,'font.sans-serif': \"Times New Roman\"}\n",
    "# sns.set()\n",
    "sns.set(style=\"white\", rc=rc,font_scale = 1.8)\n",
    "# sns.set_style(\"white\")\n",
    "# sns.set_context(\"paper\",rc=rc,font_scale = 1.5)\n",
    "DATE = pd.DataFrame({\n",
    "    'inside':[\n",
    "        '2020-03-14','2020-05-02','2020-06-21','2020-08-03'],\n",
    "    'outside':[\n",
    "        '2020-03-19','2020-05-07','2020-06-27','2020-08-08']\n",
    "})\n",
    "\n",
    "DATE['inside'] = pd.to_datetime(DATE['inside'], format='%Y-%m-%d')\n",
    "DATE['outside'] = pd.to_datetime(DATE['outside'], format='%Y-%m-%d')"
   ]
  },
  {
   "cell_type": "markdown",
   "metadata": {},
   "source": [
    "Plots Time series  from a ID"
   ]
  },
  {
   "cell_type": "code",
   "execution_count": null,
   "metadata": {},
   "outputs": [],
   "source": [
    "p = sns.lineplot('date', 'VIs_value', hue='VIs', style='VIs',\n",
    "             data=df1)\n",
    "p.set(xlabel='Dates', ylabel='VIs value',title=\"Time serie for G5\")\n",
    "for inside  in DATE.inside:\n",
    "    p.axvline(inside,color='r',label=\"Cows come in\")\n",
    "for outside in DATE.outside:\n",
    "    p.axvline(outside,color='g',label=\"Cows come out\")\n",
    "    \n",
    "handles, labels = p.get_legend_handles_labels()\n",
    "lgd = dict(zip(labels, handles))\n",
    "p.legend(lgd.values(), lgd.keys(),loc='center left', bbox_to_anchor=(0.98, 0.5), ncol=1)\n",
    "sns.despine()\n",
    "figure = p.get_figure()\n",
    "figure.savefig('Img/Sentinel/Campina/TS_G5-1.png', dpi=600)"
   ]
  },
  {
   "cell_type": "code",
   "execution_count": null,
   "metadata": {},
   "outputs": [],
   "source": []
  }
 ],
 "metadata": {
  "kernelspec": {
   "display_name": "Python (GEE)",
   "language": "python",
   "name": "gee"
  },
  "language_info": {
   "codemirror_mode": {
    "name": "ipython",
    "version": 3
   },
   "file_extension": ".py",
   "mimetype": "text/x-python",
   "name": "python",
   "nbconvert_exporter": "python",
   "pygments_lexer": "ipython3",
   "version": "3.8.5"
  }
 },
 "nbformat": 4,
 "nbformat_minor": 4
}
