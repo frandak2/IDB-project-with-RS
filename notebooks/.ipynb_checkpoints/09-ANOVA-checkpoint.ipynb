{
 "cells": [
  {
   "cell_type": "code",
   "execution_count": null,
   "metadata": {},
   "outputs": [],
   "source": [
    "import pandas as pd\n",
    "import matplotlib.pyplot as plt\n",
    "# Display figures inline in Jupyter notebook\n",
    "import seaborn as sns\n",
    "import numpy as np\n",
    "from pathlib import Path\n",
    "from scipy import signal\n",
    "import datetime\n",
    "import numpy as np"
   ]
  },
  {
   "cell_type": "code",
   "execution_count": null,
   "metadata": {},
   "outputs": [],
   "source": [
    "import os,glob\n",
    "g = os.getcwd()\n",
    "g\n",
    "path = 'D:\\\\repos\\\\CIAT\\\\IDB_PROJECT'\n",
    "os.chdir(path)"
   ]
  },
  {
   "cell_type": "code",
   "execution_count": null,
   "metadata": {},
   "outputs": [],
   "source": [
    "smooth_all = pd.read_csv(\"Data_IDB/alldf_smooth.csv\")\n",
    "patca = pd.read_csv(\"Data_IDB/new/alldf_polygons.csv\")\n",
    "type(smooth_all.ID[0])"
   ]
  },
  {
   "cell_type": "code",
   "execution_count": null,
   "metadata": {},
   "outputs": [],
   "source": [
    "ID = str(patca[\"cuest_id_b\"]) + str(patca[\"parcela\"])\n",
    "str1 = [str(int) for int in patca[\"cuest_id_b\"]] \n",
    "str2 = [str(int) for int in patca[\"parcela\"]]\n",
    "patca[\"ID\"] = [s1 + s2 for s1, s2 in zip(str1, str2)]\n",
    "patca[\"ID\"] = patca[\"ID\"].astype('int64')\n",
    "patca = patca[[\"ID\",\"patca\"]]\n",
    "type(patca.ID[0])\n",
    "patca"
   ]
  },
  {
   "cell_type": "code",
   "execution_count": null,
   "metadata": {},
   "outputs": [],
   "source": [
    "merge = smooth_all.merge(patca, how=\"inner\", on=\"ID\")\n",
    "merge"
   ]
  },
  {
   "cell_type": "code",
   "execution_count": null,
   "metadata": {},
   "outputs": [],
   "source": [
    "mean_M = pd.DataFrame() \n",
    "group_id= merge.groupby([\"ID\"])\n",
    "for fid in merge.ID.unique():\n",
    "#     print(fid)\n",
    "    ID = group_id.get_group(fid)\n",
    "    ID\n",
    "    monthly_mean = ID.resample('M').mean()\n",
    "    # monthly_mean.shift()\n",
    "    # ############deseason\n",
    "#     monthly_mean_diff = monthly_mean - monthly_mean.shift()\n",
    "#     monthly_mean_diff[\"ID\"] = monthly_mean[\"ID\"]\n",
    "    deseason_trends = pd.concat([deseason_trends,monthly_mean],axis=0)#\n",
    "    deseason_trends.dropna(inplace=True)"
   ]
  },
  {
   "cell_type": "code",
   "execution_count": null,
   "metadata": {},
   "outputs": [],
   "source": [
    "import matplotlib.pyplot as plt\n",
    "import seaborn as sns\n",
    "ax = sns.boxplot(x='patca', y='NDVI', data=merge, color='#99c2a2')\n",
    "ax = sns.swarmplot(x='patca', y='NDVI', data=merge, color='#7d0013')\n",
    "plt.show()"
   ]
  },
  {
   "cell_type": "code",
   "execution_count": null,
   "metadata": {},
   "outputs": [],
   "source": [
    "# load packages\n",
    "import scipy.stats as stats\n",
    "# stats f_oneway functions takes the groups as input and returns ANOVA F and p value\n",
    "fvalue, pvalue = stats.f_oneway(merge['patca'], merge['NDVI'])\n",
    "print(fvalue, pvalue)"
   ]
  },
  {
   "cell_type": "code",
   "execution_count": null,
   "metadata": {},
   "outputs": [],
   "source": []
  },
  {
   "cell_type": "code",
   "execution_count": null,
   "metadata": {},
   "outputs": [],
   "source": []
  },
  {
   "cell_type": "code",
   "execution_count": null,
   "metadata": {},
   "outputs": [],
   "source": []
  },
  {
   "cell_type": "code",
   "execution_count": null,
   "metadata": {},
   "outputs": [],
   "source": []
  },
  {
   "cell_type": "code",
   "execution_count": null,
   "metadata": {},
   "outputs": [],
   "source": []
  },
  {
   "cell_type": "code",
   "execution_count": null,
   "metadata": {},
   "outputs": [],
   "source": []
  }
 ],
 "metadata": {
  "kernelspec": {
   "display_name": "Python (GEE)",
   "language": "python",
   "name": "gee"
  },
  "language_info": {
   "codemirror_mode": {
    "name": "ipython",
    "version": 3
   },
   "file_extension": ".py",
   "mimetype": "text/x-python",
   "name": "python",
   "nbconvert_exporter": "python",
   "pygments_lexer": "ipython3",
   "version": "3.8.5"
  }
 },
 "nbformat": 4,
 "nbformat_minor": 4
}
