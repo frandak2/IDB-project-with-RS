{
 "cells": [
  {
   "cell_type": "code",
   "execution_count": 1,
   "metadata": {},
   "outputs": [],
   "source": [
    "import pandas as pd\n",
    "from pathlib import Path\n",
    "# import numpy as np"
   ]
  },
  {
   "cell_type": "code",
   "execution_count": 2,
   "metadata": {},
   "outputs": [],
   "source": [
    "import os,glob\n",
    "g = os.getcwd()\n",
    "g\n",
    "path = 'D:\\\\repos\\\\CIAT\\\\IDB_PROJECT'\n",
    "os.chdir(path)"
   ]
  },
  {
   "cell_type": "code",
   "execution_count": 3,
   "metadata": {},
   "outputs": [
    {
     "data": {
      "text/plain": [
       "['Data_IDB\\\\FT\\\\L7_2011.csv',\n",
       " 'Data_IDB\\\\FT\\\\L7_2012.csv',\n",
       " 'Data_IDB\\\\FT\\\\L7_2013.csv',\n",
       " 'Data_IDB\\\\FT\\\\L7_2014.csv',\n",
       " 'Data_IDB\\\\FT\\\\L7_2016.csv',\n",
       " 'Data_IDB\\\\FT\\\\L8_2013.csv',\n",
       " 'Data_IDB\\\\FT\\\\L8_2014.csv',\n",
       " 'Data_IDB\\\\FT\\\\L8_2015.csv',\n",
       " 'Data_IDB\\\\FT\\\\L8_2016.csv',\n",
       " 'Data_IDB\\\\FT\\\\L8_2017.csv',\n",
       " 'Data_IDB\\\\FT\\\\L8_2018.csv',\n",
       " 'Data_IDB\\\\FT\\\\L8_2019.csv']"
      ]
     },
     "execution_count": 3,
     "metadata": {},
     "output_type": "execute_result"
    }
   ],
   "source": [
    "path =\"Data_IDB/FT\"\n",
    "ext = \"csv\"\n",
    "extention = r\"{}\".format(ext)\n",
    "direction = Path(r\"{}\".format(path))\n",
    "files_list = list(direction.glob(r\"*.{}*\".format(extention)))\n",
    "csvs = []\n",
    "for csv in files_list:\n",
    "    csvs.append(str(csv))\n",
    "csvs"
   ]
  },
  {
   "cell_type": "code",
   "execution_count": 70,
   "metadata": {},
   "outputs": [
    {
     "data": {
      "text/plain": [
       "77217"
      ]
     },
     "execution_count": 70,
     "metadata": {},
     "output_type": "execute_result"
    }
   ],
   "source": [
    "alldb = pd.DataFrame()\n",
    "for csv in csvs:\n",
    "    file = pd.read_csv(csv)\n",
    "    alldb = pd.concat([alldb,file],ignore_index = True)\n",
    "\n",
    "alldb = alldb[[\"NDVI\",\"OSAVI\",\"EVI\",\"NWVI\",\"ID\",\"patca\",\"date\"]]\n",
    "len(alldb)"
   ]
  },
  {
   "cell_type": "markdown",
   "metadata": {},
   "source": [
    "# mean data by ID and date"
   ]
  },
  {
   "cell_type": "code",
   "execution_count": 72,
   "metadata": {},
   "outputs": [],
   "source": [
    "mean_db = alldb.groupby([\"ID\",\"date\"],as_index=False ).mean()\n",
    "mean_db\n",
    "mean_db.to_csv(\"Data_IDB/alldf.csv\",index=False)"
   ]
  },
  {
   "cell_type": "code",
   "execution_count": null,
   "metadata": {},
   "outputs": [],
   "source": []
  }
 ],
 "metadata": {
  "kernelspec": {
   "display_name": "Python (GEE)",
   "language": "python",
   "name": "gee"
  },
  "language_info": {
   "codemirror_mode": {
    "name": "ipython",
    "version": 3
   },
   "file_extension": ".py",
   "mimetype": "text/x-python",
   "name": "python",
   "nbconvert_exporter": "python",
   "pygments_lexer": "ipython3",
   "version": "3.8.5"
  }
 },
 "nbformat": 4,
 "nbformat_minor": 4
}
