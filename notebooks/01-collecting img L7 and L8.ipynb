{
 "cells": [
  {
   "cell_type": "code",
   "execution_count": 1,
   "metadata": {
    "colab": {},
    "colab_type": "code",
    "id": "IFqs89AGDiv9"
   },
   "outputs": [],
   "source": [
    "# Installs geemap package\n",
    "import subprocess\n",
    "\n",
    "try:\n",
    "    import geemap\n",
    "except ImportError:\n",
    "    print('geemap package not installed. Installing ...')\n",
    "    subprocess.check_call([\"python\", '-m', 'pip', 'install', 'geemap'])\n",
    "\n",
    "# Checks whether this notebook is running on Google Colab\n",
    "try:\n",
    "    import google.colab\n",
    "    import geemap.eefolium as emap\n",
    "except:\n",
    "    import geemap as emap\n",
    "\n",
    "# Authenticates and initializes Earth Engine\n",
    "import ee\n",
    "\n",
    "try:\n",
    "    ee.Initialize()\n",
    "except Exception as e:\n",
    "    ee.Authenticate()\n",
    "    ee.Initialize()  \n",
    "import folium\n",
    "from collections import OrderedDict\n",
    "from ipygee import *\n",
    "import eeconvert\n",
    "import pandas as pd\n",
    "import numpy as np\n",
    "# import geetools\n",
    "# from google.colab import files"
   ]
  },
  {
   "cell_type": "code",
   "execution_count": 6,
   "metadata": {
    "colab": {},
    "colab_type": "code",
    "id": "48NFFLdzDiy8"
   },
   "outputs": [],
   "source": [
    "path_shp = \"users/frandak2/bank/poligons_bs_test\"\n",
    "ROI = ee.FeatureCollection(path_shp)"
   ]
  },
  {
   "cell_type": "code",
   "execution_count": 2,
   "metadata": {
    "colab": {
     "base_uri": "https://localhost:8080/",
     "height": 17,
     "referenced_widgets": [
      "64a452951c7a4b01a39bccb745a5739a"
     ]
    },
    "colab_type": "code",
    "executionInfo": {
     "elapsed": 1627,
     "status": "ok",
     "timestamp": 1595957545269,
     "user": {
      "displayName": "frank hurtado",
      "photoUrl": "https://lh3.googleusercontent.com/a-/AOh14Gj-C8anRFoHyX-VNPOZWaZyTYMZv_6RlRaozFxc=s64",
      "userId": "07768760401576123009"
     },
     "user_tz": 300
    },
    "id": "-FX6uesfJzCv",
    "outputId": "3c056429-be1a-4c40-f6e3-0a91edc213d3"
   },
   "outputs": [],
   "source": [
    "def maskS2clouds(img):\n",
    "# '''\n",
    "# Function to mask clouds based on the pixel_qa band of Landsat 8 SR data. See:\n",
    "# https://developers.google.com/earth-engine/datasets/catalog/LANDSAT_LC08_C01_T1_SR\n",
    "\n",
    "# Params:\n",
    "# -------\n",
    "# - img: image input Landsat 8 SR image\n",
    "\n",
    "# Return:\n",
    "# -------\n",
    "# cloudmasked Landsat 8 image\n",
    "# '''\n",
    "    cloudShadowBitMask = (1 << 3)\n",
    "    cloudsBitMask = (1 << 5)\n",
    "    # Get the pixel QA band.\n",
    "    qa = img.select('pixel_qa')\n",
    "    # Both flags should be set to zero, indicating clear conditions.\n",
    "    mask = qa.bitwiseAnd(cloudShadowBitMask).eq(0)\\\n",
    "           .And(qa.bitwiseAnd(cloudsBitMask).eq(0))\n",
    "    return img.updateMask(mask)\n",
    "\n",
    "def Gap_fill(img):\n",
    "    img_fill = img.focal_mean(1, 'square', 'pixels', 8)\n",
    "    final_image = img_fill.blend(img)\n",
    "    return final_image\n",
    "\n",
    "Map = emap.Map(center=(40, -100), zoom=4)"
   ]
  },
  {
   "cell_type": "code",
   "execution_count": 7,
   "metadata": {
    "colab": {},
    "colab_type": "code",
    "id": "DH-m4GMLDi1b"
   },
   "outputs": [],
   "source": [
    "# y = range(2011,2020)\n",
    "# M = range(1,8)\n",
    "# d = [1,28,30,31]\n",
    "start_date = ee.Date.fromYMD(2011,1,1)\n",
    "end_date = ee.Date.fromYMD(2011,1,31)\n",
    "# 2.4.3 Prepare the satellite image (Landsat-8)\n",
    "RGB_bands = ['B4','B3','B2'] #RGB\n",
    "NDVI_bands = ['B5','B4'] #NIR\n",
    "\n",
    "l7 = ee.ImageCollection(\"LANDSAT/LE07/C01/T1_SR\")\\\n",
    "               .filterBounds(ROI)\\\n",
    "               .filterDate(start_date, end_date)\\\n",
    "               .map(maskS2clouds)\\\n",
    "               .median()\\\n",
    "               .multiply(0.0001)\n",
    "\n",
    "l7_ndvi = l7.normalizedDifference(NDVI_bands).rename(['NDVI'])\n",
    "l7_rgb = l7.select(RGB_bands).rename(['R','G','B']) \n",
    "l7 = l7_rgb.addBands(l7_ndvi)"
   ]
  },
  {
   "cell_type": "code",
   "execution_count": 8,
   "metadata": {
    "colab": {},
    "colab_type": "code",
    "id": "YVu354BqDi3-"
   },
   "outputs": [],
   "source": [
    "# // Display the composites.\n",
    "center = ROI.geometry().centroid().getInfo()['coordinates']\n",
    "center.reverse()\n",
    "# Create a visualization with folium\n",
    "visParams_l7 = {    \n",
    "  'bands': ['R', 'G', 'B'],\n",
    "  'min': 0,\n",
    "  'max': 0.5,\n",
    "  'gamma': 1.4,\n",
    "}\n",
    "\n",
    "l7Mapid = l7.getMapId(visParams_l7)\n",
    "Map.addLayer(l7, l7Mapid, 'L7', True, 0.5)\n",
    "# Mapdisplay(center,l7Mapid,zoom_start=8)\n"
   ]
  },
  {
   "cell_type": "code",
   "execution_count": null,
   "metadata": {
    "colab": {},
    "colab_type": "code",
    "id": "kz5EN73cDi6v"
   },
   "outputs": [],
   "source": []
  },
  {
   "cell_type": "code",
   "execution_count": null,
   "metadata": {
    "colab": {},
    "colab_type": "code",
    "id": "vnnuVybhDi_y"
   },
   "outputs": [],
   "source": []
  },
  {
   "cell_type": "code",
   "execution_count": null,
   "metadata": {
    "colab": {},
    "colab_type": "code",
    "id": "rdX2CkiUDjCA"
   },
   "outputs": [],
   "source": []
  },
  {
   "cell_type": "code",
   "execution_count": null,
   "metadata": {
    "colab": {},
    "colab_type": "code",
    "id": "3TBxItKhDjEd"
   },
   "outputs": [],
   "source": []
  },
  {
   "cell_type": "code",
   "execution_count": null,
   "metadata": {
    "colab": {},
    "colab_type": "code",
    "id": "HPfkfiOeDjHS"
   },
   "outputs": [],
   "source": []
  },
  {
   "cell_type": "code",
   "execution_count": null,
   "metadata": {
    "colab": {},
    "colab_type": "code",
    "id": "c-VseHEIDjJt"
   },
   "outputs": [],
   "source": [
    "df2.to_csv('filename.csv') \n",
    "files.download('filename.csv')"
   ]
  }
 ],
 "metadata": {
  "colab": {
   "authorship_tag": "ABX9TyOppwwGEV67hVFQS4HR7ZYq",
   "name": "collecting img L7 and L8.ipynb",
   "provenance": []
  },
  "kernelspec": {
   "display_name": "Python 3",
   "language": "python",
   "name": "python3"
  },
  "language_info": {
   "codemirror_mode": {
    "name": "ipython",
    "version": 3
   },
   "file_extension": ".py",
   "mimetype": "text/x-python",
   "name": "python",
   "nbconvert_exporter": "python",
   "pygments_lexer": "ipython3",
   "version": "3.8.5"
  },
  "widgets": {
   "application/vnd.jupyter.widget-state+json": {
    "64a452951c7a4b01a39bccb745a5739a": {
     "model_module": "jupyter-leaflet",
     "model_name": "LeafletMapModel",
     "state": {
      "_dom_classes": [],
      "_model_module": "jupyter-leaflet",
      "_model_module_version": "^0.13.2",
      "_model_name": "LeafletMapModel",
      "_view_count": null,
      "_view_module": "jupyter-leaflet",
      "_view_module_version": "^0.13.2",
      "_view_name": "LeafletMapView",
      "bottom": 0,
      "bounce_at_zoom_limits": true,
      "box_zoom": true,
      "center": [
       40,
       -100
      ],
      "close_popup_on_click": true,
      "controls": [
       "IPY_MODEL_71811830172840ebb35a6f04c8c84304",
       "IPY_MODEL_54db86d0c1c743d0a111c8a9f0184b49",
       "IPY_MODEL_0cea31ab7ba248ecb97e536dc08d20ad",
       "IPY_MODEL_eb8db0d42005488aa23cc1f532d58a8c",
       "IPY_MODEL_e4071fc2296c4b5e8f28f24446930cf6",
       "IPY_MODEL_cbf4cee65a6b4cff85c8c5fc5a90d303",
       "IPY_MODEL_48201e4154dd489d91f0e174f4ad9bf4",
       "IPY_MODEL_ee27e5d271aa48989900a8e55dca69e3",
       "IPY_MODEL_943f89cc715a449b8fc7019387961a1c",
       "IPY_MODEL_15652410c7814dd7acee182d8a323459",
       "IPY_MODEL_176582c3a539471ab5b2cfd924a6bb98",
       "IPY_MODEL_5c6426a9d842464d91fbcbd9f8f582f3",
       "IPY_MODEL_6bd77ee70ff248ed9ad44c60fa7c407b"
      ],
      "crs": {
       "custom": false,
       "name": "EPSG3857"
      },
      "default_style": "IPY_MODEL_301a899be8c34859ad0427869efcbb57",
      "double_click_zoom": true,
      "dragging": true,
      "dragging_style": "IPY_MODEL_2ef58122f4a34083ae0d24b45ed72603",
      "east": 0,
      "fullscreen": false,
      "inertia": true,
      "inertia_deceleration": 3000,
      "inertia_max_speed": 1500,
      "interpolation": "bilinear",
      "keyboard": true,
      "keyboard_pan_offset": 80,
      "keyboard_zoom_offset": 1,
      "layers": [
       "IPY_MODEL_584cf8ae92d7424d98e6dd945a49731d",
       "IPY_MODEL_922354f2499d4960aed7885d33c7c13e",
       "IPY_MODEL_fac1c54c8344401089b2f33be6c25fa2"
      ],
      "layout": "IPY_MODEL_ce2dfb454c0d4878ba598b116243e011",
      "left": 9007199254740991,
      "max_zoom": 18,
      "min_zoom": 1,
      "modisdate": "yesterday",
      "north": 0,
      "options": [
       "bounce_at_zoom_limits",
       "box_zoom",
       "center",
       "close_popup_on_click",
       "double_click_zoom",
       "dragging",
       "fullscreen",
       "inertia",
       "inertia_deceleration",
       "inertia_max_speed",
       "interpolation",
       "keyboard",
       "keyboard_pan_offset",
       "keyboard_zoom_offset",
       "max_zoom",
       "min_zoom",
       "scroll_wheel_zoom",
       "tap",
       "tap_tolerance",
       "touch_zoom",
       "world_copy_jump",
       "zoom",
       "zoom_animation_threshold",
       "zoom_delta",
       "zoom_snap",
       "zoom_start"
      ],
      "right": 0,
      "scroll_wheel_zoom": true,
      "south": 0,
      "style": "IPY_MODEL_8291574d40a543eb8a60e9dca9916c01",
      "tap": true,
      "tap_tolerance": 15,
      "top": 9007199254740991,
      "touch_zoom": true,
      "west": 0,
      "window_url": "",
      "world_copy_jump": false,
      "zoom": 4,
      "zoom_animation_threshold": 4,
      "zoom_delta": 1,
      "zoom_snap": 1,
      "zoom_start": 12
     }
    }
   }
  }
 },
 "nbformat": 4,
 "nbformat_minor": 4
}
