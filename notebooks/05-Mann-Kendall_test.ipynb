{
 "cells": [
  {
   "cell_type": "code",
   "execution_count": 1,
   "metadata": {},
   "outputs": [],
   "source": [
    "import numpy as np\n",
    "import pandas as pd\n",
    "import pymannkendall as mk\n",
    "import os, glob\n",
    "from pathlib import Path\n",
    "from matplotlib import pyplot\n",
    "import datetime\n",
    "from statsmodels.graphics.tsaplots import plot_acf\n",
    "import matplotlib.pyplot as plt"
   ]
  },
  {
   "cell_type": "code",
   "execution_count": 2,
   "metadata": {},
   "outputs": [],
   "source": [
    "g = os.getcwd()\n",
    "g\n",
    "path = 'D:\\\\repos\\\\CIAT\\\\IDB_PROJECT'\n",
    "os.chdir(path)"
   ]
  },
  {
   "cell_type": "markdown",
   "metadata": {},
   "source": [
    "# load smooth data"
   ]
  },
  {
   "cell_type": "code",
   "execution_count": 3,
   "metadata": {},
   "outputs": [],
   "source": [
    "alldf = pd.read_csv(\"Data_IDB/alldf_smooth.csv\")\n",
    "type(alldf.date[0])\n",
    "alldf.index = pd.to_datetime(alldf['date'])\n",
    "alldf['date'] = pd.to_datetime(alldf['date'])\n",
    "# alldf"
   ]
  },
  {
   "cell_type": "markdown",
   "metadata": {},
   "source": [
    "- mean moth by ID"
   ]
  },
  {
   "cell_type": "code",
   "execution_count": 4,
   "metadata": {},
   "outputs": [],
   "source": [
    "#create deseason data\n",
    "deseason_trends = pd.DataFrame() \n",
    "group_id= alldf.groupby([\"ID\"])\n",
    "for fid in alldf.ID.unique():\n",
    "#     print(fid)\n",
    "    ID = group_id.get_group(fid)\n",
    "    ID\n",
    "    monthly_mean = ID.resample('M').mean()\n",
    "    # monthly_mean.shift()\n",
    "    # ############deseason\n",
    "#     monthly_mean_diff = monthly_mean - monthly_mean.shift()\n",
    "#     monthly_mean_diff[\"ID\"] = monthly_mean[\"ID\"]\n",
    "    deseason_trends = pd.concat([deseason_trends,monthly_mean],axis=0)#\n",
    "    deseason_trends.dropna(inplace=True)\n",
    "# deseason_trends"
   ]
  },
  {
   "cell_type": "code",
   "execution_count": null,
   "metadata": {},
   "outputs": [],
   "source": []
  },
  {
   "cell_type": "code",
   "execution_count": 5,
   "metadata": {},
   "outputs": [],
   "source": [
    "deseason_trends.to_csv(\"Data_IDB/data_monthly.csv\")\n",
    "# deseason_trends"
   ]
  },
  {
   "cell_type": "markdown",
   "metadata": {},
   "source": [
    "- filter by year <=2014"
   ]
  },
  {
   "cell_type": "code",
   "execution_count": 35,
   "metadata": {},
   "outputs": [],
   "source": [
    "df_2014 = deseason_trends[deseason_trends.index<\"01-01-2015\"]"
   ]
  },
  {
   "cell_type": "code",
   "execution_count": 37,
   "metadata": {},
   "outputs": [
    {
     "name": "stderr",
     "output_type": "stream",
     "text": [
      "C:\\Users\\fmontenegro\\Miniconda3\\envs\\GEE\\lib\\site-packages\\pymannkendall\\pymannkendall.py:103: RuntimeWarning: invalid value encountered in sqrt\n",
      "  z = (s + 1)/np.sqrt(var_s)\n"
     ]
    }
   ],
   "source": [
    "groups = df_2014.groupby([\"ID\"],as_index=False)\n",
    "# groups.groups.keys()\n",
    "all_trends = pd.DataFrame()\n",
    "for fid in alldf.ID.unique():\n",
    "    db = groups.get_group(fid)\n",
    "    trends_Ori = mk.original_test(db.OSAVI) #period=12 \n",
    "    trends_Mod_rao = mk.hamed_rao_modification_test(np.array(db.OSAVI))\n",
    "    trends_Mod_yue =mk.yue_wang_modification_test(np.array(db.OSAVI))\n",
    "    trends_seasonal =mk.seasonal_test(np.array(db.OSAVI),period = 12)\n",
    "#     cor_seasonal =mk.correlated_seasonal_test(np.array(db.OSAVI),period = 12)\n",
    "    row = pd.DataFrame({'ID':[fid],'trend_Ori': [trends_Ori[0]],'Pvalue_Ori':[trends_Ori[2]],\n",
    "                        'trends_Mod_yue': [trends_Mod_yue[0]],'Pvalue_Mod_yue':[trends_Mod_yue[2]],\n",
    "                        'trends_Mod_rao': [trends_Mod_rao[0]],'Pvalue_Mod_rao':[trends_Mod_rao[2]],\n",
    "                        'trends_seasonal': [trends_seasonal[0]],'Pvalue_seasonal':[trends_seasonal[2]],\n",
    "                        'cor_seasonal': [cor_seasonal[0]],'Pvalue_seasonal_cor':[cor_seasonal[2]],\n",
    "                        'test': ['mandal kendal']})\n",
    "    all_trends = pd.concat([all_trends,row],ignore_index=True)\n",
    "\n",
    "all_trends.to_csv(\"Data_IDB/deseason_kendal_osavi_2014.csv\")"
   ]
  },
  {
   "cell_type": "markdown",
   "metadata": {},
   "source": [
    "# by YEAR"
   ]
  },
  {
   "cell_type": "code",
   "execution_count": null,
   "metadata": {},
   "outputs": [],
   "source": [
    "years = ['2012-12-31','2013-12-31','2014-12-31','2015-12-31','2016-12-31','2017-12-31','2018-12-31','2019-12-31']\n",
    "all_trends = pd.DataFrame()\n",
    "for fid in alldf.ID.unique():\n",
    "    db = groups.get_group(fid)\n",
    "    all_row = pd.DataFrame()\n",
    "    for year in years:\n",
    "        df_year = db[db.date<=year]\n",
    "        trends_by_year_Ori = mk.original_test(df_year.NDVI) #period=12 \n",
    "        trends_by_year_Mod = mk.yue_wang_modification_test(db.NDVI)\n",
    "        row = pd.DataFrame({'trend_Ori'+year[0:4]: [trends_by_year_Ori[0]],'trend_Mod'+year[0:4]: [trends_by_year_Mod[0]]})\n",
    "        all_row = pd.concat([all_row,row],axis = 1)\n",
    "    all_row['ID'] = fid\n",
    "    all_trends = pd.concat([all_trends,all_row],ignore_index=True)"
   ]
  },
  {
   "cell_type": "code",
   "execution_count": null,
   "metadata": {},
   "outputs": [],
   "source": [
    "years = ['2012-12-31','2013-12-31','2014-12-31','2015-12-31','2016-12-31','2017-12-31','2018-12-31','2019-12-31']\n",
    "years[0][0:4]"
   ]
  },
  {
   "cell_type": "code",
   "execution_count": null,
   "metadata": {},
   "outputs": [],
   "source": [
    "all_row"
   ]
  },
  {
   "cell_type": "code",
   "execution_count": null,
   "metadata": {},
   "outputs": [],
   "source": [
    "all_trends['test'] = \"mandal kendal\""
   ]
  },
  {
   "cell_type": "code",
   "execution_count": null,
   "metadata": {},
   "outputs": [],
   "source": [
    "all_trends"
   ]
  },
  {
   "cell_type": "markdown",
   "metadata": {},
   "source": [
    "- test No trend"
   ]
  },
  {
   "cell_type": "code",
   "execution_count": null,
   "metadata": {},
   "outputs": [],
   "source": [
    "all_trends[all_trends.ID==386511]"
   ]
  },
  {
   "cell_type": "code",
   "execution_count": null,
   "metadata": {},
   "outputs": [],
   "source": [
    "all_trends[all_trends.ID==396011]"
   ]
  },
  {
   "cell_type": "code",
   "execution_count": null,
   "metadata": {},
   "outputs": [],
   "source": []
  }
 ],
 "metadata": {
  "kernelspec": {
   "display_name": "Python (GEE)",
   "language": "python",
   "name": "gee"
  },
  "language_info": {
   "codemirror_mode": {
    "name": "ipython",
    "version": 3
   },
   "file_extension": ".py",
   "mimetype": "text/x-python",
   "name": "python",
   "nbconvert_exporter": "python",
   "pygments_lexer": "ipython3",
   "version": "3.8.5"
  }
 },
 "nbformat": 4,
 "nbformat_minor": 4
}
