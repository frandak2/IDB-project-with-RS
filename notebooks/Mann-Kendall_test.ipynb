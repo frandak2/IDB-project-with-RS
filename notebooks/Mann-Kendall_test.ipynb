{
 "cells": [
  {
   "cell_type": "code",
   "execution_count": 19,
   "metadata": {},
   "outputs": [],
   "source": [
    "import numpy as np\n",
    "import pymannkendall as mk\n",
    "import os, glob\n",
    "from pathlib import Path"
   ]
  },
  {
   "cell_type": "code",
   "execution_count": 20,
   "metadata": {},
   "outputs": [],
   "source": [
    "g = os.getcwd()\n",
    "g\n",
    "path = 'D:\\\\repos\\\\CIAT\\\\IDB_PROJECT'\n",
    "os.chdir(path)"
   ]
  },
  {
   "cell_type": "code",
   "execution_count": 8,
   "metadata": {},
   "outputs": [
    {
     "name": "stdout",
     "output_type": "stream",
     "text": [
      "Mann_Kendall_Test(trend='no trend', h=False, p=0.8316591122446664, z=-0.21257418035474465, Tau=-0.007520891364902507, s=-486.0, var_s=5205500.0, slope=-2.899035746111767e-05, intercept=0.547874331485398)\n"
     ]
    }
   ],
   "source": [
    "# Data generation for analysis\n",
    "data = np.random.rand(360,1)\n",
    "\n",
    "result = mk.original_test(data)\n",
    "print(result)"
   ]
  },
  {
   "cell_type": "code",
   "execution_count": 9,
   "metadata": {},
   "outputs": [
    {
     "name": "stdout",
     "output_type": "stream",
     "text": [
      "-2.899035746111767e-05\n"
     ]
    }
   ],
   "source": [
    "print(result.slope)"
   ]
  },
  {
   "cell_type": "code",
   "execution_count": null,
   "metadata": {},
   "outputs": [],
   "source": [
    "data"
   ]
  },
  {
   "cell_type": "code",
   "execution_count": 22,
   "metadata": {},
   "outputs": [
    {
     "data": {
      "text/plain": [
       "['Data_IDB\\\\FT\\\\L7_2011.csv',\n",
       " 'Data_IDB\\\\FT\\\\L7_2012.csv',\n",
       " 'Data_IDB\\\\FT\\\\L7_2013.csv',\n",
       " 'Data_IDB\\\\FT\\\\L7_2014.csv',\n",
       " 'Data_IDB\\\\FT\\\\L7_2016.csv',\n",
       " 'Data_IDB\\\\FT\\\\L8_2013.csv',\n",
       " 'Data_IDB\\\\FT\\\\L8_2014.csv',\n",
       " 'Data_IDB\\\\FT\\\\L8_2015.csv',\n",
       " 'Data_IDB\\\\FT\\\\L8_2016.csv',\n",
       " 'Data_IDB\\\\FT\\\\L8_2017.csv',\n",
       " 'Data_IDB\\\\FT\\\\L8_2018.csv',\n",
       " 'Data_IDB\\\\FT\\\\L8_2019.csv']"
      ]
     },
     "execution_count": 22,
     "metadata": {},
     "output_type": "execute_result"
    }
   ],
   "source": [
    "path =\"Data_IDB/FT\"\n",
    "ext = \"csv\"\n",
    "extention = r\"{}\".format(ext)\n",
    "direction = Path(r\"{}\".format(path))\n",
    "cameras_list = list(direction.glob(r\"*.{}*\".format(extention)))\n",
    "cameras = []\n",
    "for camera in cameras_list:\n",
    "    cameras.append(str(camera))\n",
    "cameras"
   ]
  },
  {
   "cell_type": "code",
   "execution_count": 15,
   "metadata": {},
   "outputs": [
    {
     "data": {
      "text/plain": [
       "['.ipynb_checkpoints',\n",
       " 'L7_2011.csv',\n",
       " 'L7_2012.csv',\n",
       " 'L7_2013.csv',\n",
       " 'L7_2014.csv',\n",
       " 'L7_2016.csv',\n",
       " 'L8_2013.csv',\n",
       " 'L8_2014.csv',\n",
       " 'L8_2015.csv',\n",
       " 'L8_2016.csv',\n",
       " 'L8_2017.csv',\n",
       " 'L8_2018.csv',\n",
       " 'L8_2019.csv']"
      ]
     },
     "execution_count": 15,
     "metadata": {},
     "output_type": "execute_result"
    }
   ],
   "source": [
    "os.listdir(i)"
   ]
  },
  {
   "cell_type": "code",
   "execution_count": null,
   "metadata": {},
   "outputs": [],
   "source": []
  }
 ],
 "metadata": {
  "kernelspec": {
   "display_name": "Python (GEE)",
   "language": "python",
   "name": "gee"
  },
  "language_info": {
   "codemirror_mode": {
    "name": "ipython",
    "version": 3
   },
   "file_extension": ".py",
   "mimetype": "text/x-python",
   "name": "python",
   "nbconvert_exporter": "python",
   "pygments_lexer": "ipython3",
   "version": "3.8.5"
  }
 },
 "nbformat": 4,
 "nbformat_minor": 4
}
