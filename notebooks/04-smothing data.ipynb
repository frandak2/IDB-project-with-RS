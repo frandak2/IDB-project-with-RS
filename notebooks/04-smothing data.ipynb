{
 "cells": [
  {
   "cell_type": "code",
   "execution_count": 8,
   "metadata": {},
   "outputs": [],
   "source": [
    "import pandas as pd\n",
    "import matplotlib.pyplot as plt\n",
    "# Display figures inline in Jupyter notebook\n",
    "import seaborn as sns\n",
    "import numpy as np\n",
    "from pathlib import Path\n",
    "from scipy import signal\n",
    "import datetime\n",
    "import numpy as np"
   ]
  },
  {
   "cell_type": "code",
   "execution_count": 9,
   "metadata": {},
   "outputs": [],
   "source": [
    "import os,glob\n",
    "g = os.getcwd()\n",
    "g\n",
    "path = 'D:\\\\repos\\\\CIAT\\\\IDB_PROJECT'\n",
    "os.chdir(path)"
   ]
  },
  {
   "cell_type": "code",
   "execution_count": 10,
   "metadata": {},
   "outputs": [
    {
     "data": {
      "text/plain": [
       "pandas._libs.tslibs.timestamps.Timestamp"
      ]
     },
     "execution_count": 10,
     "metadata": {},
     "output_type": "execute_result"
    }
   ],
   "source": [
    "df = pd.read_csv(\"Data_IDB/alldf.csv\")\n",
    "df['date'] = pd.to_datetime(df['date'], format='%Y-%m-%d')\n",
    "df.head()\n",
    "df.ID = df.ID.astype(int)\n",
    "df.head()\n",
    "type(df.date[0])"
   ]
  },
  {
   "cell_type": "markdown",
   "metadata": {},
   "source": [
    "# mean moth by ID "
   ]
  },
  {
   "cell_type": "code",
   "execution_count": 4,
   "metadata": {},
   "outputs": [
    {
     "data": {
      "text/html": [
       "<div>\n",
       "<style scoped>\n",
       "    .dataframe tbody tr th:only-of-type {\n",
       "        vertical-align: middle;\n",
       "    }\n",
       "\n",
       "    .dataframe tbody tr th {\n",
       "        vertical-align: top;\n",
       "    }\n",
       "\n",
       "    .dataframe thead th {\n",
       "        text-align: right;\n",
       "    }\n",
       "</style>\n",
       "<table border=\"1\" class=\"dataframe\">\n",
       "  <thead>\n",
       "    <tr style=\"text-align: right;\">\n",
       "      <th></th>\n",
       "      <th>ID</th>\n",
       "      <th>date</th>\n",
       "      <th>NDVI</th>\n",
       "      <th>OSAVI</th>\n",
       "      <th>EVI</th>\n",
       "      <th>NWVI</th>\n",
       "      <th>patca</th>\n",
       "    </tr>\n",
       "  </thead>\n",
       "  <tbody>\n",
       "    <tr>\n",
       "      <th>0</th>\n",
       "      <td>27611</td>\n",
       "      <td>2011-01-01</td>\n",
       "      <td>0.632409</td>\n",
       "      <td>0.445440</td>\n",
       "      <td>0.434433</td>\n",
       "      <td>-0.028498</td>\n",
       "      <td>0</td>\n",
       "    </tr>\n",
       "    <tr>\n",
       "      <th>1</th>\n",
       "      <td>27611</td>\n",
       "      <td>2011-01-17</td>\n",
       "      <td>0.599304</td>\n",
       "      <td>0.418618</td>\n",
       "      <td>0.404649</td>\n",
       "      <td>0.014193</td>\n",
       "      <td>0</td>\n",
       "    </tr>\n",
       "  </tbody>\n",
       "</table>\n",
       "</div>"
      ],
      "text/plain": [
       "      ID       date      NDVI     OSAVI       EVI      NWVI  patca\n",
       "0  27611 2011-01-01  0.632409  0.445440  0.434433 -0.028498      0\n",
       "1  27611 2011-01-17  0.599304  0.418618  0.404649  0.014193      0"
      ]
     },
     "execution_count": 4,
     "metadata": {},
     "output_type": "execute_result"
    }
   ],
   "source": [
    "ID = df[df.ID==df.ID[0]]\n",
    "\n",
    "months = []\n",
    "for year in range(2011,2020):\n",
    "    for moth in range(1,13):\n",
    "        Date = str(year)+\"-\"+str(moth)\n",
    "        date_time_obj = datetime.datetime.strptime(Date, '%Y-%m')\n",
    "        months.append(date_time_obj)\n",
    "        \n",
    "ts_id = pd.DataFrame()\n",
    "for i in range(1,len(months)):\n",
    "    date = ID[(ID.date>=months[i-1]) & (ID.date<=months[i])]\n",
    "    if len(date)>1:\n",
    "        mean = date.mean(0)\n",
    "        mean[\"date\"] = months[i-1]\n",
    "    else:\n",
    "        mean = date\n",
    "    mean = mean[[\"ID\",\"date\",\"NDVI\",\"OSAVI\",\"EVI\",\"NWVI\",\"patca\"]]\n",
    "#     ts_id = pd.concat([ts_id,mean],axis=1,ignore_index=True)\n",
    "# ts_id\n",
    "\n",
    "\n"
   ]
  },
  {
   "cell_type": "code",
   "execution_count": 21,
   "metadata": {},
   "outputs": [
    {
     "data": {
      "text/plain": [
       "108"
      ]
     },
     "execution_count": 21,
     "metadata": {},
     "output_type": "execute_result"
    }
   ],
   "source": [
    "i"
   ]
  },
  {
   "cell_type": "code",
   "execution_count": null,
   "metadata": {},
   "outputs": [],
   "source": []
  },
  {
   "cell_type": "markdown",
   "metadata": {},
   "source": [
    "# Smoothing data"
   ]
  },
  {
   "cell_type": "code",
   "execution_count": 11,
   "metadata": {},
   "outputs": [],
   "source": [
    "len(df[\"ID\"].unique())\n",
    "smooth_all = pd.DataFrame()\n",
    "for fid in df[\"ID\"].unique():\n",
    "    db = df[df.ID == fid]\n",
    "    smootdf = db[[\"NDVI\",\"OSAVI\",\"EVI\",\"NWVI\"]]\n",
    "    smootdf = smootdf.apply(lambda x: signal.savgol_filter(x,9, 2, mode='nearest'),0,result_type='broadcast')\n",
    "    smooth_merge_ID = pd.concat([db[[\"ID\",\"date\"]].reset_index(drop=True), smootdf.reset_index(drop=True)], axis=1)\n",
    "    smooth_all = smooth_all.append(smooth_merge_ID.reset_index(drop=True))\n",
    "    \n",
    "# smooth_all.to_csv(\"Data_IDB/alldf_smooth.csv\",index=False)"
   ]
  },
  {
   "cell_type": "code",
   "execution_count": 13,
   "metadata": {},
   "outputs": [
    {
     "data": {
      "text/plain": [
       "0   2011-01-01\n",
       "0   2011-02-11\n",
       "0   2011-03-15\n",
       "0   2011-03-31\n",
       "0   2011-03-15\n",
       "       ...    \n",
       "0   2011-01-01\n",
       "0   2011-01-01\n",
       "0   2011-01-01\n",
       "0   2011-01-01\n",
       "0   2011-01-01\n",
       "Name: date, Length: 377, dtype: datetime64[ns]"
      ]
     },
     "execution_count": 13,
     "metadata": {},
     "output_type": "execute_result"
    }
   ],
   "source": [
    "smooth_all.date[0]\n",
    "# melt_smooth = smooth_all.melt([\"date\",\"ID\"])\n",
    "# melt_smooth.head()\n",
    "# # melt_smooth[\"ID\"].unique()"
   ]
  },
  {
   "cell_type": "markdown",
   "metadata": {},
   "source": [
    "set param to plot trends"
   ]
  },
  {
   "cell_type": "code",
   "execution_count": null,
   "metadata": {},
   "outputs": [],
   "source": [
    "# sns.set_style(\"white\")\n",
    "rc={\"font.weight\":\"bold\",'figure.figsize':(30, 6),'axes.labelsize': 28, \n",
    "    'font.size': 28,'axes.titlesize': 28,'legend.fontsize': 18, 'axes.titlesize': 28,\n",
    "   \"lines.linewidth\": 2.5,'font.sans-serif': \"Times New Roman\"}\n",
    "# sns.set()\n",
    "sns.set(style=\"white\", rc=rc,font_scale = 1.8)\n",
    "\n",
    "DATE = pd.DataFrame({\n",
    "    'inside':['2011-01-01','2012-01-01','2013-01-01','2014-01-01','2015-01-01','2016-01-01','2017-01-01','2018-01-01','2019-01-01']\n",
    "})\n",
    "\n",
    "DATE['inside'] = pd.to_datetime(DATE['inside'], format='%Y-%m-%d')\n",
    "# DATE\n",
    "# sns.set_style(\"white\")\n",
    "# sns.set_context(\"paper\",rc=rc,font_scale = 1.5)"
   ]
  },
  {
   "cell_type": "markdown",
   "metadata": {},
   "source": [
    "# test graphs plot smooth trends "
   ]
  },
  {
   "cell_type": "code",
   "execution_count": null,
   "metadata": {},
   "outputs": [],
   "source": [
    "for fid in melt_smooth.ID.unique():\n",
    "    db_ID = melt_smooth[melt_smooth.ID == fid]# select data by ID\n",
    "    db_VI = db_ID[db_ID.variable != \"NWVI\"] # delete the data from water index\n",
    "\n",
    "    p = sns.lineplot('date', 'value', hue='variable',data=db_VI)\n",
    "    p.set(xlabel='Dates', ylabel='VIs value',title=\"Smooth Time serie for ID: \" + str(fid)) #+  str(df1.date.iloc[0][0:4])\n",
    "    # p.set_xticklabels(p.get_xticklabels(),rotation=30, horizontalalignment='right')\n",
    "\n",
    "    handles, labels = p.get_legend_handles_labels()\n",
    "    lgd = dict(zip(labels, handles))\n",
    "    p.legend(lgd.values(), lgd.keys(),loc='center left', bbox_to_anchor=(0.98, 0.5), ncol=1)\n",
    "    sns.despine()\n",
    "    for inside  in DATE.inside:\n",
    "        p.axvline(inside,color='r',label=\"start year\")\n",
    "    # # p.xticks(rotation=45)\n",
    "    # p.tick_params(axis='x', labelrotation=90)\n",
    "#     sns.despine()\n",
    "    figure = p.get_figure()\n",
    "    figure.savefig('Data_IDB/trends/TS_all-' + str(fid)+ '.png', dpi=600)\n",
    "    plt.clf()"
   ]
  },
  {
   "cell_type": "code",
   "execution_count": null,
   "metadata": {},
   "outputs": [],
   "source": []
  }
 ],
 "metadata": {
  "kernelspec": {
   "display_name": "Python (GEE)",
   "language": "python",
   "name": "gee"
  },
  "language_info": {
   "codemirror_mode": {
    "name": "ipython",
    "version": 3
   },
   "file_extension": ".py",
   "mimetype": "text/x-python",
   "name": "python",
   "nbconvert_exporter": "python",
   "pygments_lexer": "ipython3",
   "version": "3.8.5"
  }
 },
 "nbformat": 4,
 "nbformat_minor": 4
}
