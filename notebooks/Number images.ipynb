{
 "cells": [
  {
   "cell_type": "code",
   "execution_count": 1,
   "metadata": {
    "colab": {},
    "colab_type": "code",
    "id": "Xg2yihtA_vzJ"
   },
   "outputs": [],
   "source": [
    "import ee\n",
    "from ipygee import *\n",
    "import eeconvert\n",
    "import pandas as pd\n",
    "import geopandas as gpd\n",
    "import numpy as np\n",
    "ee.Initialize()"
   ]
  },
  {
   "cell_type": "code",
   "execution_count": 2,
   "metadata": {},
   "outputs": [],
   "source": [
    "import os,glob\n",
    "g = os.getcwd()\n",
    "g\n",
    "path = 'D:\\\\repos\\\\CIAT\\\\IDB_PROJECT'\n",
    "os.chdir(path)"
   ]
  },
  {
   "cell_type": "code",
   "execution_count": 3,
   "metadata": {
    "colab": {},
    "colab_type": "code",
    "id": "gyC8gfaBIY5S"
   },
   "outputs": [],
   "source": [
    "# import pandas as pd\n",
    "# import numpy as np\n",
    "import seaborn as sns\n",
    "import matplotlib.pyplot as plt\n",
    "\n",
    "rc={\"font.weight\":\"bold\",'figure.figsize':(12, 6),'axes.labelsize': 28,\n",
    "    'font.size': 28,'axes.titlesize': 28,'legend.fontsize': 18, 'axes.titlesize': 28,\n",
    "    \"lines.linewidth\": 2.5,'font.sans-serif': \"Times New Roman\"}\n",
    "sns.set(style=\"white\", rc=rc,font_scale = 1.8)\n",
    "# from sklearn.cluster import KMeans\n",
    "# from sklearn.decomposition import PCA\n",
    "# from sklearn.ensemble import RandomForestClassifier\n",
    "# from sklearn.model_selection import train_test_split\n",
    "# from sklearn.metrics import accuracy_score\n",
    "# from sklearn.metrics import confusion_matrix"
   ]
  },
  {
   "cell_type": "code",
   "execution_count": 4,
   "metadata": {
    "colab": {},
    "colab_type": "code",
    "id": "FmuhSyV5BjRw"
   },
   "outputs": [
    {
     "data": {
      "text/plain": [
       "<ee.featurecollection.FeatureCollection at 0x1b825e76be0>"
      ]
     },
     "execution_count": 4,
     "metadata": {},
     "output_type": "execute_result"
    }
   ],
   "source": [
    "Points = gpd.read_file(\"Data_IDB/new/Zona_influencia_DR.shp\")\n",
    "# print(Points.crs)\n",
    "Points = Points.to_crs(\"EPSG:4326\")\n",
    "ID = str(Points[\"cuest_id_b\"]) + str(Points[\"parcela\"])\n",
    "str1 = [str(int) for int in Points[\"cuest_id_b\"]] \n",
    "str2 = [str(int) for int in Points[\"parcela\"]]\n",
    "Points[\"ID\"] = [s1 + s2 for s1, s2 in zip(str1, str2)]\n",
    "ok = Points[Points['corregido2'].str.contains(\"ok\")]\n",
    "Points = ok[[\"ID\",\"patca\",'geometry']]\n",
    "# Points.to_csv(\"test.csv\")\n",
    "Points = eeconvert.gdfToFc(Points)\n",
    "Points"
   ]
  },
  {
   "cell_type": "code",
   "execution_count": 11,
   "metadata": {
    "colab": {},
    "colab_type": "code",
    "id": "gjoUXqErZGxz"
   },
   "outputs": [],
   "source": [
    "y = range(2011,2020)\n",
    "clud = 35\n",
    "df = pd.DataFrame()\n",
    "for i in y:\n",
    "    start = ee.Date.fromYMD(i,1,1)\n",
    "    end = ee.Date.fromYMD(i,12,31)\n",
    "    #         dataset5_T1 = ee.ImageCollection(\"LANDSAT/LT05/C01/T1_SR\").filterDate(start,end).filterBounds(ROI).size()####T1 is Data that meets geometric and radiometric quality requirements\n",
    "    #         \"LANDSAT/LT05/C01/T1_SR\" - 'LANDSAT/LT05/C01/T1_TOA'\n",
    "    dataset7_T1 = ee.ImageCollection('LANDSAT/LE07/C01/T1_TOA').filterDate(start,end).filterBounds(Points).size()####T1 is Data that meets geometric and radiometric quality requirements\n",
    "    #         \"LANDSAT/LE07/C01/T1_SR\" - 'LANDSAT/LE07/C01/T1_TOA'\n",
    "    # dataset7_T2 = ee.ImageCollection('LANDSAT/LE07/C01/T2_SR').filterDate(start,end).filterBounds(ROI).filterMetadata(\"CLOUD_COVER\", \"less_than\", clud).size()##T2 is Data that doesn't meet the Tier 1 requirements\n",
    "    dataset8_T1 = ee.ImageCollection(\"LANDSAT/LC08/C01/T1_TOA\").filterDate(start,end).filterBounds(Points).size()\n",
    "    #         \"LANDSAT/LC08/C01/T1_SR\" - \"LANDSAT/LC08/C01/T1_TOA\"\n",
    "    # dataset8_T2 = ee.ImageCollection(\"LANDSAT/LC08/C01/T2_SR\").filterDate(start,end).filterBounds(ROI).filterMetadata(\"CLOUD_COVER\", \"less_than\", clud).size()\n",
    "\n",
    "    a = pd.DataFrame({\"ano\" : [i],\n",
    "#                       \"L5\" : [dataset5_T1.getInfo()],\n",
    "                      \"L7\" : [dataset7_T1.getInfo()],\n",
    "                      \"L8\" : [dataset8_T1.getInfo()]})\n",
    "    df = df.append(a)"
   ]
  },
  {
   "cell_type": "code",
   "execution_count": 12,
   "metadata": {
    "colab": {
     "base_uri": "https://localhost:8080/",
     "height": 419
    },
    "colab_type": "code",
    "executionInfo": {
     "elapsed": 815,
     "status": "ok",
     "timestamp": 1595878757297,
     "user": {
      "displayName": "frank hurtado",
      "photoUrl": "https://lh3.googleusercontent.com/a-/AOh14Gj-C8anRFoHyX-VNPOZWaZyTYMZv_6RlRaozFxc=s64",
      "userId": "07768760401576123009"
     },
     "user_tz": 300
    },
    "id": "I8EHBYO8kS4T",
    "outputId": "22f04d61-2059-426f-b6e7-5e2704ca77a3"
   },
   "outputs": [
    {
     "data": {
      "text/html": [
       "<div>\n",
       "<style scoped>\n",
       "    .dataframe tbody tr th:only-of-type {\n",
       "        vertical-align: middle;\n",
       "    }\n",
       "\n",
       "    .dataframe tbody tr th {\n",
       "        vertical-align: top;\n",
       "    }\n",
       "\n",
       "    .dataframe thead th {\n",
       "        text-align: right;\n",
       "    }\n",
       "</style>\n",
       "<table border=\"1\" class=\"dataframe\">\n",
       "  <thead>\n",
       "    <tr style=\"text-align: right;\">\n",
       "      <th></th>\n",
       "      <th>ano</th>\n",
       "      <th>L7</th>\n",
       "      <th>L8</th>\n",
       "    </tr>\n",
       "  </thead>\n",
       "  <tbody>\n",
       "    <tr>\n",
       "      <th>0</th>\n",
       "      <td>2011</td>\n",
       "      <td>66</td>\n",
       "      <td>0</td>\n",
       "    </tr>\n",
       "    <tr>\n",
       "      <th>0</th>\n",
       "      <td>2012</td>\n",
       "      <td>69</td>\n",
       "      <td>0</td>\n",
       "    </tr>\n",
       "    <tr>\n",
       "      <th>0</th>\n",
       "      <td>2013</td>\n",
       "      <td>64</td>\n",
       "      <td>58</td>\n",
       "    </tr>\n",
       "    <tr>\n",
       "      <th>0</th>\n",
       "      <td>2014</td>\n",
       "      <td>2</td>\n",
       "      <td>103</td>\n",
       "    </tr>\n",
       "    <tr>\n",
       "      <th>0</th>\n",
       "      <td>2015</td>\n",
       "      <td>0</td>\n",
       "      <td>103</td>\n",
       "    </tr>\n",
       "    <tr>\n",
       "      <th>0</th>\n",
       "      <td>2016</td>\n",
       "      <td>9</td>\n",
       "      <td>99</td>\n",
       "    </tr>\n",
       "    <tr>\n",
       "      <th>0</th>\n",
       "      <td>2017</td>\n",
       "      <td>0</td>\n",
       "      <td>95</td>\n",
       "    </tr>\n",
       "    <tr>\n",
       "      <th>0</th>\n",
       "      <td>2018</td>\n",
       "      <td>0</td>\n",
       "      <td>107</td>\n",
       "    </tr>\n",
       "    <tr>\n",
       "      <th>0</th>\n",
       "      <td>2019</td>\n",
       "      <td>0</td>\n",
       "      <td>107</td>\n",
       "    </tr>\n",
       "  </tbody>\n",
       "</table>\n",
       "</div>"
      ],
      "text/plain": [
       "    ano  L7   L8\n",
       "0  2011  66    0\n",
       "0  2012  69    0\n",
       "0  2013  64   58\n",
       "0  2014   2  103\n",
       "0  2015   0  103\n",
       "0  2016   9   99\n",
       "0  2017   0   95\n",
       "0  2018   0  107\n",
       "0  2019   0  107"
      ]
     },
     "execution_count": 12,
     "metadata": {},
     "output_type": "execute_result"
    }
   ],
   "source": [
    "alldf_SR = df\n",
    "alldf_SR"
   ]
  },
  {
   "cell_type": "code",
   "execution_count": 13,
   "metadata": {
    "colab": {},
    "colab_type": "code",
    "id": "jQ2FgCm2_wDn"
   },
   "outputs": [],
   "source": [
    "# TOA = alldf_TOA_c.pivot_table(values=[\"L5\",\"L7\",\"L8\"], index=\"ano\", aggfunc='sum')\n",
    "SR = alldf_SR.pivot_table(values=[\"L7\",\"L8\"], index=\"ano\", aggfunc='sum')\n",
    "# .plot.bar(stacked=True)\n",
    "# locs, labels = plt.xticks()\n",
    "# plt.legend(loc='upper center', ncol=7, frameon=True, shadow=False, prop={'size':8})\n",
    "# plt.setp(labels, rotation=0, rotation_mode=\"anchor\", ha=\"center\")\n",
    "# plt.show()"
   ]
  },
  {
   "cell_type": "code",
   "execution_count": 14,
   "metadata": {
    "colab": {},
    "colab_type": "code",
    "id": "GgRC7mrN_wGX"
   },
   "outputs": [
    {
     "data": {
      "image/png": "[encoded data removed]",
      "text/plain": [
       "<Figure size 864x432 with 1 Axes>"
      ]
     },
     "metadata": {},
     "output_type": "display_data"
    }
   ],
   "source": [
    "p = SR.plot.bar(stacked=True)\n",
    "p.set(xlabel='Years', ylabel='No. of images',title=\"Number of Landsat images\")\n",
    "locs, labels = plt.xticks()\n",
    "# plt.legend(loc='upper center', ncol=7, frameon=True, shadow=False, prop={'size':8})\n",
    "p.legend(title='Landsat',loc='center left', bbox_to_anchor=(0.98, 0.5), ncol=1)\n",
    "# p.legend.set_title(\"Landsat\")\n",
    "sns.despine()\n",
    "plt.setp(labels, rotation=0, rotation_mode=\"anchor\", ha=\"center\")\n",
    "plt.show()"
   ]
  },
  {
   "cell_type": "code",
   "execution_count": null,
   "metadata": {
    "colab": {},
    "colab_type": "code",
    "id": "FCdq7Dyk_wI3"
   },
   "outputs": [],
   "source": [
    "SR['año'] = SR.index\n",
    "SR_melt = pd.melt(SR,\"año\")\n",
    "SR_melt\n",
    "\n",
    "t = sum(SR_melt.value)\n",
    "p = sum(SR_melt.value[SR_melt.variable==\"L7\"])\n",
    "# SR_melt.año<2013 - SR_melt.variable==\"L7\"\n",
    "po = (p*100)/t\n",
    "po\n",
    "t\n",
    "# g = sns.catplot(x=\"año\", y=\"value\", hue=\"variable\", data=SR_melt,\n",
    "#                 height=6, kind=\"bar\", palette=\"muted\")\n",
    "\n",
    "# SR_melt=SR_melt[SR_melt.variable != \"L5\"]\n",
    "# np.mean(SR_melt.value)\n"
   ]
  },
  {
   "cell_type": "code",
   "execution_count": null,
   "metadata": {},
   "outputs": [],
   "source": []
  }
 ],
 "metadata": {
  "colab": {
   "authorship_tag": "ABX9TyNq/Y3W+8Y9NwUfRzDr5s5L",
   "collapsed_sections": [],
   "name": "Number images.ipynb",
   "provenance": [
    {
     "file_id": "1Y01VQt5t9YY2xBh5itl0pJ6UWIcFd8Ga",
     "timestamp": 1595435786962
    }
   ]
  },
  "kernelspec": {
   "display_name": "Python 3",
   "language": "python",
   "name": "python3"
  },
  "language_info": {
   "codemirror_mode": {
    "name": "ipython",
    "version": 3
   },
   "file_extension": ".py",
   "mimetype": "text/x-python",
   "name": "python",
   "nbconvert_exporter": "python",
   "pygments_lexer": "ipython3",
   "version": "3.8.5"
  }
 },
 "nbformat": 4,
 "nbformat_minor": 4
}
