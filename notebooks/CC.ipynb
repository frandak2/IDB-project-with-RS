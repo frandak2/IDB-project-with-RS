{
 "cells": [
  {
   "cell_type": "code",
   "execution_count": 1,
   "metadata": {},
   "outputs": [],
   "source": [
    "import tempfile\n",
    "import pandas as pd\n",
    "import rasterio as rt\n",
    "import matplotlib.pyplot as plt\n",
    "import numpy as np\n",
    "import fiona\n",
    "import rasterio.mask\n",
    "from rasterio.plot import show\n",
    "from rasterio.io import MemoryFile\n",
    "import geopandas as gpd\n",
    "import shapely\n",
    "from shapely.geometry import Polygon\n",
    "import cv2\n",
    "from skimage import data\n",
    "from skimage.filters import threshold_multiotsu\n",
    "from scipy import stats\n",
    "import subprocess\n",
    "import os\n",
    "import scipy.ndimage"
   ]
  },
  {
   "cell_type": "code",
   "execution_count": 5,
   "metadata": {},
   "outputs": [],
   "source": [
    "def CC(img,dem,shp):\n",
    "#     img = \"G3_CC/2019_08_29_11_53/02_Mosaic_Project/RGB.tif\"\n",
    "#         shp = \"G3_CC/05_ROI/PLOTS.shp\"\n",
    "#         dem = \"G3_CC/2019_08_29_11_53/02_Mosaic_Project/DEMO.tif\"\n",
    "    dem = rt.open(dem)\n",
    "    src = rt.open(img)## read img\n",
    "    \n",
    "    np.seterr(divide='ignore', invalid='ignore')\n",
    "    blue = src.read(3).astype(float)\n",
    "    green = src.read(2).astype(float)\n",
    "    red = src.read(1).astype(float)\n",
    "    VI = ((green - red) + (green - blue)) / ((2 * green) + red + blue)###GLI\n",
    "#     VI = (green - red) / (green + red) #create VI visible\n",
    "\n",
    "    out_meta = src.meta\n",
    "    out_meta.update(\n",
    "        dtype=rt.float32,\n",
    "        count = 1)\n",
    "    path = 'temp/GLI.tif'\n",
    "    with rt.open(path, \"w\", **out_meta) as dest:\n",
    "        dest.write_band(1, VI.astype(rt.float32))## write img\n",
    "\n",
    "    def getFeatures(gdf,clumn_label,label): #create function for select ROI for ID and transform to GeoJson\n",
    "        import json\n",
    "        new = gdf[gdf[clumn_label]==label]\n",
    "        new = new.dissolve(by=clumn_label)\n",
    "        return [json.loads(new.to_json())['features'][0][\"geometry\"]]\n",
    "\n",
    "    roi = gpd.read_file(shp)\n",
    "    VI = rt.open(path)\n",
    "    alldf = pd.DataFrame()\n",
    "    for ID in roi.ID:\n",
    "#         ID = 662\n",
    "        path_vi = 'temp/mask_VI.tif'\n",
    "        path_dem = 'temp/mask_dem.tif'\n",
    "        path_mask_dem = 'temp/mask_th.tif'\n",
    "        path_mask_dem_rs = 'temp/mask_th_resample.tif'\n",
    "        paths = [path_vi,path_dem,path_mask_dem,path_mask_dem_rs]\n",
    "        for i in paths:\n",
    "            if os.path.exists(i):\n",
    "                os.remove(i)\n",
    "        coords = getFeatures(roi,\"ID\",ID) #run fuction extrac ID from ROI\n",
    "        ############mask IMG\n",
    "        out_image, out_transform = rt.mask.mask(VI, coords, crop=True) #extrac by mask\n",
    "        out_meta = VI.meta\n",
    "        out_meta.update({\"driver\": \"GTiff\",\n",
    "                         \"height\": out_image.shape[1],\n",
    "                         \"width\": out_image.shape[2],\n",
    "                         \"transform\": out_transform})\n",
    "        out_image[out_image==0] = np.nan\n",
    "\n",
    "        with rt.open(path_vi, \"w\", **out_meta) as dest:## write img\n",
    "            dest.write(out_image)\n",
    "        #############mask DEM\n",
    "        out_image, out_transform = rt.mask.mask(dem, coords, crop=True)\n",
    "        out_meta = dem.meta\n",
    "        out_meta.update({\"driver\": \"GTiff\",\n",
    "                         \"height\": out_image.shape[1],\n",
    "                         \"width\": out_image.shape[2],\n",
    "                         \"transform\": out_transform})\n",
    "        with rasterio.open(path_dem, \"w\", **out_meta) as dest:\n",
    "            dest.write(out_image)\n",
    "        # # ##################   Create threshold img from VI\n",
    "        clipped_img = rt.open(path_vi)\n",
    "        Img = clipped_img.read(1)#img to array\n",
    "        mean_img = np.nanmean(Img)\n",
    "        max_img = np.nanmax(Img)\n",
    "        ################### Create threshold DEM\n",
    "        clipped_dem = rasterio.open(path_dem)\n",
    "        Dem = clipped_dem.read(1)\n",
    "        Dem[Dem==clipped_dem.nodatavals[0]]=np.nan\n",
    "#         std_dem = np.nanstd(Dem)\n",
    "#         mean_dem = np.nanmean(Dem)\n",
    "        min_dem = np.nanmin(Dem)\n",
    "        max_dem = np.nanmax(Dem)\n",
    "        delta = ((max_dem-min_dem)/3)*2.5\n",
    "        th = max_dem - delta\n",
    "        if mean_img<=0.1:\n",
    "            ret, bin_img = cv2.threshold(Img, 0.035, 1,  cv2.THRESH_BINARY)#GLI SOIL 0.2 NGRDI 0 SOIL\n",
    "            mask = bin_img\n",
    "        elif mean_img>0.1 and mean_img<=0.385:\n",
    "            ret, bin_img = cv2.threshold(Img, 0.035, 1,  cv2.THRESH_BINARY)\n",
    "\n",
    "            ret, bin_dem = cv2.threshold(Dem, th, 1,  cv2.THRESH_BINARY)\n",
    "            clipped_dem = rt.open(path_dem)\n",
    "            out_meta = clipped_dem.meta\n",
    "            out_meta.update({\"driver\": \"GTiff\",\n",
    "                             'nodata': 0,\n",
    "                             \"height\": bin_dem.shape[0],\n",
    "                             \"width\": bin_dem.shape[1],\n",
    "                             \"dtype\":rt.int8})\n",
    "            with rasterio.open(path_mask_dem, \"w\", **out_meta) as dest:\n",
    "                dest.write_band(1, bin_dem.astype(rt.int8))\n",
    "            args = [\n",
    "                'gdalwarp',\n",
    "                '-tr', str(clipped_img.transform[0]), str(-clipped_img.transform[4]),\n",
    "                '-r', 'bilinear',\n",
    "                path_mask_dem, path_mask_dem_rs]\n",
    "            subprocess.call(args)\n",
    "            resample = rt.open(path_mask_dem_rs)\n",
    "            img_rs = resample.read(1)\n",
    "            if img_rs.shape == bin_img.shape:\n",
    "                mask = img_rs*bin_img\n",
    "            else:\n",
    "                row = img_rs.shape[0] - bin_img.shape[0]\n",
    "                col = img_rs.shape[1] - bin_img.shape[1]\n",
    "                if row>=1:\n",
    "                    img_rs = np.delete(img_rs, np.s_[0:row], axis=0)\n",
    "                if col>=1:\n",
    "                    img_rs = np.delete(img_rs, np.s_[0:col], axis=1)\n",
    "                if row<=-1:\n",
    "                    bin_img = np.delete(bin_img, np.s_[0:abs(row)], axis=0)\n",
    "                if col<=-1:\n",
    "                    bin_img = np.delete(bin_img, np.s_[0:abs(col)], axis=1)\n",
    "                mask = img_rs*bin_img\n",
    "            del(resample)\n",
    "        else:\n",
    "            ret, bin_img = cv2.threshold(Img, 0.035, 1,  cv2.THRESH_BINARY)\n",
    "            mask = bin_img\n",
    "        clipped_img = rt.open(path_vi)\n",
    "        Img = clipped_img.read(1)\n",
    "        Img[Img==clipped_img.nodatavals[0]]=np.nan\n",
    "        Img[Img>=np.nanmin(Img)]=1\n",
    "        out_meta = clipped_img.meta\n",
    "        gt = clipped_img.transform\n",
    "        pixelSizeX = gt[0]\n",
    "        pixelSizeY =-gt[4]\n",
    "        a = np.nansum(Img)*pixelSizeX*pixelSizeY\n",
    "        b = pixelSizeX*pixelSizeY*np.nansum(mask)\n",
    "        c = (b*100)/a\n",
    "        del(clipped_img,clipped_dem)\n",
    "        alldf = alldf.append({\"Plots\" : ID, \"Area%\" : round(c,3)}, ignore_index=True)\n",
    "#     \"mean_img\": mean_img,\"mean_dem\": mean_dem,\"std_dem\":std_dem,\"min_dem\": min_dem,\"max_dem\":max_dem,\"th_dem\": th\n",
    "    return alldf"
   ]
  },
  {
   "cell_type": "code",
   "execution_count": 6,
   "metadata": {},
   "outputs": [
    {
     "data": {
      "text/plain": [
       "[WindowsPath('G3_CC/2019_04_17_11_35/02_Mosaic_Project/DEMO.tif'),\n",
       " WindowsPath('G3_CC/2019_06_04_13_39/02_Mosaic_Project/DEMO.tif'),\n",
       " WindowsPath('G3_CC/2019_06_21_14_04/02_Mosaic_Project/DEMO.tif'),\n",
       " WindowsPath('G3_CC/2019_07_16_15_15f/02_Mosaic_Project/DEMO.tif'),\n",
       " WindowsPath('G3_CC/2019_08_29_11_53/02_Mosaic_Project/DEMO.tif'),\n",
       " WindowsPath('G3_CC/2019_09_04_10_25/02_Mosaic_Project/DEMO.tif'),\n",
       " WindowsPath('G3_CC/2019_09_13_10_30/02_Mosaic_Project/DEMO.tif'),\n",
       " WindowsPath('G3_CC/2019_09_26_13_51/02_Mosaic_Project/DEMO.tif'),\n",
       " WindowsPath('G3_CC/2019_10_10_14_14/02_Mosaic_Project/DEMO.tif'),\n",
       " WindowsPath('G3_CC/2019_10_31_10_44/02_Mosaic_Project/DEMO.tif'),\n",
       " WindowsPath('G3_CC/2019_11_07_11_33/02_Mosaic_Project/DEMO.tif'),\n",
       " WindowsPath('G3_CC/2019_12_04_11_02/02_Mosaic_Project/DEMO.tif'),\n",
       " WindowsPath('G3_CC/2020_01_15_08_58/02_Mosaic_Project/DEMO.tif'),\n",
       " WindowsPath('G3_CC/2020_01_23_10_33/02_Mosaic_Project/DEMO.tif'),\n",
       " WindowsPath('G3_CC/2020_02_10_10_30/02_Mosaic_Project/DEMO.tif')]"
      ]
     },
     "execution_count": 6,
     "metadata": {},
     "output_type": "execute_result"
    }
   ],
   "source": [
    "from pathlib import Path\n",
    "from itertools import chain\n",
    "path = \"G3_CC\"\n",
    "ext = \"tif\"\n",
    "extention = r\"{}\".format(ext)\n",
    "direction = Path(r\"{}\".format(path))\n",
    "img_list = list(direction.glob(r\"**/**/RGB.{}*\".format(extention)))\n",
    "dem_list = list(direction.glob(r\"**/**/DEMO.{}*\".format(extention)))\n",
    "# dsm_list = list(direction.glob(r\"**/**/DSM.{}*\".format(extention)))\n",
    "# print(len(img_list[:4]))\n",
    "# len(dem_list[:4])\n",
    "dem_list\n",
    "# img_list"
   ]
  },
  {
   "cell_type": "code",
   "execution_count": 4,
   "metadata": {},
   "outputs": [
    {
     "data": {
      "text/plain": [
       "[WindowsPath('G3_CC/2019_04_17_11_35/02_Mosaic_Project/RGB.tif'),\n",
       " WindowsPath('G3_CC/2019_06_04_13_39/02_Mosaic_Project/RGB.tif'),\n",
       " WindowsPath('G3_CC/2019_06_21_14_04/02_Mosaic_Project/RGB.tif'),\n",
       " WindowsPath('G3_CC/2019_07_16_15_15f/02_Mosaic_Project/RGB.tif'),\n",
       " WindowsPath('G3_CC/2019_08_29_11_53/02_Mosaic_Project/RGB.tif'),\n",
       " WindowsPath('G3_CC/2019_09_04_10_25/02_Mosaic_Project/RGB.tif'),\n",
       " WindowsPath('G3_CC/2019_09_13_10_30/02_Mosaic_Project/RGB.tif'),\n",
       " WindowsPath('G3_CC/2019_09_26_13_51/02_Mosaic_Project/RGB.tif'),\n",
       " WindowsPath('G3_CC/2019_10_10_14_14/02_Mosaic_Project/RGB.tif'),\n",
       " WindowsPath('G3_CC/2019_10_31_10_44/02_Mosaic_Project/RGB.tif'),\n",
       " WindowsPath('G3_CC/2019_11_07_11_33/02_Mosaic_Project/RGB.tif'),\n",
       " WindowsPath('G3_CC/2019_12_04_11_02/02_Mosaic_Project/RGB.tif'),\n",
       " WindowsPath('G3_CC/2020_01_15_08_58/02_Mosaic_Project/RGB.tif'),\n",
       " WindowsPath('G3_CC/2020_01_23_10_33/02_Mosaic_Project/RGB.tif'),\n",
       " WindowsPath('G3_CC/2020_02_10_10_30/02_Mosaic_Project/RGB.tif')]"
      ]
     },
     "execution_count": 4,
     "metadata": {},
     "output_type": "execute_result"
    }
   ],
   "source": [
    "img_list"
   ]
  },
  {
   "cell_type": "code",
   "execution_count": 7,
   "metadata": {},
   "outputs": [
    {
     "ename": "TypeError",
     "evalue": "'WindowsPath' object is not iterable",
     "output_type": "error",
     "traceback": [
      "\u001b[1;31m---------------------------------------------------------------------------\u001b[0m",
      "\u001b[1;31mTypeError\u001b[0m                                 Traceback (most recent call last)",
      "\u001b[1;32m<ipython-input-7-b529d3ecf3a7>\u001b[0m in \u001b[0;36m<module>\u001b[1;34m\u001b[0m\n\u001b[0;32m      1\u001b[0m \u001b[1;32mimport\u001b[0m \u001b[0mtimeit\u001b[0m\u001b[1;33m\u001b[0m\u001b[1;33m\u001b[0m\u001b[0m\n\u001b[0;32m      2\u001b[0m \u001b[0mstart\u001b[0m \u001b[1;33m=\u001b[0m \u001b[0mtimeit\u001b[0m\u001b[1;33m.\u001b[0m\u001b[0mtimeit\u001b[0m\u001b[1;33m(\u001b[0m\u001b[1;33m)\u001b[0m\u001b[1;33m\u001b[0m\u001b[1;33m\u001b[0m\u001b[0m\n\u001b[1;32m----> 3\u001b[1;33m \u001b[1;32mfor\u001b[0m \u001b[0mi\u001b[0m \u001b[1;32min\u001b[0m \u001b[0mzip\u001b[0m\u001b[1;33m(\u001b[0m\u001b[0mimg_list\u001b[0m\u001b[1;33m[\u001b[0m\u001b[1;36m2\u001b[0m\u001b[1;33m]\u001b[0m\u001b[1;33m,\u001b[0m\u001b[0mdem_list\u001b[0m\u001b[1;33m[\u001b[0m\u001b[1;36m2\u001b[0m\u001b[1;33m]\u001b[0m\u001b[1;33m)\u001b[0m\u001b[1;33m:\u001b[0m\u001b[1;33m\u001b[0m\u001b[1;33m\u001b[0m\u001b[0m\n\u001b[0m\u001b[0;32m      4\u001b[0m     \u001b[0mcc\u001b[0m \u001b[1;33m=\u001b[0m \u001b[0mCC\u001b[0m\u001b[1;33m(\u001b[0m\u001b[0mimg\u001b[0m \u001b[1;33m=\u001b[0m \u001b[0mi\u001b[0m\u001b[1;33m[\u001b[0m\u001b[1;36m0\u001b[0m\u001b[1;33m]\u001b[0m\u001b[1;33m,\u001b[0m\u001b[0mdem\u001b[0m \u001b[1;33m=\u001b[0m \u001b[0mi\u001b[0m\u001b[1;33m[\u001b[0m\u001b[1;36m1\u001b[0m\u001b[1;33m]\u001b[0m\u001b[1;33m,\u001b[0m \u001b[0mshp\u001b[0m \u001b[1;33m=\u001b[0m \u001b[1;34m\"G3_CC/05_ROI/PLOTS.shp\"\u001b[0m\u001b[1;33m)\u001b[0m\u001b[1;33m\u001b[0m\u001b[1;33m\u001b[0m\u001b[0m\n\u001b[0;32m      5\u001b[0m     \u001b[0mcc\u001b[0m\u001b[1;33m[\u001b[0m\u001b[1;34m\"Date\"\u001b[0m\u001b[1;33m]\u001b[0m \u001b[1;33m=\u001b[0m \u001b[0mstr\u001b[0m\u001b[1;33m(\u001b[0m\u001b[0mi\u001b[0m\u001b[1;33m)\u001b[0m\u001b[1;33m[\u001b[0m\u001b[1;36m20\u001b[0m\u001b[1;33m:\u001b[0m\u001b[1;36m30\u001b[0m\u001b[1;33m]\u001b[0m\u001b[1;33m\u001b[0m\u001b[1;33m\u001b[0m\u001b[0m\n",
      "\u001b[1;31mTypeError\u001b[0m: 'WindowsPath' object is not iterable"
     ]
    }
   ],
   "source": [
    "import timeit\n",
    "start = timeit.timeit()\n",
    "for i in zip(img_list[2],dem_list[2]):\n",
    "    cc = CC(img = i[0],dem = i[1], shp = \"G3_CC/05_ROI/PLOTS.shp\")\n",
    "    cc[\"Date\"] = str(i)[20:30]\n",
    "    path = \"index/cc_\"+str(i)[20:30]+\"GLI.csv\"\n",
    "    cc.to_csv(path,index=False)\n",
    "    print(i)\n",
    "end = timeit.timeit()\n",
    "print(end - start)"
   ]
  },
  {
   "cell_type": "code",
   "execution_count": 15,
   "metadata": {},
   "outputs": [
    {
     "ename": "NameError",
     "evalue": "name 'i' is not defined",
     "output_type": "error",
     "traceback": [
      "\u001b[1;31m---------------------------------------------------------------------------\u001b[0m",
      "\u001b[1;31mNameError\u001b[0m                                 Traceback (most recent call last)",
      "\u001b[1;32m<ipython-input-15-31034e696800>\u001b[0m in \u001b[0;36m<module>\u001b[1;34m\u001b[0m\n\u001b[0;32m      1\u001b[0m \u001b[0mcc\u001b[0m \u001b[1;33m=\u001b[0m \u001b[0mCC\u001b[0m\u001b[1;33m(\u001b[0m\u001b[0mimg\u001b[0m \u001b[1;33m=\u001b[0m \u001b[0mimg_list\u001b[0m\u001b[1;33m[\u001b[0m\u001b[1;36m1\u001b[0m\u001b[1;33m]\u001b[0m\u001b[1;33m,\u001b[0m\u001b[0mdem\u001b[0m \u001b[1;33m=\u001b[0m \u001b[0mdem_list\u001b[0m\u001b[1;33m[\u001b[0m\u001b[1;36m1\u001b[0m\u001b[1;33m]\u001b[0m\u001b[1;33m,\u001b[0m \u001b[0mshp\u001b[0m \u001b[1;33m=\u001b[0m \u001b[1;34m\"G3_CC/05_ROI/PLOTS.shp\"\u001b[0m\u001b[1;33m)\u001b[0m\u001b[1;33m\u001b[0m\u001b[1;33m\u001b[0m\u001b[0m\n\u001b[0;32m      2\u001b[0m \u001b[0mcc\u001b[0m\u001b[1;33m[\u001b[0m\u001b[1;34m\"Date\"\u001b[0m\u001b[1;33m]\u001b[0m \u001b[1;33m=\u001b[0m \u001b[0mstr\u001b[0m\u001b[1;33m(\u001b[0m\u001b[0mimg_list\u001b[0m\u001b[1;33m[\u001b[0m\u001b[1;36m1\u001b[0m\u001b[1;33m]\u001b[0m\u001b[1;33m)\u001b[0m\u001b[1;33m[\u001b[0m\u001b[1;36m6\u001b[0m\u001b[1;33m:\u001b[0m\u001b[1;36m16\u001b[0m\u001b[1;33m]\u001b[0m\u001b[1;33m\u001b[0m\u001b[1;33m\u001b[0m\u001b[0m\n\u001b[1;32m----> 3\u001b[1;33m \u001b[0mpath\u001b[0m \u001b[1;33m=\u001b[0m \u001b[1;34m\"index/cc_\"\u001b[0m\u001b[1;33m+\u001b[0m\u001b[0mstr\u001b[0m\u001b[1;33m(\u001b[0m\u001b[0mi\u001b[0m\u001b[1;33m)\u001b[0m\u001b[1;33m[\u001b[0m\u001b[1;36m20\u001b[0m\u001b[1;33m:\u001b[0m\u001b[1;36m30\u001b[0m\u001b[1;33m]\u001b[0m\u001b[1;33m+\u001b[0m\u001b[1;34m\"GLI.csv\"\u001b[0m\u001b[1;33m\u001b[0m\u001b[1;33m\u001b[0m\u001b[0m\n\u001b[0m\u001b[0;32m      4\u001b[0m \u001b[0mcc\u001b[0m\u001b[1;33m.\u001b[0m\u001b[0mto_csv\u001b[0m\u001b[1;33m(\u001b[0m\u001b[0mpath\u001b[0m\u001b[1;33m,\u001b[0m\u001b[0mindex\u001b[0m\u001b[1;33m=\u001b[0m\u001b[1;32mFalse\u001b[0m\u001b[1;33m)\u001b[0m\u001b[1;33m\u001b[0m\u001b[1;33m\u001b[0m\u001b[0m\n",
      "\u001b[1;31mNameError\u001b[0m: name 'i' is not defined"
     ]
    }
   ],
   "source": [
    "files = os.listdir('index')\n",
    "alldf = pd.DataFrame()\n",
    "for file in files:\n",
    "    df = pd.read_csv(\"index/\"+file)\n",
    "    df = df[[\"Area%\",\"Plots\",\"Date\"]]\n",
    "    alldf = pd.concat([alldf,df],ignore_index=True)\n",
    "alldf.to_csv(\"index/alldf_new.csv\")"
   ]
  },
  {
   "cell_type": "code",
   "execution_count": 60,
   "metadata": {},
   "outputs": [],
   "source": [
    "cc = CC(img = img_list[1],dem = dem_list[1], shp = \"G3_CC/05_ROI/PLOTS.shp\")\n",
    "cc[\"Date\"] = str(img_list[1])[6:16]\n",
    "path = \"index/cc_\"+str(img_list[1])[6:16]+\"GLI.csv\"\n",
    "cc.to_csv(path,index=False)"
   ]
  },
  {
   "cell_type": "code",
   "execution_count": 58,
   "metadata": {},
   "outputs": [
    {
     "data": {
      "text/plain": [
       "<Projected CRS: PROJCS[\"MAGNA_SIRGAS_Colombia_West_zone\",GEOGCS[\"G ...>\n",
       "Name: MAGNA_SIRGAS_Colombia_West_zone\n",
       "Axis Info [cartesian]:\n",
       "- [east]: Easting (metre)\n",
       "- [north]: Northing (metre)\n",
       "Area of Use:\n",
       "- undefined\n",
       "Coordinate Operation:\n",
       "- name: unnamed\n",
       "- method: Transverse Mercator\n",
       "Datum: Marco Geocentrico Nacional de Referencia\n",
       "- Ellipsoid: GRS 1980\n",
       "- Prime Meridian: Greenwich"
      ]
     },
     "execution_count": 58,
     "metadata": {},
     "output_type": "execute_result"
    }
   ],
   "source": [
    "shp = \"G3_CC/05_ROI/PLOTS.shp\"\n",
    "path = img_list[1]\n",
    "VI = rt.open(path)\n",
    "roi = gpd.read_file(shp)\n",
    "roi.crs"
   ]
  },
  {
   "cell_type": "code",
   "execution_count": 59,
   "metadata": {},
   "outputs": [
    {
     "data": {
      "text/plain": [
       "<Projected CRS: EPSG:3115>\n",
       "Name: MAGNA-SIRGAS / Colombia West zone\n",
       "Axis Info [cartesian]:\n",
       "- N[north]: Northing (metre)\n",
       "- E[east]: Easting (metre)\n",
       "Area of Use:\n",
       "- name: Colombia - 78°35'W to 75°35'W\n",
       "- bounds: (-78.59, 0.03, -75.58, 10.21)\n",
       "Coordinate Operation:\n",
       "- name: Colombia MAGNA West zone\n",
       "- method: Transverse Mercator\n",
       "Datum: Marco Geocentrico Nacional de Referencia\n",
       "- Ellipsoid: GRS 1980\n",
       "- Prime Meridian: Greenwich"
      ]
     },
     "execution_count": 59,
     "metadata": {},
     "output_type": "execute_result"
    }
   ],
   "source": [
    "str(VI.crs)\n",
    "roi = roi.to_crs(str(VI.crs))\n",
    "roi.crs"
   ]
  },
  {
   "cell_type": "code",
   "execution_count": null,
   "metadata": {},
   "outputs": [],
   "source": []
  }
 ],
 "metadata": {
  "kernelspec": {
   "display_name": "Python 3",
   "language": "python",
   "name": "python3"
  },
  "language_info": {
   "codemirror_mode": {
    "name": "ipython",
    "version": 3
   },
   "file_extension": ".py",
   "mimetype": "text/x-python",
   "name": "python",
   "nbconvert_exporter": "python",
   "pygments_lexer": "ipython3",
   "version": "3.8.5"
  }
 },
 "nbformat": 4,
 "nbformat_minor": 4
}
